{
  "nbformat": 4,
  "nbformat_minor": 0,
  "metadata": {
    "colab": {
      "name": "Modelos de ensamble, SVM y Redes neuronales para titanic dataset.ipynb",
      "provenance": [],
      "collapsed_sections": [
        "mdDyiVgKN0Gm",
        "eHsuCVFH49dd",
        "GNE0GSUR-nqE",
        "AbQ4E478A0NH"
      ]
    },
    "kernelspec": {
      "name": "python3",
      "display_name": "Python 3"
    },
    "language_info": {
      "name": "python"
    },
    "accelerator": "GPU"
  },
  "cells": [
    {
      "cell_type": "markdown",
      "metadata": {
        "id": "H8LVl_j-RoET"
      },
      "source": [
        "# Introducción al Aprendizaje Automático &nbsp;&nbsp;&nbsp;&nbsp;&nbsp;&nbsp; &nbsp;&nbsp;&nbsp;&nbsp;&nbsp;&nbsp; &nbsp;&nbsp;&nbsp;&nbsp;&nbsp;&nbsp; &nbsp;&nbsp;&nbsp;&nbsp;&nbsp;&nbsp; &nbsp;&nbsp;&nbsp;&nbsp;&nbsp;&nbsp; &nbsp;&nbsp;&nbsp;&nbsp;&nbsp;&nbsp; &nbsp;&nbsp;&nbsp;&nbsp;&nbsp;&nbsp; &nbsp;&nbsp;&nbsp;&nbsp;&nbsp; UANL - FCFM\n",
        "---\n",
        "## Modelos de ensamble, SVM y Redes neuronales para datos del titanic\n",
        "\n",
        "**Alumnos**\n",
        "- Ian Mauricio Saucedo Alemán &nbsp;&nbsp;&nbsp;&nbsp;&nbsp;&nbsp;&nbsp;&nbsp;&nbsp; 1868954\n",
        "- Sebastian Ibarra Rodriguez  &nbsp;&nbsp;&nbsp;&nbsp; &nbsp;&nbsp;&nbsp;&nbsp;&nbsp;&nbsp;&nbsp;&nbsp;&nbsp;&nbsp;1858846\n",
        "- Andrés Isaac Montes Bartolo&nbsp;&nbsp; &nbsp;&nbsp;&nbsp;&nbsp;&nbsp;&nbsp;&nbsp;&nbsp;&nbsp;&nbsp;1854017\n",
        "- Marco Antonio Vázquez Rivera&nbsp;&nbsp; &nbsp;&nbsp;&nbsp;&nbsp;&nbsp;&nbsp;&nbsp;1678576"
      ]
    },
    {
      "cell_type": "markdown",
      "metadata": {
        "id": "mdDyiVgKN0Gm"
      },
      "source": [
        "# Leer y limpiar datos"
      ]
    },
    {
      "cell_type": "markdown",
      "metadata": {
        "id": "LSXQrsWtln_2"
      },
      "source": [
        "En esta seccion, leemos y limpiamos los datos del dataset titanic para su correcto uso en los modelos. "
      ]
    },
    {
      "cell_type": "code",
      "metadata": {
        "id": "9xl8xGR2AOPQ"
      },
      "source": [
        "import pandas as pd\n",
        "from sklearn.preprocessing import StandardScaler\n",
        "from sklearn.preprocessing import LabelEncoder\n",
        "from sklearn.utils import shuffle\n",
        "from sklearn.model_selection import train_test_split\n",
        "import matplotlib.pyplot as plt\n",
        "import plotly.express as px"
      ],
      "execution_count": null,
      "outputs": []
    },
    {
      "cell_type": "code",
      "metadata": {
        "id": "vyFr7bmKBi72"
      },
      "source": [
        "df_data_train = pd.read_excel('/content/titanic_train.xlsx')"
      ],
      "execution_count": null,
      "outputs": []
    },
    {
      "cell_type": "code",
      "metadata": {
        "colab": {
          "base_uri": "https://localhost:8080/",
          "height": 206
        },
        "id": "aAaNyhm5B2j_",
        "outputId": "bb107c1c-34fb-4c58-f9b8-0edd3755200c"
      },
      "source": [
        "df_data_train.head()"
      ],
      "execution_count": null,
      "outputs": [
        {
          "output_type": "execute_result",
          "data": {
            "text/html": [
              "<div>\n",
              "<style scoped>\n",
              "    .dataframe tbody tr th:only-of-type {\n",
              "        vertical-align: middle;\n",
              "    }\n",
              "\n",
              "    .dataframe tbody tr th {\n",
              "        vertical-align: top;\n",
              "    }\n",
              "\n",
              "    .dataframe thead th {\n",
              "        text-align: right;\n",
              "    }\n",
              "</style>\n",
              "<table border=\"1\" class=\"dataframe\">\n",
              "  <thead>\n",
              "    <tr style=\"text-align: right;\">\n",
              "      <th></th>\n",
              "      <th>PassengerId</th>\n",
              "      <th>Survived</th>\n",
              "      <th>Pclass</th>\n",
              "      <th>Name</th>\n",
              "      <th>Sex</th>\n",
              "      <th>Age</th>\n",
              "      <th>SibSp</th>\n",
              "      <th>Parch</th>\n",
              "      <th>Ticket</th>\n",
              "      <th>Fare</th>\n",
              "      <th>Cabin</th>\n",
              "      <th>Embarked</th>\n",
              "    </tr>\n",
              "  </thead>\n",
              "  <tbody>\n",
              "    <tr>\n",
              "      <th>0</th>\n",
              "      <td>849</td>\n",
              "      <td>0</td>\n",
              "      <td>2</td>\n",
              "      <td>Harper, Rev. John</td>\n",
              "      <td>male</td>\n",
              "      <td>28.0</td>\n",
              "      <td>0</td>\n",
              "      <td>1</td>\n",
              "      <td>248727</td>\n",
              "      <td>33.0000</td>\n",
              "      <td>NaN</td>\n",
              "      <td>S</td>\n",
              "    </tr>\n",
              "    <tr>\n",
              "      <th>1</th>\n",
              "      <td>740</td>\n",
              "      <td>0</td>\n",
              "      <td>3</td>\n",
              "      <td>Nankoff, Mr. Minko</td>\n",
              "      <td>male</td>\n",
              "      <td>NaN</td>\n",
              "      <td>0</td>\n",
              "      <td>0</td>\n",
              "      <td>349218</td>\n",
              "      <td>7.8958</td>\n",
              "      <td>NaN</td>\n",
              "      <td>S</td>\n",
              "    </tr>\n",
              "    <tr>\n",
              "      <th>2</th>\n",
              "      <td>752</td>\n",
              "      <td>1</td>\n",
              "      <td>3</td>\n",
              "      <td>Moor, Master. Meier</td>\n",
              "      <td>male</td>\n",
              "      <td>6.0</td>\n",
              "      <td>0</td>\n",
              "      <td>1</td>\n",
              "      <td>392096</td>\n",
              "      <td>12.4750</td>\n",
              "      <td>E121</td>\n",
              "      <td>S</td>\n",
              "    </tr>\n",
              "    <tr>\n",
              "      <th>3</th>\n",
              "      <td>523</td>\n",
              "      <td>0</td>\n",
              "      <td>3</td>\n",
              "      <td>Lahoud, Mr. Sarkis</td>\n",
              "      <td>male</td>\n",
              "      <td>NaN</td>\n",
              "      <td>0</td>\n",
              "      <td>0</td>\n",
              "      <td>2624</td>\n",
              "      <td>7.2250</td>\n",
              "      <td>NaN</td>\n",
              "      <td>C</td>\n",
              "    </tr>\n",
              "    <tr>\n",
              "      <th>4</th>\n",
              "      <td>265</td>\n",
              "      <td>0</td>\n",
              "      <td>3</td>\n",
              "      <td>Henry, Miss. Delia</td>\n",
              "      <td>female</td>\n",
              "      <td>NaN</td>\n",
              "      <td>0</td>\n",
              "      <td>0</td>\n",
              "      <td>382649</td>\n",
              "      <td>7.7500</td>\n",
              "      <td>NaN</td>\n",
              "      <td>Q</td>\n",
              "    </tr>\n",
              "  </tbody>\n",
              "</table>\n",
              "</div>"
            ],
            "text/plain": [
              "   PassengerId  Survived  Pclass  ...     Fare Cabin  Embarked\n",
              "0          849         0       2  ...  33.0000   NaN         S\n",
              "1          740         0       3  ...   7.8958   NaN         S\n",
              "2          752         1       3  ...  12.4750  E121         S\n",
              "3          523         0       3  ...   7.2250   NaN         C\n",
              "4          265         0       3  ...   7.7500   NaN         Q\n",
              "\n",
              "[5 rows x 12 columns]"
            ]
          },
          "metadata": {},
          "execution_count": 5
        }
      ]
    },
    {
      "cell_type": "code",
      "metadata": {
        "colab": {
          "base_uri": "https://localhost:8080/"
        },
        "id": "kCZZKWH2CJMH",
        "outputId": "ab0f6d77-8b23-41f2-8c32-ff5156819b02"
      },
      "source": [
        "df_data_train.info()"
      ],
      "execution_count": null,
      "outputs": [
        {
          "output_type": "stream",
          "name": "stdout",
          "text": [
            "<class 'pandas.core.frame.DataFrame'>\n",
            "RangeIndex: 713 entries, 0 to 712\n",
            "Data columns (total 12 columns):\n",
            " #   Column       Non-Null Count  Dtype  \n",
            "---  ------       --------------  -----  \n",
            " 0   PassengerId  713 non-null    int64  \n",
            " 1   Survived     713 non-null    int64  \n",
            " 2   Pclass       713 non-null    int64  \n",
            " 3   Name         713 non-null    object \n",
            " 4   Sex          713 non-null    object \n",
            " 5   Age          572 non-null    float64\n",
            " 6   SibSp        713 non-null    int64  \n",
            " 7   Parch        713 non-null    int64  \n",
            " 8   Ticket       713 non-null    object \n",
            " 9   Fare         713 non-null    float64\n",
            " 10  Cabin        159 non-null    object \n",
            " 11  Embarked     711 non-null    object \n",
            "dtypes: float64(2), int64(5), object(5)\n",
            "memory usage: 67.0+ KB\n"
          ]
        }
      ]
    },
    {
      "cell_type": "markdown",
      "metadata": {
        "id": "YuXM0y6DlxzY"
      },
      "source": [
        "Se puede observar que en los datos de entrenamiento se encuentran valores nulos. "
      ]
    },
    {
      "cell_type": "code",
      "metadata": {
        "colab": {
          "base_uri": "https://localhost:8080/"
        },
        "id": "PxSjp9toCY5g",
        "outputId": "c08e4510-f26a-4e96-a3ec-d37a5773b48b"
      },
      "source": [
        "df_data_train.isnull().sum()"
      ],
      "execution_count": null,
      "outputs": [
        {
          "output_type": "execute_result",
          "data": {
            "text/plain": [
              "PassengerId      0\n",
              "Survived         0\n",
              "Pclass           0\n",
              "Name             0\n",
              "Sex              0\n",
              "Age            141\n",
              "SibSp            0\n",
              "Parch            0\n",
              "Ticket           0\n",
              "Fare             0\n",
              "Cabin          554\n",
              "Embarked         2\n",
              "dtype: int64"
            ]
          },
          "metadata": {},
          "execution_count": 7
        }
      ]
    },
    {
      "cell_type": "code",
      "metadata": {
        "colab": {
          "base_uri": "https://localhost:8080/"
        },
        "id": "2W1HQqZ2C-Zp",
        "outputId": "8229d3e8-07aa-4c4c-ae57-a42e3f6b3e0d"
      },
      "source": [
        "df_data_train.mean()"
      ],
      "execution_count": null,
      "outputs": [
        {
          "output_type": "execute_result",
          "data": {
            "text/plain": [
              "PassengerId    443.504909\n",
              "Survived         0.380084\n",
              "Pclass           2.312763\n",
              "Age             29.348199\n",
              "SibSp            0.537167\n",
              "Parch            0.394109\n",
              "Fare            31.730329\n",
              "dtype: float64"
            ]
          },
          "metadata": {},
          "execution_count": 8
        }
      ]
    },
    {
      "cell_type": "code",
      "metadata": {
        "colab": {
          "base_uri": "https://localhost:8080/"
        },
        "id": "qe0qQSaVUL3e",
        "outputId": "4b10ed9b-9ee5-436b-ab12-a996026d6c62"
      },
      "source": [
        "df_data_train['Embarked'].value_counts()"
      ],
      "execution_count": null,
      "outputs": [
        {
          "output_type": "execute_result",
          "data": {
            "text/plain": [
              "S    510\n",
              "C    139\n",
              "Q     62\n",
              "Name: Embarked, dtype: int64"
            ]
          },
          "metadata": {},
          "execution_count": 9
        }
      ]
    },
    {
      "cell_type": "markdown",
      "metadata": {
        "id": "yL49Hol3l8N7"
      },
      "source": [
        "Aqui nos encargamos de los valores nulos en nuestros datos, en edad se cambian por la edad de 29, la cual es el promedio de edad sin quitar nulos, esto se hace con afan de no afectar tanto a nuestros datos con este cambio. En el numero de cabina llenamos los valores nulos con un valor que hemos declarado como MV (Missing Value). En el puerto de embarque solo hay dos valores nulos, por lo que optamos por asignarlos al puerto C. "
      ]
    },
    {
      "cell_type": "code",
      "metadata": {
        "colab": {
          "base_uri": "https://localhost:8080/"
        },
        "id": "qi_Jx1w5GEo4",
        "outputId": "3fb05d8a-9f3c-4ba3-ce5c-e7aab2876ced"
      },
      "source": [
        "df_data_train['Age'] = df_data_train['Age'].fillna(29)\n",
        "df_data_train['Cabin'] = df_data_train['Cabin'].fillna('MV')\n",
        "df_data_train['Embarked'] = df_data_train['Embarked'].fillna('C')\n",
        "df_data_train.isnull().sum()"
      ],
      "execution_count": null,
      "outputs": [
        {
          "output_type": "execute_result",
          "data": {
            "text/plain": [
              "PassengerId    0\n",
              "Survived       0\n",
              "Pclass         0\n",
              "Name           0\n",
              "Sex            0\n",
              "Age            0\n",
              "SibSp          0\n",
              "Parch          0\n",
              "Ticket         0\n",
              "Fare           0\n",
              "Cabin          0\n",
              "Embarked       0\n",
              "dtype: int64"
            ]
          },
          "metadata": {},
          "execution_count": 10
        }
      ]
    },
    {
      "cell_type": "code",
      "metadata": {
        "id": "kAS1rsEgHesk"
      },
      "source": [
        "df_data_test = pd.read_excel('/content/titanic_val.xlsx')"
      ],
      "execution_count": null,
      "outputs": []
    },
    {
      "cell_type": "code",
      "metadata": {
        "colab": {
          "base_uri": "https://localhost:8080/",
          "height": 206
        },
        "id": "OnDQyu6xH5Rf",
        "outputId": "b3ed3876-3157-496c-b693-9c205ce67df5"
      },
      "source": [
        "df_data_test.head()"
      ],
      "execution_count": null,
      "outputs": [
        {
          "output_type": "execute_result",
          "data": {
            "text/html": [
              "<div>\n",
              "<style scoped>\n",
              "    .dataframe tbody tr th:only-of-type {\n",
              "        vertical-align: middle;\n",
              "    }\n",
              "\n",
              "    .dataframe tbody tr th {\n",
              "        vertical-align: top;\n",
              "    }\n",
              "\n",
              "    .dataframe thead th {\n",
              "        text-align: right;\n",
              "    }\n",
              "</style>\n",
              "<table border=\"1\" class=\"dataframe\">\n",
              "  <thead>\n",
              "    <tr style=\"text-align: right;\">\n",
              "      <th></th>\n",
              "      <th>PassengerId</th>\n",
              "      <th>Survived</th>\n",
              "      <th>Pclass</th>\n",
              "      <th>Name</th>\n",
              "      <th>Sex</th>\n",
              "      <th>Age</th>\n",
              "      <th>SibSp</th>\n",
              "      <th>Parch</th>\n",
              "      <th>Ticket</th>\n",
              "      <th>Fare</th>\n",
              "      <th>Cabin</th>\n",
              "      <th>Embarked</th>\n",
              "    </tr>\n",
              "  </thead>\n",
              "  <tbody>\n",
              "    <tr>\n",
              "      <th>0</th>\n",
              "      <td>2</td>\n",
              "      <td>1</td>\n",
              "      <td>1</td>\n",
              "      <td>Cumings, Mrs. John Bradley (Florence Briggs Th...</td>\n",
              "      <td>female</td>\n",
              "      <td>38.0</td>\n",
              "      <td>1</td>\n",
              "      <td>0</td>\n",
              "      <td>PC 17599</td>\n",
              "      <td>71.2833</td>\n",
              "      <td>C85</td>\n",
              "      <td>C</td>\n",
              "    </tr>\n",
              "    <tr>\n",
              "      <th>1</th>\n",
              "      <td>4</td>\n",
              "      <td>1</td>\n",
              "      <td>1</td>\n",
              "      <td>Futrelle, Mrs. Jacques Heath (Lily May Peel)</td>\n",
              "      <td>female</td>\n",
              "      <td>35.0</td>\n",
              "      <td>1</td>\n",
              "      <td>0</td>\n",
              "      <td>113803</td>\n",
              "      <td>53.1000</td>\n",
              "      <td>C123</td>\n",
              "      <td>S</td>\n",
              "    </tr>\n",
              "    <tr>\n",
              "      <th>2</th>\n",
              "      <td>13</td>\n",
              "      <td>0</td>\n",
              "      <td>3</td>\n",
              "      <td>Saundercock, Mr. William Henry</td>\n",
              "      <td>male</td>\n",
              "      <td>20.0</td>\n",
              "      <td>0</td>\n",
              "      <td>0</td>\n",
              "      <td>A/5. 2151</td>\n",
              "      <td>8.0500</td>\n",
              "      <td>NaN</td>\n",
              "      <td>S</td>\n",
              "    </tr>\n",
              "    <tr>\n",
              "      <th>3</th>\n",
              "      <td>28</td>\n",
              "      <td>0</td>\n",
              "      <td>1</td>\n",
              "      <td>Fortune, Mr. Charles Alexander</td>\n",
              "      <td>male</td>\n",
              "      <td>19.0</td>\n",
              "      <td>3</td>\n",
              "      <td>2</td>\n",
              "      <td>19950</td>\n",
              "      <td>263.0000</td>\n",
              "      <td>C23 C25 C27</td>\n",
              "      <td>S</td>\n",
              "    </tr>\n",
              "    <tr>\n",
              "      <th>4</th>\n",
              "      <td>30</td>\n",
              "      <td>0</td>\n",
              "      <td>3</td>\n",
              "      <td>Todoroff, Mr. Lalio</td>\n",
              "      <td>male</td>\n",
              "      <td>NaN</td>\n",
              "      <td>0</td>\n",
              "      <td>0</td>\n",
              "      <td>349216</td>\n",
              "      <td>7.8958</td>\n",
              "      <td>NaN</td>\n",
              "      <td>S</td>\n",
              "    </tr>\n",
              "  </tbody>\n",
              "</table>\n",
              "</div>"
            ],
            "text/plain": [
              "   PassengerId  Survived  Pclass  ...      Fare        Cabin  Embarked\n",
              "0            2         1       1  ...   71.2833          C85         C\n",
              "1            4         1       1  ...   53.1000         C123         S\n",
              "2           13         0       3  ...    8.0500          NaN         S\n",
              "3           28         0       1  ...  263.0000  C23 C25 C27         S\n",
              "4           30         0       3  ...    7.8958          NaN         S\n",
              "\n",
              "[5 rows x 12 columns]"
            ]
          },
          "metadata": {},
          "execution_count": 12
        }
      ]
    },
    {
      "cell_type": "code",
      "metadata": {
        "colab": {
          "base_uri": "https://localhost:8080/"
        },
        "id": "H-0rJ-GhIBMF",
        "outputId": "575fcf03-d107-46b4-d35a-8e911a3a3186"
      },
      "source": [
        "df_data_test.isnull().sum()"
      ],
      "execution_count": null,
      "outputs": [
        {
          "output_type": "execute_result",
          "data": {
            "text/plain": [
              "PassengerId      0\n",
              "Survived         0\n",
              "Pclass           0\n",
              "Name             0\n",
              "Sex              0\n",
              "Age             36\n",
              "SibSp            0\n",
              "Parch            0\n",
              "Ticket           0\n",
              "Fare             0\n",
              "Cabin          133\n",
              "Embarked         0\n",
              "dtype: int64"
            ]
          },
          "metadata": {},
          "execution_count": 13
        }
      ]
    },
    {
      "cell_type": "code",
      "metadata": {
        "colab": {
          "base_uri": "https://localhost:8080/"
        },
        "id": "5rzUL_sNIXBA",
        "outputId": "e335e601-f76a-49f6-f8a3-5d668c2a848a"
      },
      "source": [
        "df_data_test.mean()"
      ],
      "execution_count": null,
      "outputs": [
        {
          "output_type": "execute_result",
          "data": {
            "text/plain": [
              "PassengerId    455.994382\n",
              "Survived         0.398876\n",
              "Pclass           2.292135\n",
              "Age             31.112676\n",
              "SibSp            0.466292\n",
              "Parch            0.331461\n",
              "Fare            34.102387\n",
              "dtype: float64"
            ]
          },
          "metadata": {},
          "execution_count": 14
        }
      ]
    },
    {
      "cell_type": "markdown",
      "metadata": {
        "id": "trJzR5IHmhTl"
      },
      "source": [
        "Hacemos el mismo procedimiento para los datos de prueba. "
      ]
    },
    {
      "cell_type": "code",
      "metadata": {
        "colab": {
          "base_uri": "https://localhost:8080/"
        },
        "id": "XoEQzNJzIddq",
        "outputId": "809a543f-eb8b-49f4-cf84-31a8ecc52a1f"
      },
      "source": [
        "df_data_test['Age'] = df_data_test['Age'].fillna(31)\n",
        "df_data_test['Cabin'] = df_data_test['Cabin'].fillna('MV')\n",
        "df_data_test['Embarked'] = df_data_test['Embarked'].fillna('C')\n",
        "df_data_test.isnull().sum()"
      ],
      "execution_count": null,
      "outputs": [
        {
          "output_type": "execute_result",
          "data": {
            "text/plain": [
              "PassengerId    0\n",
              "Survived       0\n",
              "Pclass         0\n",
              "Name           0\n",
              "Sex            0\n",
              "Age            0\n",
              "SibSp          0\n",
              "Parch          0\n",
              "Ticket         0\n",
              "Fare           0\n",
              "Cabin          0\n",
              "Embarked       0\n",
              "dtype: int64"
            ]
          },
          "metadata": {},
          "execution_count": 15
        }
      ]
    },
    {
      "cell_type": "markdown",
      "metadata": {
        "id": "ZQr-evDMm3Qn"
      },
      "source": [
        "En esta parte estandarizamos nuestros datos, al: \n",
        "- Eliminar columnas que no nos serviran para la predicción \n",
        "- Otorgamos labels numericos a la columna de sexo \n",
        "- Asignamos dummies a las columnas del puerto de embarque y clase  \n",
        "- Estandarizamos nuestros datos con StandarScaler "
      ]
    },
    {
      "cell_type": "code",
      "metadata": {
        "colab": {
          "base_uri": "https://localhost:8080/"
        },
        "id": "Z7T4YYRvIvRB",
        "outputId": "16c8b2b8-f4e7-4b6d-bc69-abdb200d9712"
      },
      "source": [
        "label = LabelEncoder()\n",
        "scaler = StandardScaler()\n",
        "def clean_titanic_data(data): \n",
        "  X = data.drop(labels=['PassengerId', 'Survived', 'Ticket', 'Cabin', 'Name'], axis = 1)\n",
        "  y = data['Survived']\n",
        "  X['Sex'] = label.fit_transform(X['Sex'])\n",
        "  dict_sex = {x:y for x,y in enumerate(label.classes_)}\n",
        "  X = pd.get_dummies(X, drop_first=True, columns=['Embarked', 'Pclass'])\n",
        "  columns = X.columns\n",
        "  print(X.head())\n",
        "  X = scaler.fit_transform(X)\n",
        "  return X , y, columns\n",
        "\n",
        "x_train, y_train, columns_train = clean_titanic_data(df_data_train)\n",
        "x_test, y_test, columns_test = clean_titanic_data(df_data_test)"
      ],
      "execution_count": null,
      "outputs": [
        {
          "output_type": "stream",
          "name": "stdout",
          "text": [
            "   Sex   Age  SibSp  Parch     Fare  Embarked_Q  Embarked_S  Pclass_2  Pclass_3\n",
            "0    1  28.0      0      1  33.0000           0           1         1         0\n",
            "1    1  29.0      0      0   7.8958           0           1         0         1\n",
            "2    1   6.0      0      1  12.4750           0           1         0         1\n",
            "3    1  29.0      0      0   7.2250           0           0         0         1\n",
            "4    0  29.0      0      0   7.7500           1           0         0         1\n",
            "   Sex   Age  SibSp  Parch  ...  Embarked_Q  Embarked_S  Pclass_2  Pclass_3\n",
            "0    0  38.0      1      0  ...           0           0         0         0\n",
            "1    0  35.0      1      0  ...           0           1         0         0\n",
            "2    1  20.0      0      0  ...           0           1         0         1\n",
            "3    1  19.0      3      2  ...           0           1         0         0\n",
            "4    1  31.0      0      0  ...           0           1         0         1\n",
            "\n",
            "[5 rows x 9 columns]\n"
          ]
        }
      ]
    },
    {
      "cell_type": "markdown",
      "metadata": {
        "id": "VyFXcqppn-Qs"
      },
      "source": [
        "Podemos verificar que nuestros datos estan estandarizados"
      ]
    },
    {
      "cell_type": "code",
      "metadata": {
        "colab": {
          "base_uri": "https://localhost:8080/"
        },
        "id": "dobn6iVeJwnz",
        "outputId": "585573ca-fe63-4455-fe14-ef814dca31c1"
      },
      "source": [
        "x_train.mean(axis=0).round(2),x_train.var(axis=0)"
      ],
      "execution_count": null,
      "outputs": [
        {
          "output_type": "execute_result",
          "data": {
            "text/plain": [
              "(array([-0.,  0.,  0., -0.,  0.,  0., -0.,  0., -0.]),\n",
              " array([1., 1., 1., 1., 1., 1., 1., 1., 1.]))"
            ]
          },
          "metadata": {},
          "execution_count": 17
        }
      ]
    },
    {
      "cell_type": "markdown",
      "metadata": {
        "id": "ko7s5XdKD39b"
      },
      "source": [
        "Para nuestra facilidad, definiremos una funcion que realizara cortes en los modelos para obtener distintas metricas. "
      ]
    },
    {
      "cell_type": "code",
      "metadata": {
        "id": "epkOjAQJBDfJ"
      },
      "source": [
        "from sklearn.metrics import accuracy_score, recall_score, precision_score , f1_score, confusion_matrix\n",
        "def cuts(y_pred_raw): \n",
        "  precision_list = []\n",
        "  accuracy_list = []\n",
        "  recall_list = []\n",
        "  f1_list = []\n",
        "  cut_list = []\n",
        "  for cut in [x/1000 for x in range(1001)]:\n",
        "    y_pred = [1 if x[1]>= cut else 0 for x in y_pred_raw]\n",
        "    cut_list.append(cut)\n",
        "    accuracy_list.append(accuracy_score(y_test,y_pred))\n",
        "    precision_list.append(precision_score(y_test,y_pred))\n",
        "    recall_list.append(recall_score(y_test,y_pred))\n",
        "    f1_list.append(f1_score(y_test,y_pred))\n",
        "  df_metrics = pd.DataFrame({'Cut':cut_list,\n",
        "                           'Accuracy':accuracy_list,\n",
        "                           'Recall':recall_list,\n",
        "                           'Precision':precision_list,\n",
        "                           'F1':f1_list})\n",
        "  return df_metrics"
      ],
      "execution_count": null,
      "outputs": []
    },
    {
      "cell_type": "markdown",
      "metadata": {
        "id": "eHsuCVFH49dd"
      },
      "source": [
        "# Random forest "
      ]
    },
    {
      "cell_type": "code",
      "metadata": {
        "id": "gIf1PaT1n_e0"
      },
      "source": [
        "from sklearn.ensemble import RandomForestClassifier "
      ],
      "execution_count": null,
      "outputs": []
    },
    {
      "cell_type": "markdown",
      "metadata": {
        "id": "wzMlMiqjoi2D"
      },
      "source": [
        "Creamos variables para los hiperparámetros de profundidad máxima y para el número de árboles"
      ]
    },
    {
      "cell_type": "code",
      "metadata": {
        "id": "BuUd4GmFo1Tr"
      },
      "source": [
        "max_depth=4\n",
        "n_estimators=500"
      ],
      "execution_count": null,
      "outputs": []
    },
    {
      "cell_type": "markdown",
      "metadata": {
        "id": "VFY1UWconO1L"
      },
      "source": [
        "##Caso 1: Profundidad máxima=4, Número de árboles=500"
      ]
    },
    {
      "cell_type": "markdown",
      "metadata": {
        "id": "C78cwRAm6ASQ"
      },
      "source": [
        "En esta seccion realizaremos una clasificacion mediante random forest con la librería sklearn "
      ]
    },
    {
      "cell_type": "code",
      "metadata": {
        "colab": {
          "base_uri": "https://localhost:8080/"
        },
        "id": "0VtIPGZp5Fzs",
        "outputId": "efe3c57e-62ec-4ab4-d851-67a58be73b05"
      },
      "source": [
        "# Instanciamos y usamos nuestro modelo de Random forest classifier \n",
        "model_rf = RandomForestClassifier(max_depth= max_depth, n_estimators=n_estimators)\n",
        "model_rf.fit(x_train,y_train)"
      ],
      "execution_count": null,
      "outputs": [
        {
          "output_type": "execute_result",
          "data": {
            "text/plain": [
              "RandomForestClassifier(bootstrap=True, ccp_alpha=0.0, class_weight=None,\n",
              "                       criterion='gini', max_depth=4, max_features='auto',\n",
              "                       max_leaf_nodes=None, max_samples=None,\n",
              "                       min_impurity_decrease=0.0, min_impurity_split=None,\n",
              "                       min_samples_leaf=1, min_samples_split=2,\n",
              "                       min_weight_fraction_leaf=0.0, n_estimators=500,\n",
              "                       n_jobs=None, oob_score=False, random_state=None,\n",
              "                       verbose=0, warm_start=False)"
            ]
          },
          "metadata": {},
          "execution_count": 26
        }
      ]
    },
    {
      "cell_type": "markdown",
      "metadata": {
        "id": "I42wPgus6PV7"
      },
      "source": [
        "Ya con nuestro modelo podemos intentar predecir los valores para nuestro conjunto de prueba "
      ]
    },
    {
      "cell_type": "code",
      "metadata": {
        "id": "8R9iDQ5I6Izi"
      },
      "source": [
        "y_pred_raw = model_rf.predict_proba(x_test)"
      ],
      "execution_count": null,
      "outputs": []
    },
    {
      "cell_type": "markdown",
      "metadata": {
        "id": "Qi4wbHjNEHLy"
      },
      "source": [
        "Se obtienen los cortes"
      ]
    },
    {
      "cell_type": "code",
      "metadata": {
        "colab": {
          "base_uri": "https://localhost:8080/"
        },
        "id": "EZWdU2RJ6WsZ",
        "outputId": "146a9f01-6c04-4bb8-b3b7-e44eb12ce24c"
      },
      "source": [
        "df_metrics_rf = cuts(y_pred_raw)"
      ],
      "execution_count": null,
      "outputs": [
        {
          "output_type": "stream",
          "name": "stderr",
          "text": [
            "/usr/local/lib/python3.7/dist-packages/sklearn/metrics/_classification.py:1272: UndefinedMetricWarning:\n",
            "\n",
            "Precision is ill-defined and being set to 0.0 due to no predicted samples. Use `zero_division` parameter to control this behavior.\n",
            "\n"
          ]
        }
      ]
    },
    {
      "cell_type": "markdown",
      "metadata": {
        "id": "u7_WRD4A8HRi"
      },
      "source": [
        "Ya podemos buscar entre nuestros cortes los modelos donde, por ejemplo, el accuracy y precision tengan un buen valor. "
      ]
    },
    {
      "cell_type": "code",
      "metadata": {
        "colab": {
          "base_uri": "https://localhost:8080/",
          "height": 363
        },
        "id": "raE62xOi7Iza",
        "outputId": "680a7c43-b15e-45f2-e0dc-bd66800ecf15"
      },
      "source": [
        "df_metrics_rf.sort_values(by=['Accuracy', 'Precision'], ascending=False).head(10)"
      ],
      "execution_count": null,
      "outputs": [
        {
          "output_type": "execute_result",
          "data": {
            "text/html": [
              "<div>\n",
              "<style scoped>\n",
              "    .dataframe tbody tr th:only-of-type {\n",
              "        vertical-align: middle;\n",
              "    }\n",
              "\n",
              "    .dataframe tbody tr th {\n",
              "        vertical-align: top;\n",
              "    }\n",
              "\n",
              "    .dataframe thead th {\n",
              "        text-align: right;\n",
              "    }\n",
              "</style>\n",
              "<table border=\"1\" class=\"dataframe\">\n",
              "  <thead>\n",
              "    <tr style=\"text-align: right;\">\n",
              "      <th></th>\n",
              "      <th>Cut</th>\n",
              "      <th>Accuracy</th>\n",
              "      <th>Recall</th>\n",
              "      <th>Precision</th>\n",
              "      <th>F1</th>\n",
              "    </tr>\n",
              "  </thead>\n",
              "  <tbody>\n",
              "    <tr>\n",
              "      <th>404</th>\n",
              "      <td>0.404</td>\n",
              "      <td>0.848315</td>\n",
              "      <td>0.746479</td>\n",
              "      <td>0.854839</td>\n",
              "      <td>0.796992</td>\n",
              "    </tr>\n",
              "    <tr>\n",
              "      <th>394</th>\n",
              "      <td>0.394</td>\n",
              "      <td>0.848315</td>\n",
              "      <td>0.774648</td>\n",
              "      <td>0.833333</td>\n",
              "      <td>0.802920</td>\n",
              "    </tr>\n",
              "    <tr>\n",
              "      <th>395</th>\n",
              "      <td>0.395</td>\n",
              "      <td>0.848315</td>\n",
              "      <td>0.774648</td>\n",
              "      <td>0.833333</td>\n",
              "      <td>0.802920</td>\n",
              "    </tr>\n",
              "    <tr>\n",
              "      <th>396</th>\n",
              "      <td>0.396</td>\n",
              "      <td>0.848315</td>\n",
              "      <td>0.774648</td>\n",
              "      <td>0.833333</td>\n",
              "      <td>0.802920</td>\n",
              "    </tr>\n",
              "    <tr>\n",
              "      <th>397</th>\n",
              "      <td>0.397</td>\n",
              "      <td>0.848315</td>\n",
              "      <td>0.774648</td>\n",
              "      <td>0.833333</td>\n",
              "      <td>0.802920</td>\n",
              "    </tr>\n",
              "    <tr>\n",
              "      <th>439</th>\n",
              "      <td>0.439</td>\n",
              "      <td>0.842697</td>\n",
              "      <td>0.676056</td>\n",
              "      <td>0.905660</td>\n",
              "      <td>0.774194</td>\n",
              "    </tr>\n",
              "    <tr>\n",
              "      <th>440</th>\n",
              "      <td>0.440</td>\n",
              "      <td>0.842697</td>\n",
              "      <td>0.676056</td>\n",
              "      <td>0.905660</td>\n",
              "      <td>0.774194</td>\n",
              "    </tr>\n",
              "    <tr>\n",
              "      <th>416</th>\n",
              "      <td>0.416</td>\n",
              "      <td>0.842697</td>\n",
              "      <td>0.718310</td>\n",
              "      <td>0.864407</td>\n",
              "      <td>0.784615</td>\n",
              "    </tr>\n",
              "    <tr>\n",
              "      <th>417</th>\n",
              "      <td>0.417</td>\n",
              "      <td>0.842697</td>\n",
              "      <td>0.718310</td>\n",
              "      <td>0.864407</td>\n",
              "      <td>0.784615</td>\n",
              "    </tr>\n",
              "    <tr>\n",
              "      <th>405</th>\n",
              "      <td>0.405</td>\n",
              "      <td>0.842697</td>\n",
              "      <td>0.732394</td>\n",
              "      <td>0.852459</td>\n",
              "      <td>0.787879</td>\n",
              "    </tr>\n",
              "  </tbody>\n",
              "</table>\n",
              "</div>"
            ],
            "text/plain": [
              "       Cut  Accuracy    Recall  Precision        F1\n",
              "404  0.404  0.848315  0.746479   0.854839  0.796992\n",
              "394  0.394  0.848315  0.774648   0.833333  0.802920\n",
              "395  0.395  0.848315  0.774648   0.833333  0.802920\n",
              "396  0.396  0.848315  0.774648   0.833333  0.802920\n",
              "397  0.397  0.848315  0.774648   0.833333  0.802920\n",
              "439  0.439  0.842697  0.676056   0.905660  0.774194\n",
              "440  0.440  0.842697  0.676056   0.905660  0.774194\n",
              "416  0.416  0.842697  0.718310   0.864407  0.784615\n",
              "417  0.417  0.842697  0.718310   0.864407  0.784615\n",
              "405  0.405  0.842697  0.732394   0.852459  0.787879"
            ]
          },
          "metadata": {},
          "execution_count": 29
        }
      ]
    },
    {
      "cell_type": "markdown",
      "metadata": {
        "id": "VYPBlh8C8pSA"
      },
      "source": [
        "Tambien podemos visualizar las importancias de las columnas de nuestro dataset en el modelo aplicado. "
      ]
    },
    {
      "cell_type": "code",
      "metadata": {
        "colab": {
          "base_uri": "https://localhost:8080/",
          "height": 295
        },
        "id": "RIaLAini8wtx",
        "outputId": "b34a777e-655b-4e38-95c8-537075537c46"
      },
      "source": [
        "features = columns_train\n",
        "importances = model_rf.feature_importances_\n",
        "df_importance = pd.DataFrame({'Feature':features,'Importance':importances}).sort_values(by=['Importance'],ascending=True)\n",
        "plt.title('Feature Importances')\n",
        "plt.barh(range(len(df_importance)), df_importance['Importance'], color='b', align='center')\n",
        "plt.yticks(range(len(df_importance)), df_importance['Feature'])\n",
        "plt.xlabel('Relative Importance')\n",
        "plt.show()"
      ],
      "execution_count": null,
      "outputs": [
        {
          "output_type": "display_data",
          "data": {
            "image/png": "[encoded data removed]",
            "text/plain": [
              "<Figure size 432x288 with 1 Axes>"
            ]
          },
          "metadata": {
            "needs_background": "light"
          }
        }
      ]
    },
    {
      "cell_type": "code",
      "metadata": {
        "colab": {
          "base_uri": "https://localhost:8080/",
          "height": 331
        },
        "id": "6YN9rhPf-S4M",
        "outputId": "34349bc3-7e5e-4cdd-fe17-b3adef0b924b"
      },
      "source": [
        "df_importance.round(3)"
      ],
      "execution_count": null,
      "outputs": [
        {
          "output_type": "execute_result",
          "data": {
            "text/html": [
              "<div>\n",
              "<style scoped>\n",
              "    .dataframe tbody tr th:only-of-type {\n",
              "        vertical-align: middle;\n",
              "    }\n",
              "\n",
              "    .dataframe tbody tr th {\n",
              "        vertical-align: top;\n",
              "    }\n",
              "\n",
              "    .dataframe thead th {\n",
              "        text-align: right;\n",
              "    }\n",
              "</style>\n",
              "<table border=\"1\" class=\"dataframe\">\n",
              "  <thead>\n",
              "    <tr style=\"text-align: right;\">\n",
              "      <th></th>\n",
              "      <th>Feature</th>\n",
              "      <th>Importance</th>\n",
              "    </tr>\n",
              "  </thead>\n",
              "  <tbody>\n",
              "    <tr>\n",
              "      <th>5</th>\n",
              "      <td>Embarked_Q</td>\n",
              "      <td>0.009</td>\n",
              "    </tr>\n",
              "    <tr>\n",
              "      <th>7</th>\n",
              "      <td>Pclass_2</td>\n",
              "      <td>0.020</td>\n",
              "    </tr>\n",
              "    <tr>\n",
              "      <th>3</th>\n",
              "      <td>Parch</td>\n",
              "      <td>0.027</td>\n",
              "    </tr>\n",
              "    <tr>\n",
              "      <th>6</th>\n",
              "      <td>Embarked_S</td>\n",
              "      <td>0.030</td>\n",
              "    </tr>\n",
              "    <tr>\n",
              "      <th>2</th>\n",
              "      <td>SibSp</td>\n",
              "      <td>0.045</td>\n",
              "    </tr>\n",
              "    <tr>\n",
              "      <th>1</th>\n",
              "      <td>Age</td>\n",
              "      <td>0.095</td>\n",
              "    </tr>\n",
              "    <tr>\n",
              "      <th>8</th>\n",
              "      <td>Pclass_3</td>\n",
              "      <td>0.143</td>\n",
              "    </tr>\n",
              "    <tr>\n",
              "      <th>4</th>\n",
              "      <td>Fare</td>\n",
              "      <td>0.183</td>\n",
              "    </tr>\n",
              "    <tr>\n",
              "      <th>0</th>\n",
              "      <td>Sex</td>\n",
              "      <td>0.449</td>\n",
              "    </tr>\n",
              "  </tbody>\n",
              "</table>\n",
              "</div>"
            ],
            "text/plain": [
              "      Feature  Importance\n",
              "5  Embarked_Q       0.009\n",
              "7    Pclass_2       0.020\n",
              "3       Parch       0.027\n",
              "6  Embarked_S       0.030\n",
              "2       SibSp       0.045\n",
              "1         Age       0.095\n",
              "8    Pclass_3       0.143\n",
              "4        Fare       0.183\n",
              "0         Sex       0.449"
            ]
          },
          "metadata": {},
          "execution_count": 31
        }
      ]
    },
    {
      "cell_type": "markdown",
      "metadata": {
        "id": "eaImqviHoYu2"
      },
      "source": [
        "##Caso 2: Profundidad máxima=6, Número de árboles=500"
      ]
    },
    {
      "cell_type": "code",
      "metadata": {
        "id": "G7v2W1D0qVxD"
      },
      "source": [
        "max_depth=6\n",
        "n_estimators=500"
      ],
      "execution_count": null,
      "outputs": []
    },
    {
      "cell_type": "markdown",
      "metadata": {
        "id": "ksjo96PIoYu2"
      },
      "source": [
        "En esta seccion realizaremos una clasificacion mediante random forest con la librería sklearn "
      ]
    },
    {
      "cell_type": "code",
      "metadata": {
        "colab": {
          "base_uri": "https://localhost:8080/"
        },
        "id": "vABQvubpoYu3",
        "outputId": "1892edc4-f3da-450a-8538-1d331c8ac11a"
      },
      "source": [
        "# Instanciamos y usamos nuestro modelo de Random forest classifier \n",
        "model_rf = RandomForestClassifier(max_depth= max_depth, n_estimators=n_estimators)\n",
        "model_rf.fit(x_train,y_train)"
      ],
      "execution_count": null,
      "outputs": [
        {
          "output_type": "execute_result",
          "data": {
            "text/plain": [
              "RandomForestClassifier(bootstrap=True, ccp_alpha=0.0, class_weight=None,\n",
              "                       criterion='gini', max_depth=6, max_features='auto',\n",
              "                       max_leaf_nodes=None, max_samples=None,\n",
              "                       min_impurity_decrease=0.0, min_impurity_split=None,\n",
              "                       min_samples_leaf=1, min_samples_split=2,\n",
              "                       min_weight_fraction_leaf=0.0, n_estimators=500,\n",
              "                       n_jobs=None, oob_score=False, random_state=None,\n",
              "                       verbose=0, warm_start=False)"
            ]
          },
          "metadata": {},
          "execution_count": 33
        }
      ]
    },
    {
      "cell_type": "markdown",
      "metadata": {
        "id": "oMXwApkfoYu3"
      },
      "source": [
        "Ya con nuestro modelo podemos intentar predecir los valores para nuestro conjunto de prueba "
      ]
    },
    {
      "cell_type": "code",
      "metadata": {
        "id": "StWs3nG7oYu3"
      },
      "source": [
        "y_pred_raw = model_rf.predict_proba(x_test)"
      ],
      "execution_count": null,
      "outputs": []
    },
    {
      "cell_type": "markdown",
      "metadata": {
        "id": "EJJC2mGooYu4"
      },
      "source": [
        "Se obtienen los cortes"
      ]
    },
    {
      "cell_type": "code",
      "metadata": {
        "colab": {
          "base_uri": "https://localhost:8080/"
        },
        "id": "Ca4pHNqnoYu4",
        "outputId": "948d94f1-bb8b-4087-fa3d-5f7a2f7e4d59"
      },
      "source": [
        "df_metrics_rf = cuts(y_pred_raw)"
      ],
      "execution_count": null,
      "outputs": [
        {
          "output_type": "stream",
          "name": "stderr",
          "text": [
            "/usr/local/lib/python3.7/dist-packages/sklearn/metrics/_classification.py:1272: UndefinedMetricWarning:\n",
            "\n",
            "Precision is ill-defined and being set to 0.0 due to no predicted samples. Use `zero_division` parameter to control this behavior.\n",
            "\n"
          ]
        }
      ]
    },
    {
      "cell_type": "markdown",
      "metadata": {
        "id": "1DrkbrT1oYu4"
      },
      "source": [
        "Ya podemos buscar entre nuestros cortes los modelos donde, por ejemplo, el accuracy y precision tengan un buen valor. "
      ]
    },
    {
      "cell_type": "code",
      "metadata": {
        "colab": {
          "base_uri": "https://localhost:8080/",
          "height": 363
        },
        "id": "v0gFbi0NoYu5",
        "outputId": "d71cfcfe-8f5b-4610-9d43-06d75507b918"
      },
      "source": [
        "df_metrics_rf.sort_values(by=['Accuracy', 'Precision'], ascending=False).head(10)"
      ],
      "execution_count": null,
      "outputs": [
        {
          "output_type": "execute_result",
          "data": {
            "text/html": [
              "<div>\n",
              "<style scoped>\n",
              "    .dataframe tbody tr th:only-of-type {\n",
              "        vertical-align: middle;\n",
              "    }\n",
              "\n",
              "    .dataframe tbody tr th {\n",
              "        vertical-align: top;\n",
              "    }\n",
              "\n",
              "    .dataframe thead th {\n",
              "        text-align: right;\n",
              "    }\n",
              "</style>\n",
              "<table border=\"1\" class=\"dataframe\">\n",
              "  <thead>\n",
              "    <tr style=\"text-align: right;\">\n",
              "      <th></th>\n",
              "      <th>Cut</th>\n",
              "      <th>Accuracy</th>\n",
              "      <th>Recall</th>\n",
              "      <th>Precision</th>\n",
              "      <th>F1</th>\n",
              "    </tr>\n",
              "  </thead>\n",
              "  <tbody>\n",
              "    <tr>\n",
              "      <th>422</th>\n",
              "      <td>0.422</td>\n",
              "      <td>0.837079</td>\n",
              "      <td>0.690141</td>\n",
              "      <td>0.875</td>\n",
              "      <td>0.771654</td>\n",
              "    </tr>\n",
              "    <tr>\n",
              "      <th>423</th>\n",
              "      <td>0.423</td>\n",
              "      <td>0.837079</td>\n",
              "      <td>0.690141</td>\n",
              "      <td>0.875</td>\n",
              "      <td>0.771654</td>\n",
              "    </tr>\n",
              "    <tr>\n",
              "      <th>424</th>\n",
              "      <td>0.424</td>\n",
              "      <td>0.837079</td>\n",
              "      <td>0.690141</td>\n",
              "      <td>0.875</td>\n",
              "      <td>0.771654</td>\n",
              "    </tr>\n",
              "    <tr>\n",
              "      <th>425</th>\n",
              "      <td>0.425</td>\n",
              "      <td>0.837079</td>\n",
              "      <td>0.690141</td>\n",
              "      <td>0.875</td>\n",
              "      <td>0.771654</td>\n",
              "    </tr>\n",
              "    <tr>\n",
              "      <th>426</th>\n",
              "      <td>0.426</td>\n",
              "      <td>0.837079</td>\n",
              "      <td>0.690141</td>\n",
              "      <td>0.875</td>\n",
              "      <td>0.771654</td>\n",
              "    </tr>\n",
              "    <tr>\n",
              "      <th>427</th>\n",
              "      <td>0.427</td>\n",
              "      <td>0.837079</td>\n",
              "      <td>0.690141</td>\n",
              "      <td>0.875</td>\n",
              "      <td>0.771654</td>\n",
              "    </tr>\n",
              "    <tr>\n",
              "      <th>428</th>\n",
              "      <td>0.428</td>\n",
              "      <td>0.837079</td>\n",
              "      <td>0.690141</td>\n",
              "      <td>0.875</td>\n",
              "      <td>0.771654</td>\n",
              "    </tr>\n",
              "    <tr>\n",
              "      <th>429</th>\n",
              "      <td>0.429</td>\n",
              "      <td>0.837079</td>\n",
              "      <td>0.690141</td>\n",
              "      <td>0.875</td>\n",
              "      <td>0.771654</td>\n",
              "    </tr>\n",
              "    <tr>\n",
              "      <th>430</th>\n",
              "      <td>0.430</td>\n",
              "      <td>0.837079</td>\n",
              "      <td>0.690141</td>\n",
              "      <td>0.875</td>\n",
              "      <td>0.771654</td>\n",
              "    </tr>\n",
              "    <tr>\n",
              "      <th>431</th>\n",
              "      <td>0.431</td>\n",
              "      <td>0.837079</td>\n",
              "      <td>0.690141</td>\n",
              "      <td>0.875</td>\n",
              "      <td>0.771654</td>\n",
              "    </tr>\n",
              "  </tbody>\n",
              "</table>\n",
              "</div>"
            ],
            "text/plain": [
              "       Cut  Accuracy    Recall  Precision        F1\n",
              "422  0.422  0.837079  0.690141      0.875  0.771654\n",
              "423  0.423  0.837079  0.690141      0.875  0.771654\n",
              "424  0.424  0.837079  0.690141      0.875  0.771654\n",
              "425  0.425  0.837079  0.690141      0.875  0.771654\n",
              "426  0.426  0.837079  0.690141      0.875  0.771654\n",
              "427  0.427  0.837079  0.690141      0.875  0.771654\n",
              "428  0.428  0.837079  0.690141      0.875  0.771654\n",
              "429  0.429  0.837079  0.690141      0.875  0.771654\n",
              "430  0.430  0.837079  0.690141      0.875  0.771654\n",
              "431  0.431  0.837079  0.690141      0.875  0.771654"
            ]
          },
          "metadata": {},
          "execution_count": 36
        }
      ]
    },
    {
      "cell_type": "markdown",
      "metadata": {
        "id": "OJAwHlOOoYu5"
      },
      "source": [
        "Tambien podemos visualizar las importancias de las columnas de nuestro dataset en el modelo aplicado. "
      ]
    },
    {
      "cell_type": "code",
      "metadata": {
        "colab": {
          "base_uri": "https://localhost:8080/",
          "height": 295
        },
        "id": "jybnyD9JoYu5",
        "outputId": "6049ec44-ed8f-4e2d-a921-08acdc9379aa"
      },
      "source": [
        "features = columns_train\n",
        "importances = model_rf.feature_importances_\n",
        "df_importance = pd.DataFrame({'Feature':features,'Importance':importances}).sort_values(by=['Importance'],ascending=True)\n",
        "plt.title('Feature Importances')\n",
        "plt.barh(range(len(df_importance)), df_importance['Importance'], color='b', align='center')\n",
        "plt.yticks(range(len(df_importance)), df_importance['Feature'])\n",
        "plt.xlabel('Relative Importance')\n",
        "plt.show()"
      ],
      "execution_count": null,
      "outputs": [
        {
          "output_type": "display_data",
          "data": {
            "image/png": "[encoded data removed]",
            "text/plain": [
              "<Figure size 432x288 with 1 Axes>"
            ]
          },
          "metadata": {
            "needs_background": "light"
          }
        }
      ]
    },
    {
      "cell_type": "code",
      "metadata": {
        "colab": {
          "base_uri": "https://localhost:8080/",
          "height": 331
        },
        "id": "CMmGKJODoYu6",
        "outputId": "6de28496-c417-4ca8-a3eb-deeb2e640890"
      },
      "source": [
        "df_importance.round(3)"
      ],
      "execution_count": null,
      "outputs": [
        {
          "output_type": "execute_result",
          "data": {
            "text/html": [
              "<div>\n",
              "<style scoped>\n",
              "    .dataframe tbody tr th:only-of-type {\n",
              "        vertical-align: middle;\n",
              "    }\n",
              "\n",
              "    .dataframe tbody tr th {\n",
              "        vertical-align: top;\n",
              "    }\n",
              "\n",
              "    .dataframe thead th {\n",
              "        text-align: right;\n",
              "    }\n",
              "</style>\n",
              "<table border=\"1\" class=\"dataframe\">\n",
              "  <thead>\n",
              "    <tr style=\"text-align: right;\">\n",
              "      <th></th>\n",
              "      <th>Feature</th>\n",
              "      <th>Importance</th>\n",
              "    </tr>\n",
              "  </thead>\n",
              "  <tbody>\n",
              "    <tr>\n",
              "      <th>5</th>\n",
              "      <td>Embarked_Q</td>\n",
              "      <td>0.010</td>\n",
              "    </tr>\n",
              "    <tr>\n",
              "      <th>7</th>\n",
              "      <td>Pclass_2</td>\n",
              "      <td>0.023</td>\n",
              "    </tr>\n",
              "    <tr>\n",
              "      <th>6</th>\n",
              "      <td>Embarked_S</td>\n",
              "      <td>0.031</td>\n",
              "    </tr>\n",
              "    <tr>\n",
              "      <th>3</th>\n",
              "      <td>Parch</td>\n",
              "      <td>0.036</td>\n",
              "    </tr>\n",
              "    <tr>\n",
              "      <th>2</th>\n",
              "      <td>SibSp</td>\n",
              "      <td>0.049</td>\n",
              "    </tr>\n",
              "    <tr>\n",
              "      <th>8</th>\n",
              "      <td>Pclass_3</td>\n",
              "      <td>0.124</td>\n",
              "    </tr>\n",
              "    <tr>\n",
              "      <th>1</th>\n",
              "      <td>Age</td>\n",
              "      <td>0.140</td>\n",
              "    </tr>\n",
              "    <tr>\n",
              "      <th>4</th>\n",
              "      <td>Fare</td>\n",
              "      <td>0.199</td>\n",
              "    </tr>\n",
              "    <tr>\n",
              "      <th>0</th>\n",
              "      <td>Sex</td>\n",
              "      <td>0.387</td>\n",
              "    </tr>\n",
              "  </tbody>\n",
              "</table>\n",
              "</div>"
            ],
            "text/plain": [
              "      Feature  Importance\n",
              "5  Embarked_Q       0.010\n",
              "7    Pclass_2       0.023\n",
              "6  Embarked_S       0.031\n",
              "3       Parch       0.036\n",
              "2       SibSp       0.049\n",
              "8    Pclass_3       0.124\n",
              "1         Age       0.140\n",
              "4        Fare       0.199\n",
              "0         Sex       0.387"
            ]
          },
          "metadata": {},
          "execution_count": 38
        }
      ]
    },
    {
      "cell_type": "markdown",
      "metadata": {
        "id": "KANwPv4QoJ2d"
      },
      "source": [
        "##Caso 3: Profundidad máxima=4, Número de árboles=350"
      ]
    },
    {
      "cell_type": "code",
      "metadata": {
        "id": "uHwO-atZql7h"
      },
      "source": [
        "max_depth=4\n",
        "n_estimators=350"
      ],
      "execution_count": null,
      "outputs": []
    },
    {
      "cell_type": "markdown",
      "metadata": {
        "id": "8uPLHKKCoJ2e"
      },
      "source": [
        "En esta seccion realizaremos una clasificacion mediante random forest con la librería sklearn "
      ]
    },
    {
      "cell_type": "code",
      "metadata": {
        "colab": {
          "base_uri": "https://localhost:8080/"
        },
        "id": "03JJUPnuoJ2e",
        "outputId": "ec6a7383-1331-4d4a-9d77-4243105b785c"
      },
      "source": [
        "# Instanciamos y usamos nuestro modelo de Random forest classifier \n",
        "model_rf = RandomForestClassifier(max_depth= max_depth, n_estimators=n_estimators)\n",
        "model_rf.fit(x_train,y_train)"
      ],
      "execution_count": null,
      "outputs": [
        {
          "output_type": "execute_result",
          "data": {
            "text/plain": [
              "RandomForestClassifier(bootstrap=True, ccp_alpha=0.0, class_weight=None,\n",
              "                       criterion='gini', max_depth=4, max_features='auto',\n",
              "                       max_leaf_nodes=None, max_samples=None,\n",
              "                       min_impurity_decrease=0.0, min_impurity_split=None,\n",
              "                       min_samples_leaf=1, min_samples_split=2,\n",
              "                       min_weight_fraction_leaf=0.0, n_estimators=350,\n",
              "                       n_jobs=None, oob_score=False, random_state=None,\n",
              "                       verbose=0, warm_start=False)"
            ]
          },
          "metadata": {},
          "execution_count": 40
        }
      ]
    },
    {
      "cell_type": "markdown",
      "metadata": {
        "id": "65CPSeBEoJ2f"
      },
      "source": [
        "Ya con nuestro modelo podemos intentar predecir los valores para nuestro conjunto de prueba "
      ]
    },
    {
      "cell_type": "code",
      "metadata": {
        "id": "1wnN-4kXoJ2f"
      },
      "source": [
        "y_pred_raw = model_rf.predict_proba(x_test)"
      ],
      "execution_count": null,
      "outputs": []
    },
    {
      "cell_type": "markdown",
      "metadata": {
        "id": "wisEO-GLoJ2f"
      },
      "source": [
        "Se obtienen los cortes"
      ]
    },
    {
      "cell_type": "code",
      "metadata": {
        "colab": {
          "base_uri": "https://localhost:8080/"
        },
        "id": "4UZrmm1joJ2f",
        "outputId": "ad031de3-7c46-4508-e567-d62b8c166dd0"
      },
      "source": [
        "df_metrics_rf = cuts(y_pred_raw)"
      ],
      "execution_count": null,
      "outputs": [
        {
          "output_type": "stream",
          "name": "stderr",
          "text": [
            "/usr/local/lib/python3.7/dist-packages/sklearn/metrics/_classification.py:1272: UndefinedMetricWarning:\n",
            "\n",
            "Precision is ill-defined and being set to 0.0 due to no predicted samples. Use `zero_division` parameter to control this behavior.\n",
            "\n"
          ]
        }
      ]
    },
    {
      "cell_type": "markdown",
      "metadata": {
        "id": "wXwYns1boJ2g"
      },
      "source": [
        "Ya podemos buscar entre nuestros cortes los modelos donde, por ejemplo, el accuracy y precision tengan un buen valor. "
      ]
    },
    {
      "cell_type": "code",
      "metadata": {
        "colab": {
          "base_uri": "https://localhost:8080/",
          "height": 363
        },
        "id": "eEJRZ5ugoJ2g",
        "outputId": "56ecd698-9c4c-44ef-b487-b2b8afae4dce"
      },
      "source": [
        "df_metrics_rf.sort_values(by=['Accuracy', 'Precision'], ascending=False).head(10)"
      ],
      "execution_count": null,
      "outputs": [
        {
          "output_type": "execute_result",
          "data": {
            "text/html": [
              "<div>\n",
              "<style scoped>\n",
              "    .dataframe tbody tr th:only-of-type {\n",
              "        vertical-align: middle;\n",
              "    }\n",
              "\n",
              "    .dataframe tbody tr th {\n",
              "        vertical-align: top;\n",
              "    }\n",
              "\n",
              "    .dataframe thead th {\n",
              "        text-align: right;\n",
              "    }\n",
              "</style>\n",
              "<table border=\"1\" class=\"dataframe\">\n",
              "  <thead>\n",
              "    <tr style=\"text-align: right;\">\n",
              "      <th></th>\n",
              "      <th>Cut</th>\n",
              "      <th>Accuracy</th>\n",
              "      <th>Recall</th>\n",
              "      <th>Precision</th>\n",
              "      <th>F1</th>\n",
              "    </tr>\n",
              "  </thead>\n",
              "  <tbody>\n",
              "    <tr>\n",
              "      <th>395</th>\n",
              "      <td>0.395</td>\n",
              "      <td>0.837079</td>\n",
              "      <td>0.746479</td>\n",
              "      <td>0.828125</td>\n",
              "      <td>0.785185</td>\n",
              "    </tr>\n",
              "    <tr>\n",
              "      <th>396</th>\n",
              "      <td>0.396</td>\n",
              "      <td>0.837079</td>\n",
              "      <td>0.746479</td>\n",
              "      <td>0.828125</td>\n",
              "      <td>0.785185</td>\n",
              "    </tr>\n",
              "    <tr>\n",
              "      <th>377</th>\n",
              "      <td>0.377</td>\n",
              "      <td>0.837079</td>\n",
              "      <td>0.774648</td>\n",
              "      <td>0.808824</td>\n",
              "      <td>0.791367</td>\n",
              "    </tr>\n",
              "    <tr>\n",
              "      <th>378</th>\n",
              "      <td>0.378</td>\n",
              "      <td>0.837079</td>\n",
              "      <td>0.774648</td>\n",
              "      <td>0.808824</td>\n",
              "      <td>0.791367</td>\n",
              "    </tr>\n",
              "    <tr>\n",
              "      <th>379</th>\n",
              "      <td>0.379</td>\n",
              "      <td>0.837079</td>\n",
              "      <td>0.774648</td>\n",
              "      <td>0.808824</td>\n",
              "      <td>0.791367</td>\n",
              "    </tr>\n",
              "    <tr>\n",
              "      <th>380</th>\n",
              "      <td>0.380</td>\n",
              "      <td>0.837079</td>\n",
              "      <td>0.774648</td>\n",
              "      <td>0.808824</td>\n",
              "      <td>0.791367</td>\n",
              "    </tr>\n",
              "    <tr>\n",
              "      <th>365</th>\n",
              "      <td>0.365</td>\n",
              "      <td>0.837079</td>\n",
              "      <td>0.788732</td>\n",
              "      <td>0.800000</td>\n",
              "      <td>0.794326</td>\n",
              "    </tr>\n",
              "    <tr>\n",
              "      <th>366</th>\n",
              "      <td>0.366</td>\n",
              "      <td>0.837079</td>\n",
              "      <td>0.788732</td>\n",
              "      <td>0.800000</td>\n",
              "      <td>0.794326</td>\n",
              "    </tr>\n",
              "    <tr>\n",
              "      <th>435</th>\n",
              "      <td>0.435</td>\n",
              "      <td>0.831461</td>\n",
              "      <td>0.676056</td>\n",
              "      <td>0.872727</td>\n",
              "      <td>0.761905</td>\n",
              "    </tr>\n",
              "    <tr>\n",
              "      <th>436</th>\n",
              "      <td>0.436</td>\n",
              "      <td>0.831461</td>\n",
              "      <td>0.676056</td>\n",
              "      <td>0.872727</td>\n",
              "      <td>0.761905</td>\n",
              "    </tr>\n",
              "  </tbody>\n",
              "</table>\n",
              "</div>"
            ],
            "text/plain": [
              "       Cut  Accuracy    Recall  Precision        F1\n",
              "395  0.395  0.837079  0.746479   0.828125  0.785185\n",
              "396  0.396  0.837079  0.746479   0.828125  0.785185\n",
              "377  0.377  0.837079  0.774648   0.808824  0.791367\n",
              "378  0.378  0.837079  0.774648   0.808824  0.791367\n",
              "379  0.379  0.837079  0.774648   0.808824  0.791367\n",
              "380  0.380  0.837079  0.774648   0.808824  0.791367\n",
              "365  0.365  0.837079  0.788732   0.800000  0.794326\n",
              "366  0.366  0.837079  0.788732   0.800000  0.794326\n",
              "435  0.435  0.831461  0.676056   0.872727  0.761905\n",
              "436  0.436  0.831461  0.676056   0.872727  0.761905"
            ]
          },
          "metadata": {},
          "execution_count": 43
        }
      ]
    },
    {
      "cell_type": "markdown",
      "metadata": {
        "id": "ekKgk5ZNoJ2g"
      },
      "source": [
        "Tambien podemos visualizar las importancias de las columnas de nuestro dataset en el modelo aplicado. "
      ]
    },
    {
      "cell_type": "code",
      "metadata": {
        "colab": {
          "base_uri": "https://localhost:8080/",
          "height": 295
        },
        "id": "obOHHkBFoJ2g",
        "outputId": "35c58c4e-7eef-4930-d4db-e8faff199473"
      },
      "source": [
        "features = columns_train\n",
        "importances = model_rf.feature_importances_\n",
        "df_importance = pd.DataFrame({'Feature':features,'Importance':importances}).sort_values(by=['Importance'],ascending=True)\n",
        "plt.title('Feature Importances')\n",
        "plt.barh(range(len(df_importance)), df_importance['Importance'], color='b', align='center')\n",
        "plt.yticks(range(len(df_importance)), df_importance['Feature'])\n",
        "plt.xlabel('Relative Importance')\n",
        "plt.show()"
      ],
      "execution_count": null,
      "outputs": [
        {
          "output_type": "display_data",
          "data": {
            "image/png": "[encoded data removed]",
            "text/plain": [
              "<Figure size 432x288 with 1 Axes>"
            ]
          },
          "metadata": {
            "needs_background": "light"
          }
        }
      ]
    },
    {
      "cell_type": "code",
      "metadata": {
        "colab": {
          "base_uri": "https://localhost:8080/",
          "height": 331
        },
        "id": "p_PYOVMhoJ2g",
        "outputId": "65e5c6c2-5a05-411b-d03e-b036e71396ed"
      },
      "source": [
        "df_importance.round(3)"
      ],
      "execution_count": null,
      "outputs": [
        {
          "output_type": "execute_result",
          "data": {
            "text/html": [
              "<div>\n",
              "<style scoped>\n",
              "    .dataframe tbody tr th:only-of-type {\n",
              "        vertical-align: middle;\n",
              "    }\n",
              "\n",
              "    .dataframe tbody tr th {\n",
              "        vertical-align: top;\n",
              "    }\n",
              "\n",
              "    .dataframe thead th {\n",
              "        text-align: right;\n",
              "    }\n",
              "</style>\n",
              "<table border=\"1\" class=\"dataframe\">\n",
              "  <thead>\n",
              "    <tr style=\"text-align: right;\">\n",
              "      <th></th>\n",
              "      <th>Feature</th>\n",
              "      <th>Importance</th>\n",
              "    </tr>\n",
              "  </thead>\n",
              "  <tbody>\n",
              "    <tr>\n",
              "      <th>5</th>\n",
              "      <td>Embarked_Q</td>\n",
              "      <td>0.009</td>\n",
              "    </tr>\n",
              "    <tr>\n",
              "      <th>7</th>\n",
              "      <td>Pclass_2</td>\n",
              "      <td>0.019</td>\n",
              "    </tr>\n",
              "    <tr>\n",
              "      <th>6</th>\n",
              "      <td>Embarked_S</td>\n",
              "      <td>0.026</td>\n",
              "    </tr>\n",
              "    <tr>\n",
              "      <th>3</th>\n",
              "      <td>Parch</td>\n",
              "      <td>0.027</td>\n",
              "    </tr>\n",
              "    <tr>\n",
              "      <th>2</th>\n",
              "      <td>SibSp</td>\n",
              "      <td>0.041</td>\n",
              "    </tr>\n",
              "    <tr>\n",
              "      <th>1</th>\n",
              "      <td>Age</td>\n",
              "      <td>0.097</td>\n",
              "    </tr>\n",
              "    <tr>\n",
              "      <th>8</th>\n",
              "      <td>Pclass_3</td>\n",
              "      <td>0.149</td>\n",
              "    </tr>\n",
              "    <tr>\n",
              "      <th>4</th>\n",
              "      <td>Fare</td>\n",
              "      <td>0.185</td>\n",
              "    </tr>\n",
              "    <tr>\n",
              "      <th>0</th>\n",
              "      <td>Sex</td>\n",
              "      <td>0.447</td>\n",
              "    </tr>\n",
              "  </tbody>\n",
              "</table>\n",
              "</div>"
            ],
            "text/plain": [
              "      Feature  Importance\n",
              "5  Embarked_Q       0.009\n",
              "7    Pclass_2       0.019\n",
              "6  Embarked_S       0.026\n",
              "3       Parch       0.027\n",
              "2       SibSp       0.041\n",
              "1         Age       0.097\n",
              "8    Pclass_3       0.149\n",
              "4        Fare       0.185\n",
              "0         Sex       0.447"
            ]
          },
          "metadata": {},
          "execution_count": 45
        }
      ]
    },
    {
      "cell_type": "markdown",
      "metadata": {
        "id": "GNE0GSUR-nqE"
      },
      "source": [
        "# Gradient Boosting "
      ]
    },
    {
      "cell_type": "code",
      "metadata": {
        "id": "Lw8oADjSrNRT"
      },
      "source": [
        "from sklearn.ensemble import GradientBoostingClassifier"
      ],
      "execution_count": null,
      "outputs": []
    },
    {
      "cell_type": "markdown",
      "metadata": {
        "id": "5w40HyUkrLAB"
      },
      "source": [
        "Creamos variables para los hiperparámetros de profundidad máxima y para el mínimo de muestras necesarias para dividir un nodo"
      ]
    },
    {
      "cell_type": "code",
      "metadata": {
        "id": "LAwFslzdsVtQ"
      },
      "source": [
        "max_depth=2\n",
        "min_samples_split=2"
      ],
      "execution_count": null,
      "outputs": []
    },
    {
      "cell_type": "markdown",
      "metadata": {
        "id": "qYGK5hLGsc7h"
      },
      "source": [
        "##Caso 1: Profundidad máxima=2, Mínimo de muestras para dividir el nodo=2"
      ]
    },
    {
      "cell_type": "markdown",
      "metadata": {
        "id": "sxLMqacm-5cw"
      },
      "source": [
        "En esta seccion realizaremos una classificacion mediante Gradient Boosting con la libreria sklearn "
      ]
    },
    {
      "cell_type": "code",
      "metadata": {
        "colab": {
          "base_uri": "https://localhost:8080/"
        },
        "id": "dLWRILLC-tmc",
        "outputId": "d2951010-91ba-46ff-a58b-1b7a0321729e"
      },
      "source": [
        "# Instanciamos y usamos nuestro modelo Gradient Boosting Classifier \n",
        "model_gb =GradientBoostingClassifier(learning_rate=0.8,\n",
        "     max_depth=max_depth, random_state=0, min_samples_split=min_samples_split)\n",
        "model_gb.fit(x_train,y_train)"
      ],
      "execution_count": null,
      "outputs": [
        {
          "output_type": "execute_result",
          "data": {
            "text/plain": [
              "GradientBoostingClassifier(ccp_alpha=0.0, criterion='friedman_mse', init=None,\n",
              "                           learning_rate=0.8, loss='deviance', max_depth=2,\n",
              "                           max_features=None, max_leaf_nodes=None,\n",
              "                           min_impurity_decrease=0.0, min_impurity_split=None,\n",
              "                           min_samples_leaf=1, min_samples_split=2,\n",
              "                           min_weight_fraction_leaf=0.0, n_estimators=100,\n",
              "                           n_iter_no_change=None, presort='deprecated',\n",
              "                           random_state=0, subsample=1.0, tol=0.0001,\n",
              "                           validation_fraction=0.1, verbose=0,\n",
              "                           warm_start=False)"
            ]
          },
          "metadata": {},
          "execution_count": 82
        }
      ]
    },
    {
      "cell_type": "markdown",
      "metadata": {
        "id": "KHW0x7lT_ZAb"
      },
      "source": [
        "Con nuestro modelo podemos intentar predecir los valores para nuestro conjunto de prueba. "
      ]
    },
    {
      "cell_type": "code",
      "metadata": {
        "colab": {
          "base_uri": "https://localhost:8080/"
        },
        "id": "xxWNZ9UP_ku6",
        "outputId": "d382d65c-34da-400c-84ef-bf5bd3835ace"
      },
      "source": [
        "y_pred_raw = model_gb.predict_proba(x_test)\n",
        "df_metrics_gd = cuts(y_pred_raw)"
      ],
      "execution_count": null,
      "outputs": [
        {
          "output_type": "stream",
          "name": "stderr",
          "text": [
            "/usr/local/lib/python3.7/dist-packages/sklearn/metrics/_classification.py:1272: UndefinedMetricWarning:\n",
            "\n",
            "Precision is ill-defined and being set to 0.0 due to no predicted samples. Use `zero_division` parameter to control this behavior.\n",
            "\n"
          ]
        }
      ]
    },
    {
      "cell_type": "code",
      "metadata": {
        "id": "wU-vdyf-_n4L",
        "colab": {
          "base_uri": "https://localhost:8080/",
          "height": 363
        },
        "outputId": "4c031e1b-4094-4dc5-d4ae-0352aabfa3b5"
      },
      "source": [
        "df_metrics_gd.sort_values(by=['Precision', 'Recall'], ascending=False).head(10)"
      ],
      "execution_count": null,
      "outputs": [
        {
          "output_type": "execute_result",
          "data": {
            "text/html": [
              "<div>\n",
              "<style scoped>\n",
              "    .dataframe tbody tr th:only-of-type {\n",
              "        vertical-align: middle;\n",
              "    }\n",
              "\n",
              "    .dataframe tbody tr th {\n",
              "        vertical-align: top;\n",
              "    }\n",
              "\n",
              "    .dataframe thead th {\n",
              "        text-align: right;\n",
              "    }\n",
              "</style>\n",
              "<table border=\"1\" class=\"dataframe\">\n",
              "  <thead>\n",
              "    <tr style=\"text-align: right;\">\n",
              "      <th></th>\n",
              "      <th>Cut</th>\n",
              "      <th>Accuracy</th>\n",
              "      <th>Recall</th>\n",
              "      <th>Precision</th>\n",
              "      <th>F1</th>\n",
              "    </tr>\n",
              "  </thead>\n",
              "  <tbody>\n",
              "    <tr>\n",
              "      <th>999</th>\n",
              "      <td>0.999</td>\n",
              "      <td>0.612360</td>\n",
              "      <td>0.028169</td>\n",
              "      <td>1.000000</td>\n",
              "      <td>0.054795</td>\n",
              "    </tr>\n",
              "    <tr>\n",
              "      <th>985</th>\n",
              "      <td>0.985</td>\n",
              "      <td>0.719101</td>\n",
              "      <td>0.309859</td>\n",
              "      <td>0.956522</td>\n",
              "      <td>0.468085</td>\n",
              "    </tr>\n",
              "    <tr>\n",
              "      <th>986</th>\n",
              "      <td>0.986</td>\n",
              "      <td>0.719101</td>\n",
              "      <td>0.309859</td>\n",
              "      <td>0.956522</td>\n",
              "      <td>0.468085</td>\n",
              "    </tr>\n",
              "    <tr>\n",
              "      <th>987</th>\n",
              "      <td>0.987</td>\n",
              "      <td>0.719101</td>\n",
              "      <td>0.309859</td>\n",
              "      <td>0.956522</td>\n",
              "      <td>0.468085</td>\n",
              "    </tr>\n",
              "    <tr>\n",
              "      <th>988</th>\n",
              "      <td>0.988</td>\n",
              "      <td>0.719101</td>\n",
              "      <td>0.309859</td>\n",
              "      <td>0.956522</td>\n",
              "      <td>0.468085</td>\n",
              "    </tr>\n",
              "    <tr>\n",
              "      <th>989</th>\n",
              "      <td>0.989</td>\n",
              "      <td>0.719101</td>\n",
              "      <td>0.309859</td>\n",
              "      <td>0.956522</td>\n",
              "      <td>0.468085</td>\n",
              "    </tr>\n",
              "    <tr>\n",
              "      <th>990</th>\n",
              "      <td>0.990</td>\n",
              "      <td>0.719101</td>\n",
              "      <td>0.309859</td>\n",
              "      <td>0.956522</td>\n",
              "      <td>0.468085</td>\n",
              "    </tr>\n",
              "    <tr>\n",
              "      <th>991</th>\n",
              "      <td>0.991</td>\n",
              "      <td>0.719101</td>\n",
              "      <td>0.309859</td>\n",
              "      <td>0.956522</td>\n",
              "      <td>0.468085</td>\n",
              "    </tr>\n",
              "    <tr>\n",
              "      <th>992</th>\n",
              "      <td>0.992</td>\n",
              "      <td>0.707865</td>\n",
              "      <td>0.281690</td>\n",
              "      <td>0.952381</td>\n",
              "      <td>0.434783</td>\n",
              "    </tr>\n",
              "    <tr>\n",
              "      <th>993</th>\n",
              "      <td>0.993</td>\n",
              "      <td>0.691011</td>\n",
              "      <td>0.239437</td>\n",
              "      <td>0.944444</td>\n",
              "      <td>0.382022</td>\n",
              "    </tr>\n",
              "  </tbody>\n",
              "</table>\n",
              "</div>"
            ],
            "text/plain": [
              "       Cut  Accuracy    Recall  Precision        F1\n",
              "999  0.999  0.612360  0.028169   1.000000  0.054795\n",
              "985  0.985  0.719101  0.309859   0.956522  0.468085\n",
              "986  0.986  0.719101  0.309859   0.956522  0.468085\n",
              "987  0.987  0.719101  0.309859   0.956522  0.468085\n",
              "988  0.988  0.719101  0.309859   0.956522  0.468085\n",
              "989  0.989  0.719101  0.309859   0.956522  0.468085\n",
              "990  0.990  0.719101  0.309859   0.956522  0.468085\n",
              "991  0.991  0.719101  0.309859   0.956522  0.468085\n",
              "992  0.992  0.707865  0.281690   0.952381  0.434783\n",
              "993  0.993  0.691011  0.239437   0.944444  0.382022"
            ]
          },
          "metadata": {},
          "execution_count": 84
        }
      ]
    },
    {
      "cell_type": "markdown",
      "metadata": {
        "id": "nbRvqVmDAu0a"
      },
      "source": [
        "Tambien podemos visualizar las importancias de cada columna para nuestro modelo. "
      ]
    },
    {
      "cell_type": "code",
      "metadata": {
        "id": "5LZH0aEuATtX",
        "colab": {
          "base_uri": "https://localhost:8080/",
          "height": 295
        },
        "outputId": "a24c2abe-1a6f-4a29-d50f-2c95b66f6263"
      },
      "source": [
        "features = columns_train\n",
        "importances = model_gb.feature_importances_\n",
        "df_importance = pd.DataFrame({'Feature':features,'Importance':importances}).sort_values(by=['Importance'],ascending=True)\n",
        "plt.title('Feature Importances')\n",
        "plt.barh(range(len(df_importance)), df_importance['Importance'], color='b', align='center')\n",
        "plt.yticks(range(len(df_importance)), df_importance['Feature'])\n",
        "plt.xlabel('Relative Importance')\n",
        "plt.show()"
      ],
      "execution_count": null,
      "outputs": [
        {
          "output_type": "display_data",
          "data": {
            "image/png": "[encoded data removed]",
            "text/plain": [
              "<Figure size 432x288 with 1 Axes>"
            ]
          },
          "metadata": {
            "needs_background": "light"
          }
        }
      ]
    },
    {
      "cell_type": "markdown",
      "metadata": {
        "id": "tGC8mCvjsoMy"
      },
      "source": [
        "##Caso 2: Profundidad máxima=4, Mínimo de muestras para dividir el nodo=2"
      ]
    },
    {
      "cell_type": "code",
      "metadata": {
        "id": "AabTQvwVs8s7"
      },
      "source": [
        "max_depth=4\n",
        "min_samples_split=2"
      ],
      "execution_count": null,
      "outputs": []
    },
    {
      "cell_type": "markdown",
      "metadata": {
        "id": "7yM-ZEHLsoMy"
      },
      "source": [
        "En esta seccion realizaremos una classificacion mediante Gradient Boosting con la libreria sklearn "
      ]
    },
    {
      "cell_type": "code",
      "metadata": {
        "colab": {
          "base_uri": "https://localhost:8080/"
        },
        "id": "Rz43USUCsoMz",
        "outputId": "c8b5098b-af44-4427-85a6-6e08a1384c74"
      },
      "source": [
        "# Instanciamos y usamos nuestro modelo Gradient Boosting Classifier \n",
        "model_gb =GradientBoostingClassifier(learning_rate=0.8,\n",
        "     max_depth=max_depth, random_state=0, min_samples_split=min_samples_split)\n",
        "model_gb.fit(x_train,y_train)"
      ],
      "execution_count": null,
      "outputs": [
        {
          "output_type": "execute_result",
          "data": {
            "text/plain": [
              "GradientBoostingClassifier(ccp_alpha=0.0, criterion='friedman_mse', init=None,\n",
              "                           learning_rate=0.8, loss='deviance', max_depth=4,\n",
              "                           max_features=None, max_leaf_nodes=None,\n",
              "                           min_impurity_decrease=0.0, min_impurity_split=None,\n",
              "                           min_samples_leaf=1, min_samples_split=2,\n",
              "                           min_weight_fraction_leaf=0.0, n_estimators=100,\n",
              "                           n_iter_no_change=None, presort='deprecated',\n",
              "                           random_state=0, subsample=1.0, tol=0.0001,\n",
              "                           validation_fraction=0.1, verbose=0,\n",
              "                           warm_start=False)"
            ]
          },
          "metadata": {},
          "execution_count": 87
        }
      ]
    },
    {
      "cell_type": "markdown",
      "metadata": {
        "id": "cWnf3R58soMz"
      },
      "source": [
        "Con nuestro modelo podemos intentar predecir los valores para nuestro conjunto de prueba. "
      ]
    },
    {
      "cell_type": "code",
      "metadata": {
        "colab": {
          "base_uri": "https://localhost:8080/"
        },
        "id": "irCIwKa6soM0",
        "outputId": "a619a98a-f5e0-4c3a-d175-8f8e4396fb3b"
      },
      "source": [
        "y_pred_raw = model_gb.predict_proba(x_test)\n",
        "df_metrics_gd = cuts(y_pred_raw)"
      ],
      "execution_count": null,
      "outputs": [
        {
          "output_type": "stream",
          "name": "stderr",
          "text": [
            "/usr/local/lib/python3.7/dist-packages/sklearn/metrics/_classification.py:1272: UndefinedMetricWarning:\n",
            "\n",
            "Precision is ill-defined and being set to 0.0 due to no predicted samples. Use `zero_division` parameter to control this behavior.\n",
            "\n"
          ]
        }
      ]
    },
    {
      "cell_type": "code",
      "metadata": {
        "colab": {
          "base_uri": "https://localhost:8080/",
          "height": 363
        },
        "id": "-JD4U014soM0",
        "outputId": "d23bf7c3-025a-427a-c279-f0ab91573d83"
      },
      "source": [
        "df_metrics_gd.sort_values(by=['Precision', 'Recall'], ascending=False).head(10)"
      ],
      "execution_count": null,
      "outputs": [
        {
          "output_type": "execute_result",
          "data": {
            "text/html": [
              "<div>\n",
              "<style scoped>\n",
              "    .dataframe tbody tr th:only-of-type {\n",
              "        vertical-align: middle;\n",
              "    }\n",
              "\n",
              "    .dataframe tbody tr th {\n",
              "        vertical-align: top;\n",
              "    }\n",
              "\n",
              "    .dataframe thead th {\n",
              "        text-align: right;\n",
              "    }\n",
              "</style>\n",
              "<table border=\"1\" class=\"dataframe\">\n",
              "  <thead>\n",
              "    <tr style=\"text-align: right;\">\n",
              "      <th></th>\n",
              "      <th>Cut</th>\n",
              "      <th>Accuracy</th>\n",
              "      <th>Recall</th>\n",
              "      <th>Precision</th>\n",
              "      <th>F1</th>\n",
              "    </tr>\n",
              "  </thead>\n",
              "  <tbody>\n",
              "    <tr>\n",
              "      <th>999</th>\n",
              "      <td>0.999</td>\n",
              "      <td>0.719101</td>\n",
              "      <td>0.309859</td>\n",
              "      <td>0.956522</td>\n",
              "      <td>0.468085</td>\n",
              "    </tr>\n",
              "    <tr>\n",
              "      <th>998</th>\n",
              "      <td>0.998</td>\n",
              "      <td>0.730337</td>\n",
              "      <td>0.352113</td>\n",
              "      <td>0.925926</td>\n",
              "      <td>0.510204</td>\n",
              "    </tr>\n",
              "    <tr>\n",
              "      <th>989</th>\n",
              "      <td>0.989</td>\n",
              "      <td>0.775281</td>\n",
              "      <td>0.478873</td>\n",
              "      <td>0.918919</td>\n",
              "      <td>0.629630</td>\n",
              "    </tr>\n",
              "    <tr>\n",
              "      <th>990</th>\n",
              "      <td>0.990</td>\n",
              "      <td>0.775281</td>\n",
              "      <td>0.478873</td>\n",
              "      <td>0.918919</td>\n",
              "      <td>0.629630</td>\n",
              "    </tr>\n",
              "    <tr>\n",
              "      <th>991</th>\n",
              "      <td>0.991</td>\n",
              "      <td>0.775281</td>\n",
              "      <td>0.478873</td>\n",
              "      <td>0.918919</td>\n",
              "      <td>0.629630</td>\n",
              "    </tr>\n",
              "    <tr>\n",
              "      <th>992</th>\n",
              "      <td>0.992</td>\n",
              "      <td>0.764045</td>\n",
              "      <td>0.450704</td>\n",
              "      <td>0.914286</td>\n",
              "      <td>0.603774</td>\n",
              "    </tr>\n",
              "    <tr>\n",
              "      <th>993</th>\n",
              "      <td>0.993</td>\n",
              "      <td>0.764045</td>\n",
              "      <td>0.450704</td>\n",
              "      <td>0.914286</td>\n",
              "      <td>0.603774</td>\n",
              "    </tr>\n",
              "    <tr>\n",
              "      <th>994</th>\n",
              "      <td>0.994</td>\n",
              "      <td>0.758427</td>\n",
              "      <td>0.436620</td>\n",
              "      <td>0.911765</td>\n",
              "      <td>0.590476</td>\n",
              "    </tr>\n",
              "    <tr>\n",
              "      <th>968</th>\n",
              "      <td>0.968</td>\n",
              "      <td>0.797753</td>\n",
              "      <td>0.549296</td>\n",
              "      <td>0.906977</td>\n",
              "      <td>0.684211</td>\n",
              "    </tr>\n",
              "    <tr>\n",
              "      <th>969</th>\n",
              "      <td>0.969</td>\n",
              "      <td>0.797753</td>\n",
              "      <td>0.549296</td>\n",
              "      <td>0.906977</td>\n",
              "      <td>0.684211</td>\n",
              "    </tr>\n",
              "  </tbody>\n",
              "</table>\n",
              "</div>"
            ],
            "text/plain": [
              "       Cut  Accuracy    Recall  Precision        F1\n",
              "999  0.999  0.719101  0.309859   0.956522  0.468085\n",
              "998  0.998  0.730337  0.352113   0.925926  0.510204\n",
              "989  0.989  0.775281  0.478873   0.918919  0.629630\n",
              "990  0.990  0.775281  0.478873   0.918919  0.629630\n",
              "991  0.991  0.775281  0.478873   0.918919  0.629630\n",
              "992  0.992  0.764045  0.450704   0.914286  0.603774\n",
              "993  0.993  0.764045  0.450704   0.914286  0.603774\n",
              "994  0.994  0.758427  0.436620   0.911765  0.590476\n",
              "968  0.968  0.797753  0.549296   0.906977  0.684211\n",
              "969  0.969  0.797753  0.549296   0.906977  0.684211"
            ]
          },
          "metadata": {},
          "execution_count": 89
        }
      ]
    },
    {
      "cell_type": "markdown",
      "metadata": {
        "id": "wys_pBd2soM1"
      },
      "source": [
        "Tambien podemos visualizar las importancias de cada columna para nuestro modelo. "
      ]
    },
    {
      "cell_type": "code",
      "metadata": {
        "colab": {
          "base_uri": "https://localhost:8080/",
          "height": 295
        },
        "id": "9tJVRJIKsoM1",
        "outputId": "7e95ddd4-9e7b-4c9f-8e97-1228142f272b"
      },
      "source": [
        "features = columns_train\n",
        "importances = model_gb.feature_importances_\n",
        "df_importance = pd.DataFrame({'Feature':features,'Importance':importances}).sort_values(by=['Importance'],ascending=True)\n",
        "plt.title('Feature Importances')\n",
        "plt.barh(range(len(df_importance)), df_importance['Importance'], color='b', align='center')\n",
        "plt.yticks(range(len(df_importance)), df_importance['Feature'])\n",
        "plt.xlabel('Relative Importance')\n",
        "plt.show()"
      ],
      "execution_count": null,
      "outputs": [
        {
          "output_type": "display_data",
          "data": {
            "image/png": "[encoded data removed]",
            "text/plain": [
              "<Figure size 432x288 with 1 Axes>"
            ]
          },
          "metadata": {
            "needs_background": "light"
          }
        }
      ]
    },
    {
      "cell_type": "markdown",
      "metadata": {
        "id": "l0WvX1sJspck"
      },
      "source": [
        "##Caso 3: Profundidad máxima=2, Mínimo de muestras para dividir el nodo=5"
      ]
    },
    {
      "cell_type": "code",
      "metadata": {
        "id": "BKBqmCOAs_0W"
      },
      "source": [
        "max_depth=2\n",
        "min_samples_split=5"
      ],
      "execution_count": null,
      "outputs": []
    },
    {
      "cell_type": "markdown",
      "metadata": {
        "id": "vu_yg99Mspcl"
      },
      "source": [
        "En esta seccion realizaremos una classificacion mediante Gradient Boosting con la libreria sklearn "
      ]
    },
    {
      "cell_type": "code",
      "metadata": {
        "colab": {
          "base_uri": "https://localhost:8080/"
        },
        "id": "rkm4VIE-spcl",
        "outputId": "11d8c900-a36a-4446-da7a-dfd841ccf8fe"
      },
      "source": [
        "# Instanciamos y usamos nuestro modelo Gradient Boosting Classifier \n",
        "model_gb =GradientBoostingClassifier(learning_rate=0.8,\n",
        "     max_depth=max_depth, random_state=0, min_samples_split=min_samples_split)\n",
        "model_gb.fit(x_train,y_train)"
      ],
      "execution_count": null,
      "outputs": [
        {
          "output_type": "execute_result",
          "data": {
            "text/plain": [
              "GradientBoostingClassifier(ccp_alpha=0.0, criterion='friedman_mse', init=None,\n",
              "                           learning_rate=0.8, loss='deviance', max_depth=2,\n",
              "                           max_features=None, max_leaf_nodes=None,\n",
              "                           min_impurity_decrease=0.0, min_impurity_split=None,\n",
              "                           min_samples_leaf=1, min_samples_split=5,\n",
              "                           min_weight_fraction_leaf=0.0, n_estimators=100,\n",
              "                           n_iter_no_change=None, presort='deprecated',\n",
              "                           random_state=0, subsample=1.0, tol=0.0001,\n",
              "                           validation_fraction=0.1, verbose=0,\n",
              "                           warm_start=False)"
            ]
          },
          "metadata": {},
          "execution_count": 92
        }
      ]
    },
    {
      "cell_type": "markdown",
      "metadata": {
        "id": "rQCJg1OOspcl"
      },
      "source": [
        "Con nuestro modelo podemos intentar predecir los valores para nuestro conjunto de prueba. "
      ]
    },
    {
      "cell_type": "code",
      "metadata": {
        "colab": {
          "base_uri": "https://localhost:8080/"
        },
        "id": "ApkZ0PvRspcm",
        "outputId": "a4f61edf-3eef-4581-83b3-818171ae31d2"
      },
      "source": [
        "y_pred_raw = model_gb.predict_proba(x_test)\n",
        "df_metrics_gd = cuts(y_pred_raw)"
      ],
      "execution_count": null,
      "outputs": [
        {
          "output_type": "stream",
          "name": "stderr",
          "text": [
            "/usr/local/lib/python3.7/dist-packages/sklearn/metrics/_classification.py:1272: UndefinedMetricWarning:\n",
            "\n",
            "Precision is ill-defined and being set to 0.0 due to no predicted samples. Use `zero_division` parameter to control this behavior.\n",
            "\n"
          ]
        }
      ]
    },
    {
      "cell_type": "code",
      "metadata": {
        "colab": {
          "base_uri": "https://localhost:8080/",
          "height": 363
        },
        "id": "jNjO2mZ4spcm",
        "outputId": "50a9ac98-4a1c-484f-ab7b-38db62a3efe6"
      },
      "source": [
        "df_metrics_gd.sort_values(by=['Precision', 'Recall'], ascending=False).head(10)"
      ],
      "execution_count": null,
      "outputs": [
        {
          "output_type": "execute_result",
          "data": {
            "text/html": [
              "<div>\n",
              "<style scoped>\n",
              "    .dataframe tbody tr th:only-of-type {\n",
              "        vertical-align: middle;\n",
              "    }\n",
              "\n",
              "    .dataframe tbody tr th {\n",
              "        vertical-align: top;\n",
              "    }\n",
              "\n",
              "    .dataframe thead th {\n",
              "        text-align: right;\n",
              "    }\n",
              "</style>\n",
              "<table border=\"1\" class=\"dataframe\">\n",
              "  <thead>\n",
              "    <tr style=\"text-align: right;\">\n",
              "      <th></th>\n",
              "      <th>Cut</th>\n",
              "      <th>Accuracy</th>\n",
              "      <th>Recall</th>\n",
              "      <th>Precision</th>\n",
              "      <th>F1</th>\n",
              "    </tr>\n",
              "  </thead>\n",
              "  <tbody>\n",
              "    <tr>\n",
              "      <th>999</th>\n",
              "      <td>0.999</td>\n",
              "      <td>0.612360</td>\n",
              "      <td>0.028169</td>\n",
              "      <td>1.000000</td>\n",
              "      <td>0.054795</td>\n",
              "    </tr>\n",
              "    <tr>\n",
              "      <th>985</th>\n",
              "      <td>0.985</td>\n",
              "      <td>0.719101</td>\n",
              "      <td>0.309859</td>\n",
              "      <td>0.956522</td>\n",
              "      <td>0.468085</td>\n",
              "    </tr>\n",
              "    <tr>\n",
              "      <th>986</th>\n",
              "      <td>0.986</td>\n",
              "      <td>0.719101</td>\n",
              "      <td>0.309859</td>\n",
              "      <td>0.956522</td>\n",
              "      <td>0.468085</td>\n",
              "    </tr>\n",
              "    <tr>\n",
              "      <th>987</th>\n",
              "      <td>0.987</td>\n",
              "      <td>0.719101</td>\n",
              "      <td>0.309859</td>\n",
              "      <td>0.956522</td>\n",
              "      <td>0.468085</td>\n",
              "    </tr>\n",
              "    <tr>\n",
              "      <th>988</th>\n",
              "      <td>0.988</td>\n",
              "      <td>0.719101</td>\n",
              "      <td>0.309859</td>\n",
              "      <td>0.956522</td>\n",
              "      <td>0.468085</td>\n",
              "    </tr>\n",
              "    <tr>\n",
              "      <th>989</th>\n",
              "      <td>0.989</td>\n",
              "      <td>0.719101</td>\n",
              "      <td>0.309859</td>\n",
              "      <td>0.956522</td>\n",
              "      <td>0.468085</td>\n",
              "    </tr>\n",
              "    <tr>\n",
              "      <th>990</th>\n",
              "      <td>0.990</td>\n",
              "      <td>0.719101</td>\n",
              "      <td>0.309859</td>\n",
              "      <td>0.956522</td>\n",
              "      <td>0.468085</td>\n",
              "    </tr>\n",
              "    <tr>\n",
              "      <th>991</th>\n",
              "      <td>0.991</td>\n",
              "      <td>0.719101</td>\n",
              "      <td>0.309859</td>\n",
              "      <td>0.956522</td>\n",
              "      <td>0.468085</td>\n",
              "    </tr>\n",
              "    <tr>\n",
              "      <th>992</th>\n",
              "      <td>0.992</td>\n",
              "      <td>0.707865</td>\n",
              "      <td>0.281690</td>\n",
              "      <td>0.952381</td>\n",
              "      <td>0.434783</td>\n",
              "    </tr>\n",
              "    <tr>\n",
              "      <th>993</th>\n",
              "      <td>0.993</td>\n",
              "      <td>0.691011</td>\n",
              "      <td>0.239437</td>\n",
              "      <td>0.944444</td>\n",
              "      <td>0.382022</td>\n",
              "    </tr>\n",
              "  </tbody>\n",
              "</table>\n",
              "</div>"
            ],
            "text/plain": [
              "       Cut  Accuracy    Recall  Precision        F1\n",
              "999  0.999  0.612360  0.028169   1.000000  0.054795\n",
              "985  0.985  0.719101  0.309859   0.956522  0.468085\n",
              "986  0.986  0.719101  0.309859   0.956522  0.468085\n",
              "987  0.987  0.719101  0.309859   0.956522  0.468085\n",
              "988  0.988  0.719101  0.309859   0.956522  0.468085\n",
              "989  0.989  0.719101  0.309859   0.956522  0.468085\n",
              "990  0.990  0.719101  0.309859   0.956522  0.468085\n",
              "991  0.991  0.719101  0.309859   0.956522  0.468085\n",
              "992  0.992  0.707865  0.281690   0.952381  0.434783\n",
              "993  0.993  0.691011  0.239437   0.944444  0.382022"
            ]
          },
          "metadata": {},
          "execution_count": 94
        }
      ]
    },
    {
      "cell_type": "markdown",
      "metadata": {
        "id": "JVHOjNDvspcm"
      },
      "source": [
        "Tambien podemos visualizar las importancias de cada columna para nuestro modelo. "
      ]
    },
    {
      "cell_type": "code",
      "metadata": {
        "colab": {
          "base_uri": "https://localhost:8080/",
          "height": 295
        },
        "id": "W1mqUcX_spcm",
        "outputId": "bfa79f08-e2ce-4b2f-b61c-86aa9af80c2e"
      },
      "source": [
        "features = columns_train\n",
        "importances = model_gb.feature_importances_\n",
        "df_importance = pd.DataFrame({'Feature':features,'Importance':importances}).sort_values(by=['Importance'],ascending=True)\n",
        "plt.title('Feature Importances')\n",
        "plt.barh(range(len(df_importance)), df_importance['Importance'], color='b', align='center')\n",
        "plt.yticks(range(len(df_importance)), df_importance['Feature'])\n",
        "plt.xlabel('Relative Importance')\n",
        "plt.show()"
      ],
      "execution_count": null,
      "outputs": [
        {
          "output_type": "display_data",
          "data": {
            "image/png": "[encoded data removed]",
            "text/plain": [
              "<Figure size 432x288 with 1 Axes>"
            ]
          },
          "metadata": {
            "needs_background": "light"
          }
        }
      ]
    },
    {
      "cell_type": "markdown",
      "metadata": {
        "id": "AbQ4E478A0NH"
      },
      "source": [
        "# XGBoost "
      ]
    },
    {
      "cell_type": "code",
      "metadata": {
        "id": "dPLtatf5tnMK"
      },
      "source": [
        "import xgboost as xgb"
      ],
      "execution_count": null,
      "outputs": []
    },
    {
      "cell_type": "markdown",
      "metadata": {
        "id": "40ANe-2BtoQ2"
      },
      "source": [
        "Creamos variables para los hiperparámetros de profundidad máxima y para el número de árboles"
      ]
    },
    {
      "cell_type": "code",
      "metadata": {
        "id": "7t1_ZKUstrSr"
      },
      "source": [
        "max_depth=2\n",
        "n_estimators=150"
      ],
      "execution_count": null,
      "outputs": []
    },
    {
      "cell_type": "markdown",
      "metadata": {
        "id": "va66ELPkwtli"
      },
      "source": [
        "##Caso 1: Profundidad máxima=2, Número de árboles=150"
      ]
    },
    {
      "cell_type": "markdown",
      "metadata": {
        "id": "gxHuJWW5A5aJ"
      },
      "source": [
        "En esta seccion realizaremos una classificacion con XGBoost con la libreria xgboost"
      ]
    },
    {
      "cell_type": "code",
      "metadata": {
        "id": "nTthqGQUA3Qk"
      },
      "source": [
        "# Instanciamos y usamos nuestro modelo de XGBoost Classifier \n",
        "model_xgb = xgb.XGBClassifier(\n",
        "    n_estimators=n_estimators,\n",
        "    reg_lambda=1,\n",
        "    gamma=0,\n",
        "    max_depth=max_depth\n",
        ")"
      ],
      "execution_count": null,
      "outputs": []
    },
    {
      "cell_type": "code",
      "metadata": {
        "colab": {
          "base_uri": "https://localhost:8080/"
        },
        "id": "IBW1qkSzBRtG",
        "outputId": "68634e03-6040-4621-f71f-616c235e9e74"
      },
      "source": [
        "model_xgb.fit(x_train, y_train)"
      ],
      "execution_count": null,
      "outputs": [
        {
          "output_type": "execute_result",
          "data": {
            "text/plain": [
              "XGBClassifier(base_score=0.5, booster='gbtree', colsample_bylevel=1,\n",
              "              colsample_bynode=1, colsample_bytree=1, gamma=0,\n",
              "              learning_rate=0.1, max_delta_step=0, max_depth=2,\n",
              "              min_child_weight=1, missing=None, n_estimators=150, n_jobs=1,\n",
              "              nthread=None, objective='binary:logistic', random_state=0,\n",
              "              reg_alpha=0, reg_lambda=1, scale_pos_weight=1, seed=None,\n",
              "              silent=None, subsample=1, verbosity=1)"
            ]
          },
          "metadata": {},
          "execution_count": 99
        }
      ]
    },
    {
      "cell_type": "markdown",
      "metadata": {
        "id": "N3xCyMj0BYrU"
      },
      "source": [
        "Ya con nuestro modelo podemos intentar predecir los valores para nuestro conjunto de prueba. "
      ]
    },
    {
      "cell_type": "code",
      "metadata": {
        "colab": {
          "base_uri": "https://localhost:8080/"
        },
        "id": "b56ni06IBe-4",
        "outputId": "ed60d0d0-241f-476a-85c4-447edf557126"
      },
      "source": [
        "y_pred_raw = model_xgb.predict_proba(x_test)\n",
        "df_metrics_xgb = cuts(y_pred_raw)"
      ],
      "execution_count": null,
      "outputs": [
        {
          "output_type": "stream",
          "name": "stderr",
          "text": [
            "/usr/local/lib/python3.7/dist-packages/sklearn/metrics/_classification.py:1272: UndefinedMetricWarning:\n",
            "\n",
            "Precision is ill-defined and being set to 0.0 due to no predicted samples. Use `zero_division` parameter to control this behavior.\n",
            "\n"
          ]
        }
      ]
    },
    {
      "cell_type": "code",
      "metadata": {
        "colab": {
          "base_uri": "https://localhost:8080/",
          "height": 424
        },
        "id": "frKhH63LBjZS",
        "outputId": "9520d9cd-f262-4bcc-e0a7-5e2c7095fd7a"
      },
      "source": [
        "df_metrics_xgb.sort_values(by=['F1'], ascending=False)"
      ],
      "execution_count": null,
      "outputs": [
        {
          "output_type": "execute_result",
          "data": {
            "text/html": [
              "<div>\n",
              "<style scoped>\n",
              "    .dataframe tbody tr th:only-of-type {\n",
              "        vertical-align: middle;\n",
              "    }\n",
              "\n",
              "    .dataframe tbody tr th {\n",
              "        vertical-align: top;\n",
              "    }\n",
              "\n",
              "    .dataframe thead th {\n",
              "        text-align: right;\n",
              "    }\n",
              "</style>\n",
              "<table border=\"1\" class=\"dataframe\">\n",
              "  <thead>\n",
              "    <tr style=\"text-align: right;\">\n",
              "      <th></th>\n",
              "      <th>Cut</th>\n",
              "      <th>Accuracy</th>\n",
              "      <th>Recall</th>\n",
              "      <th>Precision</th>\n",
              "      <th>F1</th>\n",
              "    </tr>\n",
              "  </thead>\n",
              "  <tbody>\n",
              "    <tr>\n",
              "      <th>290</th>\n",
              "      <td>0.290</td>\n",
              "      <td>0.848315</td>\n",
              "      <td>0.830986</td>\n",
              "      <td>0.797297</td>\n",
              "      <td>0.813793</td>\n",
              "    </tr>\n",
              "    <tr>\n",
              "      <th>279</th>\n",
              "      <td>0.279</td>\n",
              "      <td>0.848315</td>\n",
              "      <td>0.830986</td>\n",
              "      <td>0.797297</td>\n",
              "      <td>0.813793</td>\n",
              "    </tr>\n",
              "    <tr>\n",
              "      <th>277</th>\n",
              "      <td>0.277</td>\n",
              "      <td>0.848315</td>\n",
              "      <td>0.830986</td>\n",
              "      <td>0.797297</td>\n",
              "      <td>0.813793</td>\n",
              "    </tr>\n",
              "    <tr>\n",
              "      <th>276</th>\n",
              "      <td>0.276</td>\n",
              "      <td>0.848315</td>\n",
              "      <td>0.830986</td>\n",
              "      <td>0.797297</td>\n",
              "      <td>0.813793</td>\n",
              "    </tr>\n",
              "    <tr>\n",
              "      <th>275</th>\n",
              "      <td>0.275</td>\n",
              "      <td>0.848315</td>\n",
              "      <td>0.830986</td>\n",
              "      <td>0.797297</td>\n",
              "      <td>0.813793</td>\n",
              "    </tr>\n",
              "    <tr>\n",
              "      <th>...</th>\n",
              "      <td>...</td>\n",
              "      <td>...</td>\n",
              "      <td>...</td>\n",
              "      <td>...</td>\n",
              "      <td>...</td>\n",
              "    </tr>\n",
              "    <tr>\n",
              "      <th>988</th>\n",
              "      <td>0.988</td>\n",
              "      <td>0.601124</td>\n",
              "      <td>0.000000</td>\n",
              "      <td>0.000000</td>\n",
              "      <td>0.000000</td>\n",
              "    </tr>\n",
              "    <tr>\n",
              "      <th>987</th>\n",
              "      <td>0.987</td>\n",
              "      <td>0.601124</td>\n",
              "      <td>0.000000</td>\n",
              "      <td>0.000000</td>\n",
              "      <td>0.000000</td>\n",
              "    </tr>\n",
              "    <tr>\n",
              "      <th>986</th>\n",
              "      <td>0.986</td>\n",
              "      <td>0.601124</td>\n",
              "      <td>0.000000</td>\n",
              "      <td>0.000000</td>\n",
              "      <td>0.000000</td>\n",
              "    </tr>\n",
              "    <tr>\n",
              "      <th>985</th>\n",
              "      <td>0.985</td>\n",
              "      <td>0.601124</td>\n",
              "      <td>0.000000</td>\n",
              "      <td>0.000000</td>\n",
              "      <td>0.000000</td>\n",
              "    </tr>\n",
              "    <tr>\n",
              "      <th>1000</th>\n",
              "      <td>1.000</td>\n",
              "      <td>0.601124</td>\n",
              "      <td>0.000000</td>\n",
              "      <td>0.000000</td>\n",
              "      <td>0.000000</td>\n",
              "    </tr>\n",
              "  </tbody>\n",
              "</table>\n",
              "<p>1001 rows × 5 columns</p>\n",
              "</div>"
            ],
            "text/plain": [
              "        Cut  Accuracy    Recall  Precision        F1\n",
              "290   0.290  0.848315  0.830986   0.797297  0.813793\n",
              "279   0.279  0.848315  0.830986   0.797297  0.813793\n",
              "277   0.277  0.848315  0.830986   0.797297  0.813793\n",
              "276   0.276  0.848315  0.830986   0.797297  0.813793\n",
              "275   0.275  0.848315  0.830986   0.797297  0.813793\n",
              "...     ...       ...       ...        ...       ...\n",
              "988   0.988  0.601124  0.000000   0.000000  0.000000\n",
              "987   0.987  0.601124  0.000000   0.000000  0.000000\n",
              "986   0.986  0.601124  0.000000   0.000000  0.000000\n",
              "985   0.985  0.601124  0.000000   0.000000  0.000000\n",
              "1000  1.000  0.601124  0.000000   0.000000  0.000000\n",
              "\n",
              "[1001 rows x 5 columns]"
            ]
          },
          "metadata": {},
          "execution_count": 101
        }
      ]
    },
    {
      "cell_type": "markdown",
      "metadata": {
        "id": "XzEZPVQUCCnw"
      },
      "source": [
        "Tambien podemos visualizar las importancias de cada columna en nuestro modelo. "
      ]
    },
    {
      "cell_type": "code",
      "metadata": {
        "colab": {
          "base_uri": "https://localhost:8080/",
          "height": 295
        },
        "id": "Ed-y3LVECARQ",
        "outputId": "7ad4a042-f3f9-446e-bbbb-53c1905eed88"
      },
      "source": [
        "features = columns_train\n",
        "importances = model_xgb.feature_importances_\n",
        "df_importance = pd.DataFrame({'Feature':features,'Importance':importances}).sort_values(by=['Importance'],ascending=True)\n",
        "plt.title('Feature Importances')\n",
        "plt.barh(range(len(df_importance)), df_importance['Importance'], color='b', align='center')\n",
        "plt.yticks(range(len(df_importance)), df_importance['Feature'])\n",
        "plt.xlabel('Relative Importance')\n",
        "plt.show()"
      ],
      "execution_count": null,
      "outputs": [
        {
          "output_type": "display_data",
          "data": {
            "image/png": "[encoded data removed]",
            "text/plain": [
              "<Figure size 432x288 with 1 Axes>"
            ]
          },
          "metadata": {
            "needs_background": "light"
          }
        }
      ]
    },
    {
      "cell_type": "markdown",
      "metadata": {
        "id": "q9vFH7Oowzsw"
      },
      "source": [
        "##Caso 2: Profundidad máxima=3, Número de árboles=150"
      ]
    },
    {
      "cell_type": "code",
      "metadata": {
        "id": "lUH0ohZdw95B"
      },
      "source": [
        "max_depth=3\n",
        "n_estimators=150"
      ],
      "execution_count": null,
      "outputs": []
    },
    {
      "cell_type": "markdown",
      "metadata": {
        "id": "quPZCx00wzsx"
      },
      "source": [
        "En esta seccion realizaremos una classificacion con XGBoost con la libreria xgboost"
      ]
    },
    {
      "cell_type": "code",
      "metadata": {
        "id": "85lFCnzhwzsx"
      },
      "source": [
        "# Instanciamos y usamos nuestro modelo de XGBoost Classifier \n",
        "model_xgb = xgb.XGBClassifier(\n",
        "    n_estimators=n_estimators,\n",
        "    reg_lambda=1,\n",
        "    gamma=0,\n",
        "    max_depth=max_depth\n",
        ")"
      ],
      "execution_count": null,
      "outputs": []
    },
    {
      "cell_type": "code",
      "metadata": {
        "colab": {
          "base_uri": "https://localhost:8080/"
        },
        "id": "YgEtzFFGwzsx",
        "outputId": "b9fb070b-b0df-4d0a-ca9e-f453393c56cc"
      },
      "source": [
        "model_xgb.fit(x_train, y_train)"
      ],
      "execution_count": null,
      "outputs": [
        {
          "output_type": "execute_result",
          "data": {
            "text/plain": [
              "XGBClassifier(base_score=0.5, booster='gbtree', colsample_bylevel=1,\n",
              "              colsample_bynode=1, colsample_bytree=1, gamma=0,\n",
              "              learning_rate=0.1, max_delta_step=0, max_depth=3,\n",
              "              min_child_weight=1, missing=None, n_estimators=150, n_jobs=1,\n",
              "              nthread=None, objective='binary:logistic', random_state=0,\n",
              "              reg_alpha=0, reg_lambda=1, scale_pos_weight=1, seed=None,\n",
              "              silent=None, subsample=1, verbosity=1)"
            ]
          },
          "metadata": {},
          "execution_count": 105
        }
      ]
    },
    {
      "cell_type": "markdown",
      "metadata": {
        "id": "dnmZ9byNwzsy"
      },
      "source": [
        "Ya con nuestro modelo podemos intentar predecir los valores para nuestro conjunto de prueba. "
      ]
    },
    {
      "cell_type": "code",
      "metadata": {
        "colab": {
          "base_uri": "https://localhost:8080/"
        },
        "id": "ns4moEBywzsy",
        "outputId": "d30b8395-3b15-4b57-baca-5b7579967d33"
      },
      "source": [
        "y_pred_raw = model_xgb.predict_proba(x_test)\n",
        "df_metrics_xgb = cuts(y_pred_raw)"
      ],
      "execution_count": null,
      "outputs": [
        {
          "output_type": "stream",
          "name": "stderr",
          "text": [
            "/usr/local/lib/python3.7/dist-packages/sklearn/metrics/_classification.py:1272: UndefinedMetricWarning:\n",
            "\n",
            "Precision is ill-defined and being set to 0.0 due to no predicted samples. Use `zero_division` parameter to control this behavior.\n",
            "\n"
          ]
        }
      ]
    },
    {
      "cell_type": "code",
      "metadata": {
        "colab": {
          "base_uri": "https://localhost:8080/",
          "height": 424
        },
        "id": "FTuf-IC-wzsy",
        "outputId": "ebe0f1ba-75c0-4837-feb9-cbbec9e5f59d"
      },
      "source": [
        "df_metrics_xgb.sort_values(by=['F1'], ascending=False)"
      ],
      "execution_count": null,
      "outputs": [
        {
          "output_type": "execute_result",
          "data": {
            "text/html": [
              "<div>\n",
              "<style scoped>\n",
              "    .dataframe tbody tr th:only-of-type {\n",
              "        vertical-align: middle;\n",
              "    }\n",
              "\n",
              "    .dataframe tbody tr th {\n",
              "        vertical-align: top;\n",
              "    }\n",
              "\n",
              "    .dataframe thead th {\n",
              "        text-align: right;\n",
              "    }\n",
              "</style>\n",
              "<table border=\"1\" class=\"dataframe\">\n",
              "  <thead>\n",
              "    <tr style=\"text-align: right;\">\n",
              "      <th></th>\n",
              "      <th>Cut</th>\n",
              "      <th>Accuracy</th>\n",
              "      <th>Recall</th>\n",
              "      <th>Precision</th>\n",
              "      <th>F1</th>\n",
              "    </tr>\n",
              "  </thead>\n",
              "  <tbody>\n",
              "    <tr>\n",
              "      <th>284</th>\n",
              "      <td>0.284</td>\n",
              "      <td>0.842697</td>\n",
              "      <td>0.802817</td>\n",
              "      <td>0.802817</td>\n",
              "      <td>0.802817</td>\n",
              "    </tr>\n",
              "    <tr>\n",
              "      <th>316</th>\n",
              "      <td>0.316</td>\n",
              "      <td>0.848315</td>\n",
              "      <td>0.760563</td>\n",
              "      <td>0.843750</td>\n",
              "      <td>0.800000</td>\n",
              "    </tr>\n",
              "    <tr>\n",
              "      <th>315</th>\n",
              "      <td>0.315</td>\n",
              "      <td>0.848315</td>\n",
              "      <td>0.760563</td>\n",
              "      <td>0.843750</td>\n",
              "      <td>0.800000</td>\n",
              "    </tr>\n",
              "    <tr>\n",
              "      <th>462</th>\n",
              "      <td>0.462</td>\n",
              "      <td>0.859551</td>\n",
              "      <td>0.704225</td>\n",
              "      <td>0.925926</td>\n",
              "      <td>0.800000</td>\n",
              "    </tr>\n",
              "    <tr>\n",
              "      <th>464</th>\n",
              "      <td>0.464</td>\n",
              "      <td>0.859551</td>\n",
              "      <td>0.704225</td>\n",
              "      <td>0.925926</td>\n",
              "      <td>0.800000</td>\n",
              "    </tr>\n",
              "    <tr>\n",
              "      <th>...</th>\n",
              "      <td>...</td>\n",
              "      <td>...</td>\n",
              "      <td>...</td>\n",
              "      <td>...</td>\n",
              "      <td>...</td>\n",
              "    </tr>\n",
              "    <tr>\n",
              "      <th>996</th>\n",
              "      <td>0.996</td>\n",
              "      <td>0.601124</td>\n",
              "      <td>0.000000</td>\n",
              "      <td>0.000000</td>\n",
              "      <td>0.000000</td>\n",
              "    </tr>\n",
              "    <tr>\n",
              "      <th>997</th>\n",
              "      <td>0.997</td>\n",
              "      <td>0.601124</td>\n",
              "      <td>0.000000</td>\n",
              "      <td>0.000000</td>\n",
              "      <td>0.000000</td>\n",
              "    </tr>\n",
              "    <tr>\n",
              "      <th>998</th>\n",
              "      <td>0.998</td>\n",
              "      <td>0.601124</td>\n",
              "      <td>0.000000</td>\n",
              "      <td>0.000000</td>\n",
              "      <td>0.000000</td>\n",
              "    </tr>\n",
              "    <tr>\n",
              "      <th>999</th>\n",
              "      <td>0.999</td>\n",
              "      <td>0.601124</td>\n",
              "      <td>0.000000</td>\n",
              "      <td>0.000000</td>\n",
              "      <td>0.000000</td>\n",
              "    </tr>\n",
              "    <tr>\n",
              "      <th>1000</th>\n",
              "      <td>1.000</td>\n",
              "      <td>0.601124</td>\n",
              "      <td>0.000000</td>\n",
              "      <td>0.000000</td>\n",
              "      <td>0.000000</td>\n",
              "    </tr>\n",
              "  </tbody>\n",
              "</table>\n",
              "<p>1001 rows × 5 columns</p>\n",
              "</div>"
            ],
            "text/plain": [
              "        Cut  Accuracy    Recall  Precision        F1\n",
              "284   0.284  0.842697  0.802817   0.802817  0.802817\n",
              "316   0.316  0.848315  0.760563   0.843750  0.800000\n",
              "315   0.315  0.848315  0.760563   0.843750  0.800000\n",
              "462   0.462  0.859551  0.704225   0.925926  0.800000\n",
              "464   0.464  0.859551  0.704225   0.925926  0.800000\n",
              "...     ...       ...       ...        ...       ...\n",
              "996   0.996  0.601124  0.000000   0.000000  0.000000\n",
              "997   0.997  0.601124  0.000000   0.000000  0.000000\n",
              "998   0.998  0.601124  0.000000   0.000000  0.000000\n",
              "999   0.999  0.601124  0.000000   0.000000  0.000000\n",
              "1000  1.000  0.601124  0.000000   0.000000  0.000000\n",
              "\n",
              "[1001 rows x 5 columns]"
            ]
          },
          "metadata": {},
          "execution_count": 107
        }
      ]
    },
    {
      "cell_type": "markdown",
      "metadata": {
        "id": "7Tupsyx-wzsz"
      },
      "source": [
        "Tambien podemos visualizar las importancias de cada columna en nuestro modelo. "
      ]
    },
    {
      "cell_type": "code",
      "metadata": {
        "colab": {
          "base_uri": "https://localhost:8080/",
          "height": 295
        },
        "id": "R5s4OvFawzsz",
        "outputId": "c597d5ba-2009-4e3e-c173-dfefaaff410e"
      },
      "source": [
        "features = columns_train\n",
        "importances = model_xgb.feature_importances_\n",
        "df_importance = pd.DataFrame({'Feature':features,'Importance':importances}).sort_values(by=['Importance'],ascending=True)\n",
        "plt.title('Feature Importances')\n",
        "plt.barh(range(len(df_importance)), df_importance['Importance'], color='b', align='center')\n",
        "plt.yticks(range(len(df_importance)), df_importance['Feature'])\n",
        "plt.xlabel('Relative Importance')\n",
        "plt.show()"
      ],
      "execution_count": null,
      "outputs": [
        {
          "output_type": "display_data",
          "data": {
            "image/png": "[encoded data removed]",
            "text/plain": [
              "<Figure size 432x288 with 1 Axes>"
            ]
          },
          "metadata": {
            "needs_background": "light"
          }
        }
      ]
    },
    {
      "cell_type": "markdown",
      "metadata": {
        "id": "RGXxwYTqwz4Z"
      },
      "source": [
        "##Caso 3: Profundidad máxima=2, Número de árboles=300"
      ]
    },
    {
      "cell_type": "code",
      "metadata": {
        "id": "YPEcv3RgxDTx"
      },
      "source": [
        "max_depth=2\n",
        "n_estimators=300"
      ],
      "execution_count": null,
      "outputs": []
    },
    {
      "cell_type": "markdown",
      "metadata": {
        "id": "H6fo3_4wwz4Z"
      },
      "source": [
        "En esta seccion realizaremos una classificacion con XGBoost con la libreria xgboost"
      ]
    },
    {
      "cell_type": "code",
      "metadata": {
        "id": "7RcvfUKCwz4Z"
      },
      "source": [
        "# Instanciamos y usamos nuestro modelo de XGBoost Classifier \n",
        "model_xgb = xgb.XGBClassifier(\n",
        "    n_estimators=n_estimators,\n",
        "    reg_lambda=1,\n",
        "    gamma=0,\n",
        "    max_depth=max_depth\n",
        ")"
      ],
      "execution_count": null,
      "outputs": []
    },
    {
      "cell_type": "code",
      "metadata": {
        "colab": {
          "base_uri": "https://localhost:8080/"
        },
        "id": "QwDwV9OEwz4a",
        "outputId": "a43bfb27-3353-486f-8e0f-a27218f5517a"
      },
      "source": [
        "model_xgb.fit(x_train, y_train)"
      ],
      "execution_count": null,
      "outputs": [
        {
          "output_type": "execute_result",
          "data": {
            "text/plain": [
              "XGBClassifier(base_score=0.5, booster='gbtree', colsample_bylevel=1,\n",
              "              colsample_bynode=1, colsample_bytree=1, gamma=0,\n",
              "              learning_rate=0.1, max_delta_step=0, max_depth=2,\n",
              "              min_child_weight=1, missing=None, n_estimators=300, n_jobs=1,\n",
              "              nthread=None, objective='binary:logistic', random_state=0,\n",
              "              reg_alpha=0, reg_lambda=1, scale_pos_weight=1, seed=None,\n",
              "              silent=None, subsample=1, verbosity=1)"
            ]
          },
          "metadata": {},
          "execution_count": 111
        }
      ]
    },
    {
      "cell_type": "markdown",
      "metadata": {
        "id": "F1w-UaQmwz4f"
      },
      "source": [
        "Ya con nuestro modelo podemos intentar predecir los valores para nuestro conjunto de prueba. "
      ]
    },
    {
      "cell_type": "code",
      "metadata": {
        "colab": {
          "base_uri": "https://localhost:8080/"
        },
        "id": "tNqw2f9Ewz4i",
        "outputId": "582600b3-f421-4656-88fe-ae6a06c6171a"
      },
      "source": [
        "y_pred_raw = model_xgb.predict_proba(x_test)\n",
        "df_metrics_xgb = cuts(y_pred_raw)"
      ],
      "execution_count": null,
      "outputs": [
        {
          "output_type": "stream",
          "name": "stderr",
          "text": [
            "/usr/local/lib/python3.7/dist-packages/sklearn/metrics/_classification.py:1272: UndefinedMetricWarning:\n",
            "\n",
            "Precision is ill-defined and being set to 0.0 due to no predicted samples. Use `zero_division` parameter to control this behavior.\n",
            "\n"
          ]
        }
      ]
    },
    {
      "cell_type": "code",
      "metadata": {
        "colab": {
          "base_uri": "https://localhost:8080/",
          "height": 424
        },
        "id": "80p0xUC5wz4i",
        "outputId": "4f439001-4bac-4774-b4f0-80653d63bf09"
      },
      "source": [
        "df_metrics_xgb.sort_values(by=['F1'], ascending=False)"
      ],
      "execution_count": null,
      "outputs": [
        {
          "output_type": "execute_result",
          "data": {
            "text/html": [
              "<div>\n",
              "<style scoped>\n",
              "    .dataframe tbody tr th:only-of-type {\n",
              "        vertical-align: middle;\n",
              "    }\n",
              "\n",
              "    .dataframe tbody tr th {\n",
              "        vertical-align: top;\n",
              "    }\n",
              "\n",
              "    .dataframe thead th {\n",
              "        text-align: right;\n",
              "    }\n",
              "</style>\n",
              "<table border=\"1\" class=\"dataframe\">\n",
              "  <thead>\n",
              "    <tr style=\"text-align: right;\">\n",
              "      <th></th>\n",
              "      <th>Cut</th>\n",
              "      <th>Accuracy</th>\n",
              "      <th>Recall</th>\n",
              "      <th>Precision</th>\n",
              "      <th>F1</th>\n",
              "    </tr>\n",
              "  </thead>\n",
              "  <tbody>\n",
              "    <tr>\n",
              "      <th>409</th>\n",
              "      <td>0.409</td>\n",
              "      <td>0.853933</td>\n",
              "      <td>0.732394</td>\n",
              "      <td>0.881356</td>\n",
              "      <td>0.8</td>\n",
              "    </tr>\n",
              "    <tr>\n",
              "      <th>404</th>\n",
              "      <td>0.404</td>\n",
              "      <td>0.853933</td>\n",
              "      <td>0.732394</td>\n",
              "      <td>0.881356</td>\n",
              "      <td>0.8</td>\n",
              "    </tr>\n",
              "    <tr>\n",
              "      <th>401</th>\n",
              "      <td>0.401</td>\n",
              "      <td>0.853933</td>\n",
              "      <td>0.732394</td>\n",
              "      <td>0.881356</td>\n",
              "      <td>0.8</td>\n",
              "    </tr>\n",
              "    <tr>\n",
              "      <th>402</th>\n",
              "      <td>0.402</td>\n",
              "      <td>0.853933</td>\n",
              "      <td>0.732394</td>\n",
              "      <td>0.881356</td>\n",
              "      <td>0.8</td>\n",
              "    </tr>\n",
              "    <tr>\n",
              "      <th>403</th>\n",
              "      <td>0.403</td>\n",
              "      <td>0.853933</td>\n",
              "      <td>0.732394</td>\n",
              "      <td>0.881356</td>\n",
              "      <td>0.8</td>\n",
              "    </tr>\n",
              "    <tr>\n",
              "      <th>...</th>\n",
              "      <td>...</td>\n",
              "      <td>...</td>\n",
              "      <td>...</td>\n",
              "      <td>...</td>\n",
              "      <td>...</td>\n",
              "    </tr>\n",
              "    <tr>\n",
              "      <th>995</th>\n",
              "      <td>0.995</td>\n",
              "      <td>0.601124</td>\n",
              "      <td>0.000000</td>\n",
              "      <td>0.000000</td>\n",
              "      <td>0.0</td>\n",
              "    </tr>\n",
              "    <tr>\n",
              "      <th>994</th>\n",
              "      <td>0.994</td>\n",
              "      <td>0.601124</td>\n",
              "      <td>0.000000</td>\n",
              "      <td>0.000000</td>\n",
              "      <td>0.0</td>\n",
              "    </tr>\n",
              "    <tr>\n",
              "      <th>993</th>\n",
              "      <td>0.993</td>\n",
              "      <td>0.601124</td>\n",
              "      <td>0.000000</td>\n",
              "      <td>0.000000</td>\n",
              "      <td>0.0</td>\n",
              "    </tr>\n",
              "    <tr>\n",
              "      <th>992</th>\n",
              "      <td>0.992</td>\n",
              "      <td>0.601124</td>\n",
              "      <td>0.000000</td>\n",
              "      <td>0.000000</td>\n",
              "      <td>0.0</td>\n",
              "    </tr>\n",
              "    <tr>\n",
              "      <th>1000</th>\n",
              "      <td>1.000</td>\n",
              "      <td>0.601124</td>\n",
              "      <td>0.000000</td>\n",
              "      <td>0.000000</td>\n",
              "      <td>0.0</td>\n",
              "    </tr>\n",
              "  </tbody>\n",
              "</table>\n",
              "<p>1001 rows × 5 columns</p>\n",
              "</div>"
            ],
            "text/plain": [
              "        Cut  Accuracy    Recall  Precision   F1\n",
              "409   0.409  0.853933  0.732394   0.881356  0.8\n",
              "404   0.404  0.853933  0.732394   0.881356  0.8\n",
              "401   0.401  0.853933  0.732394   0.881356  0.8\n",
              "402   0.402  0.853933  0.732394   0.881356  0.8\n",
              "403   0.403  0.853933  0.732394   0.881356  0.8\n",
              "...     ...       ...       ...        ...  ...\n",
              "995   0.995  0.601124  0.000000   0.000000  0.0\n",
              "994   0.994  0.601124  0.000000   0.000000  0.0\n",
              "993   0.993  0.601124  0.000000   0.000000  0.0\n",
              "992   0.992  0.601124  0.000000   0.000000  0.0\n",
              "1000  1.000  0.601124  0.000000   0.000000  0.0\n",
              "\n",
              "[1001 rows x 5 columns]"
            ]
          },
          "metadata": {},
          "execution_count": 113
        }
      ]
    },
    {
      "cell_type": "markdown",
      "metadata": {
        "id": "HmLCiXBKwz4j"
      },
      "source": [
        "Tambien podemos visualizar las importancias de cada columna en nuestro modelo. "
      ]
    },
    {
      "cell_type": "code",
      "metadata": {
        "colab": {
          "base_uri": "https://localhost:8080/",
          "height": 295
        },
        "id": "FLDGuamUwz4j",
        "outputId": "f496e948-504b-47fa-e2f0-bd8a633d268a"
      },
      "source": [
        "features = columns_train\n",
        "importances = model_xgb.feature_importances_\n",
        "df_importance = pd.DataFrame({'Feature':features,'Importance':importances}).sort_values(by=['Importance'],ascending=True)\n",
        "plt.title('Feature Importances')\n",
        "plt.barh(range(len(df_importance)), df_importance['Importance'], color='b', align='center')\n",
        "plt.yticks(range(len(df_importance)), df_importance['Feature'])\n",
        "plt.xlabel('Relative Importance')\n",
        "plt.show()"
      ],
      "execution_count": null,
      "outputs": [
        {
          "output_type": "display_data",
          "data": {
            "image/png": "[encoded data removed]",
            "text/plain": [
              "<Figure size 432x288 with 1 Axes>"
            ]
          },
          "metadata": {
            "needs_background": "light"
          }
        }
      ]
    },
    {
      "cell_type": "markdown",
      "metadata": {
        "id": "Xwih5zrLKPMI"
      },
      "source": [
        "#SVM"
      ]
    },
    {
      "cell_type": "code",
      "metadata": {
        "id": "g9ELZYEgxVju"
      },
      "source": [
        "from sklearn.svm import SVC"
      ],
      "execution_count": null,
      "outputs": []
    },
    {
      "cell_type": "markdown",
      "metadata": {
        "id": "jfJKoVTFxaAJ"
      },
      "source": [
        "Creamos variables para los hiperparámetros de número máximo de iteraciones y para la tolerancia"
      ]
    },
    {
      "cell_type": "code",
      "metadata": {
        "id": "5vmKMSh-yaNB"
      },
      "source": [
        "max_iter=-1\n",
        "tol=1e-3"
      ],
      "execution_count": null,
      "outputs": []
    },
    {
      "cell_type": "markdown",
      "metadata": {
        "id": "CbLPu7rCyu2J"
      },
      "source": [
        "##Caso 1: Número máximo de iteraciones=infinito, Tolerancia=1e-3"
      ]
    },
    {
      "cell_type": "markdown",
      "metadata": {
        "id": "TjwY-IrSH7Zn"
      },
      "source": [
        "Definimos nuestro modelo con los datos de entrenamiento"
      ]
    },
    {
      "cell_type": "code",
      "metadata": {
        "colab": {
          "base_uri": "https://localhost:8080/"
        },
        "id": "Naw8wkRyJ-ko",
        "outputId": "af789601-e534-4c6e-c409-e33a114fda1f"
      },
      "source": [
        "model_svm = SVC(tol=tol,gamma='auto', kernel='rbf',probability=True,max_iter=max_iter)\n",
        "model_svm.fit(x_train,y_train)"
      ],
      "execution_count": null,
      "outputs": [
        {
          "output_type": "execute_result",
          "data": {
            "text/plain": [
              "SVC(C=1.0, break_ties=False, cache_size=200, class_weight=None, coef0=0.0,\n",
              "    decision_function_shape='ovr', degree=3, gamma='auto', kernel='rbf',\n",
              "    max_iter=-1, probability=True, random_state=None, shrinking=True, tol=0.001,\n",
              "    verbose=False)"
            ]
          },
          "metadata": {},
          "execution_count": 119
        }
      ]
    },
    {
      "cell_type": "markdown",
      "metadata": {
        "id": "wVSuSiPIIGrk"
      },
      "source": [
        "Hacemos las predicciones y mostramos los cortes ordenados por Accuracy y Precision"
      ]
    },
    {
      "cell_type": "code",
      "metadata": {
        "id": "6TV0Xe3V-plp",
        "colab": {
          "base_uri": "https://localhost:8080/"
        },
        "outputId": "56d8252f-1003-48b2-8352-acdfa8e9d6fa"
      },
      "source": [
        "y_pred_raw = model_svm.predict_proba(x_test)\n",
        "df_metrics_svm = cuts(y_pred_raw)\n",
        "df_metrics_svm.sort_values(by=['Accuracy', 'Precision'], ascending=False).head(10)"
      ],
      "execution_count": null,
      "outputs": [
        {
          "output_type": "stream",
          "name": "stderr",
          "text": [
            "/usr/local/lib/python3.7/dist-packages/sklearn/metrics/_classification.py:1272: UndefinedMetricWarning:\n",
            "\n",
            "Precision is ill-defined and being set to 0.0 due to no predicted samples. Use `zero_division` parameter to control this behavior.\n",
            "\n"
          ]
        },
        {
          "output_type": "execute_result",
          "data": {
            "text/html": [
              "<div>\n",
              "<style scoped>\n",
              "    .dataframe tbody tr th:only-of-type {\n",
              "        vertical-align: middle;\n",
              "    }\n",
              "\n",
              "    .dataframe tbody tr th {\n",
              "        vertical-align: top;\n",
              "    }\n",
              "\n",
              "    .dataframe thead th {\n",
              "        text-align: right;\n",
              "    }\n",
              "</style>\n",
              "<table border=\"1\" class=\"dataframe\">\n",
              "  <thead>\n",
              "    <tr style=\"text-align: right;\">\n",
              "      <th></th>\n",
              "      <th>Cut</th>\n",
              "      <th>Accuracy</th>\n",
              "      <th>Recall</th>\n",
              "      <th>Precision</th>\n",
              "      <th>F1</th>\n",
              "    </tr>\n",
              "  </thead>\n",
              "  <tbody>\n",
              "    <tr>\n",
              "      <th>523</th>\n",
              "      <td>0.523</td>\n",
              "      <td>0.831461</td>\n",
              "      <td>0.647887</td>\n",
              "      <td>0.901961</td>\n",
              "      <td>0.754098</td>\n",
              "    </tr>\n",
              "    <tr>\n",
              "      <th>524</th>\n",
              "      <td>0.524</td>\n",
              "      <td>0.831461</td>\n",
              "      <td>0.647887</td>\n",
              "      <td>0.901961</td>\n",
              "      <td>0.754098</td>\n",
              "    </tr>\n",
              "    <tr>\n",
              "      <th>525</th>\n",
              "      <td>0.525</td>\n",
              "      <td>0.831461</td>\n",
              "      <td>0.647887</td>\n",
              "      <td>0.901961</td>\n",
              "      <td>0.754098</td>\n",
              "    </tr>\n",
              "    <tr>\n",
              "      <th>526</th>\n",
              "      <td>0.526</td>\n",
              "      <td>0.831461</td>\n",
              "      <td>0.647887</td>\n",
              "      <td>0.901961</td>\n",
              "      <td>0.754098</td>\n",
              "    </tr>\n",
              "    <tr>\n",
              "      <th>527</th>\n",
              "      <td>0.527</td>\n",
              "      <td>0.831461</td>\n",
              "      <td>0.647887</td>\n",
              "      <td>0.901961</td>\n",
              "      <td>0.754098</td>\n",
              "    </tr>\n",
              "    <tr>\n",
              "      <th>528</th>\n",
              "      <td>0.528</td>\n",
              "      <td>0.831461</td>\n",
              "      <td>0.647887</td>\n",
              "      <td>0.901961</td>\n",
              "      <td>0.754098</td>\n",
              "    </tr>\n",
              "    <tr>\n",
              "      <th>529</th>\n",
              "      <td>0.529</td>\n",
              "      <td>0.831461</td>\n",
              "      <td>0.647887</td>\n",
              "      <td>0.901961</td>\n",
              "      <td>0.754098</td>\n",
              "    </tr>\n",
              "    <tr>\n",
              "      <th>530</th>\n",
              "      <td>0.530</td>\n",
              "      <td>0.831461</td>\n",
              "      <td>0.647887</td>\n",
              "      <td>0.901961</td>\n",
              "      <td>0.754098</td>\n",
              "    </tr>\n",
              "    <tr>\n",
              "      <th>531</th>\n",
              "      <td>0.531</td>\n",
              "      <td>0.831461</td>\n",
              "      <td>0.647887</td>\n",
              "      <td>0.901961</td>\n",
              "      <td>0.754098</td>\n",
              "    </tr>\n",
              "    <tr>\n",
              "      <th>532</th>\n",
              "      <td>0.532</td>\n",
              "      <td>0.831461</td>\n",
              "      <td>0.647887</td>\n",
              "      <td>0.901961</td>\n",
              "      <td>0.754098</td>\n",
              "    </tr>\n",
              "  </tbody>\n",
              "</table>\n",
              "</div>"
            ],
            "text/plain": [
              "       Cut  Accuracy    Recall  Precision        F1\n",
              "523  0.523  0.831461  0.647887   0.901961  0.754098\n",
              "524  0.524  0.831461  0.647887   0.901961  0.754098\n",
              "525  0.525  0.831461  0.647887   0.901961  0.754098\n",
              "526  0.526  0.831461  0.647887   0.901961  0.754098\n",
              "527  0.527  0.831461  0.647887   0.901961  0.754098\n",
              "528  0.528  0.831461  0.647887   0.901961  0.754098\n",
              "529  0.529  0.831461  0.647887   0.901961  0.754098\n",
              "530  0.530  0.831461  0.647887   0.901961  0.754098\n",
              "531  0.531  0.831461  0.647887   0.901961  0.754098\n",
              "532  0.532  0.831461  0.647887   0.901961  0.754098"
            ]
          },
          "metadata": {},
          "execution_count": 120
        }
      ]
    },
    {
      "cell_type": "markdown",
      "metadata": {
        "id": "52mtqxl6zBuR"
      },
      "source": [
        "##Caso 2: Número máximo de iteraciones=infinito, Tolerancia=1e-4"
      ]
    },
    {
      "cell_type": "code",
      "metadata": {
        "id": "XiaZxEQIzRoW"
      },
      "source": [
        "max_iter=-1\n",
        "tol=1e-4"
      ],
      "execution_count": null,
      "outputs": []
    },
    {
      "cell_type": "markdown",
      "metadata": {
        "id": "wKVY5xDQzBuS"
      },
      "source": [
        "Definimos nuestro modelo con los datos de entrenamiento"
      ]
    },
    {
      "cell_type": "code",
      "metadata": {
        "colab": {
          "base_uri": "https://localhost:8080/"
        },
        "id": "9okKOIugzBuS",
        "outputId": "9f97b033-98a7-4434-e18a-c3b098f8e313"
      },
      "source": [
        "model_svm = SVC(tol=tol,gamma='auto', kernel='rbf',probability=True,max_iter=max_iter)\n",
        "model_svm.fit(x_train,y_train)"
      ],
      "execution_count": null,
      "outputs": [
        {
          "output_type": "execute_result",
          "data": {
            "text/plain": [
              "SVC(C=1.0, break_ties=False, cache_size=200, class_weight=None, coef0=0.0,\n",
              "    decision_function_shape='ovr', degree=3, gamma='auto', kernel='rbf',\n",
              "    max_iter=-1, probability=True, random_state=None, shrinking=True,\n",
              "    tol=0.0001, verbose=False)"
            ]
          },
          "metadata": {},
          "execution_count": 122
        }
      ]
    },
    {
      "cell_type": "markdown",
      "metadata": {
        "id": "31hZAgyvzBuT"
      },
      "source": [
        "Hacemos las predicciones y mostramos los cortes ordenados por Accuracy y Precision"
      ]
    },
    {
      "cell_type": "code",
      "metadata": {
        "colab": {
          "base_uri": "https://localhost:8080/"
        },
        "id": "GU-RoONMzBuT",
        "outputId": "2dbd2b7b-5434-408f-a883-a6b0ed2e6459"
      },
      "source": [
        "y_pred_raw = model_svm.predict_proba(x_test)\n",
        "df_metrics_svm = cuts(y_pred_raw)\n",
        "df_metrics_svm.sort_values(by=['Accuracy', 'Precision'], ascending=False).head(10)"
      ],
      "execution_count": null,
      "outputs": [
        {
          "output_type": "stream",
          "name": "stderr",
          "text": [
            "/usr/local/lib/python3.7/dist-packages/sklearn/metrics/_classification.py:1272: UndefinedMetricWarning:\n",
            "\n",
            "Precision is ill-defined and being set to 0.0 due to no predicted samples. Use `zero_division` parameter to control this behavior.\n",
            "\n"
          ]
        },
        {
          "output_type": "execute_result",
          "data": {
            "text/html": [
              "<div>\n",
              "<style scoped>\n",
              "    .dataframe tbody tr th:only-of-type {\n",
              "        vertical-align: middle;\n",
              "    }\n",
              "\n",
              "    .dataframe tbody tr th {\n",
              "        vertical-align: top;\n",
              "    }\n",
              "\n",
              "    .dataframe thead th {\n",
              "        text-align: right;\n",
              "    }\n",
              "</style>\n",
              "<table border=\"1\" class=\"dataframe\">\n",
              "  <thead>\n",
              "    <tr style=\"text-align: right;\">\n",
              "      <th></th>\n",
              "      <th>Cut</th>\n",
              "      <th>Accuracy</th>\n",
              "      <th>Recall</th>\n",
              "      <th>Precision</th>\n",
              "      <th>F1</th>\n",
              "    </tr>\n",
              "  </thead>\n",
              "  <tbody>\n",
              "    <tr>\n",
              "      <th>527</th>\n",
              "      <td>0.527</td>\n",
              "      <td>0.831461</td>\n",
              "      <td>0.647887</td>\n",
              "      <td>0.901961</td>\n",
              "      <td>0.754098</td>\n",
              "    </tr>\n",
              "    <tr>\n",
              "      <th>528</th>\n",
              "      <td>0.528</td>\n",
              "      <td>0.831461</td>\n",
              "      <td>0.647887</td>\n",
              "      <td>0.901961</td>\n",
              "      <td>0.754098</td>\n",
              "    </tr>\n",
              "    <tr>\n",
              "      <th>529</th>\n",
              "      <td>0.529</td>\n",
              "      <td>0.831461</td>\n",
              "      <td>0.647887</td>\n",
              "      <td>0.901961</td>\n",
              "      <td>0.754098</td>\n",
              "    </tr>\n",
              "    <tr>\n",
              "      <th>530</th>\n",
              "      <td>0.530</td>\n",
              "      <td>0.831461</td>\n",
              "      <td>0.647887</td>\n",
              "      <td>0.901961</td>\n",
              "      <td>0.754098</td>\n",
              "    </tr>\n",
              "    <tr>\n",
              "      <th>531</th>\n",
              "      <td>0.531</td>\n",
              "      <td>0.831461</td>\n",
              "      <td>0.647887</td>\n",
              "      <td>0.901961</td>\n",
              "      <td>0.754098</td>\n",
              "    </tr>\n",
              "    <tr>\n",
              "      <th>532</th>\n",
              "      <td>0.532</td>\n",
              "      <td>0.831461</td>\n",
              "      <td>0.647887</td>\n",
              "      <td>0.901961</td>\n",
              "      <td>0.754098</td>\n",
              "    </tr>\n",
              "    <tr>\n",
              "      <th>533</th>\n",
              "      <td>0.533</td>\n",
              "      <td>0.831461</td>\n",
              "      <td>0.647887</td>\n",
              "      <td>0.901961</td>\n",
              "      <td>0.754098</td>\n",
              "    </tr>\n",
              "    <tr>\n",
              "      <th>534</th>\n",
              "      <td>0.534</td>\n",
              "      <td>0.831461</td>\n",
              "      <td>0.647887</td>\n",
              "      <td>0.901961</td>\n",
              "      <td>0.754098</td>\n",
              "    </tr>\n",
              "    <tr>\n",
              "      <th>535</th>\n",
              "      <td>0.535</td>\n",
              "      <td>0.831461</td>\n",
              "      <td>0.647887</td>\n",
              "      <td>0.901961</td>\n",
              "      <td>0.754098</td>\n",
              "    </tr>\n",
              "    <tr>\n",
              "      <th>536</th>\n",
              "      <td>0.536</td>\n",
              "      <td>0.831461</td>\n",
              "      <td>0.647887</td>\n",
              "      <td>0.901961</td>\n",
              "      <td>0.754098</td>\n",
              "    </tr>\n",
              "  </tbody>\n",
              "</table>\n",
              "</div>"
            ],
            "text/plain": [
              "       Cut  Accuracy    Recall  Precision        F1\n",
              "527  0.527  0.831461  0.647887   0.901961  0.754098\n",
              "528  0.528  0.831461  0.647887   0.901961  0.754098\n",
              "529  0.529  0.831461  0.647887   0.901961  0.754098\n",
              "530  0.530  0.831461  0.647887   0.901961  0.754098\n",
              "531  0.531  0.831461  0.647887   0.901961  0.754098\n",
              "532  0.532  0.831461  0.647887   0.901961  0.754098\n",
              "533  0.533  0.831461  0.647887   0.901961  0.754098\n",
              "534  0.534  0.831461  0.647887   0.901961  0.754098\n",
              "535  0.535  0.831461  0.647887   0.901961  0.754098\n",
              "536  0.536  0.831461  0.647887   0.901961  0.754098"
            ]
          },
          "metadata": {},
          "execution_count": 123
        }
      ]
    },
    {
      "cell_type": "markdown",
      "metadata": {
        "id": "DfXKWf7ezCvd"
      },
      "source": [
        "##Caso 3: Número máximo de iteraciones=25, Tolerancia=1e-3"
      ]
    },
    {
      "cell_type": "code",
      "metadata": {
        "id": "P3qVN5mxzUjt"
      },
      "source": [
        "max_iter=25\n",
        "tol=1e-3"
      ],
      "execution_count": null,
      "outputs": []
    },
    {
      "cell_type": "markdown",
      "metadata": {
        "id": "JpIkFAi_zCvd"
      },
      "source": [
        "Definimos nuestro modelo con los datos de entrenamiento"
      ]
    },
    {
      "cell_type": "code",
      "metadata": {
        "colab": {
          "base_uri": "https://localhost:8080/"
        },
        "id": "jKHGNumXzCve",
        "outputId": "44c18762-e54d-453a-a32d-0e154e9884cd"
      },
      "source": [
        "model_svm = SVC(tol=tol,gamma='auto', kernel='rbf',probability=True,max_iter=max_iter)\n",
        "model_svm.fit(x_train,y_train)"
      ],
      "execution_count": null,
      "outputs": [
        {
          "output_type": "stream",
          "name": "stderr",
          "text": [
            "/usr/local/lib/python3.7/dist-packages/sklearn/svm/_base.py:231: ConvergenceWarning:\n",
            "\n",
            "Solver terminated early (max_iter=25).  Consider pre-processing your data with StandardScaler or MinMaxScaler.\n",
            "\n"
          ]
        },
        {
          "output_type": "execute_result",
          "data": {
            "text/plain": [
              "SVC(C=1.0, break_ties=False, cache_size=200, class_weight=None, coef0=0.0,\n",
              "    decision_function_shape='ovr', degree=3, gamma='auto', kernel='rbf',\n",
              "    max_iter=25, probability=True, random_state=None, shrinking=True, tol=0.001,\n",
              "    verbose=False)"
            ]
          },
          "metadata": {},
          "execution_count": 125
        }
      ]
    },
    {
      "cell_type": "markdown",
      "metadata": {
        "id": "axd33yYTzCve"
      },
      "source": [
        "Hacemos las predicciones y mostramos los cortes ordenados por Accuracy y Precision"
      ]
    },
    {
      "cell_type": "code",
      "metadata": {
        "colab": {
          "base_uri": "https://localhost:8080/"
        },
        "id": "FBWZAednzCvf",
        "outputId": "31b17b31-098b-43f5-f8ef-9d2c70698774"
      },
      "source": [
        "y_pred_raw = model_svm.predict_proba(x_test)\n",
        "df_metrics_svm = cuts(y_pred_raw)\n",
        "df_metrics_svm.sort_values(by=['Accuracy', 'Precision'], ascending=False).head(10)"
      ],
      "execution_count": null,
      "outputs": [
        {
          "output_type": "stream",
          "name": "stderr",
          "text": [
            "/usr/local/lib/python3.7/dist-packages/sklearn/metrics/_classification.py:1272: UndefinedMetricWarning:\n",
            "\n",
            "Precision is ill-defined and being set to 0.0 due to no predicted samples. Use `zero_division` parameter to control this behavior.\n",
            "\n"
          ]
        },
        {
          "output_type": "execute_result",
          "data": {
            "text/html": [
              "<div>\n",
              "<style scoped>\n",
              "    .dataframe tbody tr th:only-of-type {\n",
              "        vertical-align: middle;\n",
              "    }\n",
              "\n",
              "    .dataframe tbody tr th {\n",
              "        vertical-align: top;\n",
              "    }\n",
              "\n",
              "    .dataframe thead th {\n",
              "        text-align: right;\n",
              "    }\n",
              "</style>\n",
              "<table border=\"1\" class=\"dataframe\">\n",
              "  <thead>\n",
              "    <tr style=\"text-align: right;\">\n",
              "      <th></th>\n",
              "      <th>Cut</th>\n",
              "      <th>Accuracy</th>\n",
              "      <th>Recall</th>\n",
              "      <th>Precision</th>\n",
              "      <th>F1</th>\n",
              "    </tr>\n",
              "  </thead>\n",
              "  <tbody>\n",
              "    <tr>\n",
              "      <th>647</th>\n",
              "      <td>0.647</td>\n",
              "      <td>0.606742</td>\n",
              "      <td>0.014085</td>\n",
              "      <td>1.0</td>\n",
              "      <td>0.027778</td>\n",
              "    </tr>\n",
              "    <tr>\n",
              "      <th>648</th>\n",
              "      <td>0.648</td>\n",
              "      <td>0.606742</td>\n",
              "      <td>0.014085</td>\n",
              "      <td>1.0</td>\n",
              "      <td>0.027778</td>\n",
              "    </tr>\n",
              "    <tr>\n",
              "      <th>649</th>\n",
              "      <td>0.649</td>\n",
              "      <td>0.606742</td>\n",
              "      <td>0.014085</td>\n",
              "      <td>1.0</td>\n",
              "      <td>0.027778</td>\n",
              "    </tr>\n",
              "    <tr>\n",
              "      <th>650</th>\n",
              "      <td>0.650</td>\n",
              "      <td>0.606742</td>\n",
              "      <td>0.014085</td>\n",
              "      <td>1.0</td>\n",
              "      <td>0.027778</td>\n",
              "    </tr>\n",
              "    <tr>\n",
              "      <th>651</th>\n",
              "      <td>0.651</td>\n",
              "      <td>0.606742</td>\n",
              "      <td>0.014085</td>\n",
              "      <td>1.0</td>\n",
              "      <td>0.027778</td>\n",
              "    </tr>\n",
              "    <tr>\n",
              "      <th>652</th>\n",
              "      <td>0.652</td>\n",
              "      <td>0.606742</td>\n",
              "      <td>0.014085</td>\n",
              "      <td>1.0</td>\n",
              "      <td>0.027778</td>\n",
              "    </tr>\n",
              "    <tr>\n",
              "      <th>653</th>\n",
              "      <td>0.653</td>\n",
              "      <td>0.606742</td>\n",
              "      <td>0.014085</td>\n",
              "      <td>1.0</td>\n",
              "      <td>0.027778</td>\n",
              "    </tr>\n",
              "    <tr>\n",
              "      <th>654</th>\n",
              "      <td>0.654</td>\n",
              "      <td>0.606742</td>\n",
              "      <td>0.014085</td>\n",
              "      <td>1.0</td>\n",
              "      <td>0.027778</td>\n",
              "    </tr>\n",
              "    <tr>\n",
              "      <th>655</th>\n",
              "      <td>0.655</td>\n",
              "      <td>0.606742</td>\n",
              "      <td>0.014085</td>\n",
              "      <td>1.0</td>\n",
              "      <td>0.027778</td>\n",
              "    </tr>\n",
              "    <tr>\n",
              "      <th>656</th>\n",
              "      <td>0.656</td>\n",
              "      <td>0.606742</td>\n",
              "      <td>0.014085</td>\n",
              "      <td>1.0</td>\n",
              "      <td>0.027778</td>\n",
              "    </tr>\n",
              "  </tbody>\n",
              "</table>\n",
              "</div>"
            ],
            "text/plain": [
              "       Cut  Accuracy    Recall  Precision        F1\n",
              "647  0.647  0.606742  0.014085        1.0  0.027778\n",
              "648  0.648  0.606742  0.014085        1.0  0.027778\n",
              "649  0.649  0.606742  0.014085        1.0  0.027778\n",
              "650  0.650  0.606742  0.014085        1.0  0.027778\n",
              "651  0.651  0.606742  0.014085        1.0  0.027778\n",
              "652  0.652  0.606742  0.014085        1.0  0.027778\n",
              "653  0.653  0.606742  0.014085        1.0  0.027778\n",
              "654  0.654  0.606742  0.014085        1.0  0.027778\n",
              "655  0.655  0.606742  0.014085        1.0  0.027778\n",
              "656  0.656  0.606742  0.014085        1.0  0.027778"
            ]
          },
          "metadata": {},
          "execution_count": 126
        }
      ]
    },
    {
      "cell_type": "markdown",
      "metadata": {
        "id": "J3nUCf7AKfuv"
      },
      "source": [
        "#Redes Neuronales"
      ]
    },
    {
      "cell_type": "code",
      "metadata": {
        "id": "zntYHp6Ynj1n"
      },
      "source": [
        "%tensorflow_version 2.x\n",
        "import tensorflow as tf\n",
        "from tensorflow import keras"
      ],
      "execution_count": null,
      "outputs": []
    },
    {
      "cell_type": "markdown",
      "metadata": {
        "id": "IrncJzuWGtSU"
      },
      "source": [
        "Se define la arquitectura del modelo"
      ]
    },
    {
      "cell_type": "code",
      "metadata": {
        "id": "2omwhJznpXBt"
      },
      "source": [
        "model = keras.models.Sequential()\n",
        "model.add(keras.layers.Dense(128, activation = 'relu', input_dim = x_train.shape[1]))\n",
        "model.add(keras.layers.Dense(64, activation = 'relu'))\n",
        "model.add(keras.layers.Dense(32, activation = 'relu'))\n",
        "model.add(keras.layers.Dense(1, activation = 'sigmoid')) #Se busca un resultado entre 0 y 1 para saber si sobrevive o no"
      ],
      "execution_count": null,
      "outputs": []
    },
    {
      "cell_type": "code",
      "metadata": {
        "colab": {
          "base_uri": "https://localhost:8080/",
          "height": 533
        },
        "id": "ETjy9Gq6rL5e",
        "outputId": "609ca522-809a-4b60-d579-a829e42f4b47"
      },
      "source": [
        "tf.keras.utils.plot_model(\n",
        "    model, show_shapes=True, \n",
        "    show_layer_names=True)"
      ],
      "execution_count": null,
      "outputs": [
        {
          "output_type": "execute_result",
          "data": {
            "image/png": "[encoded data removed]",
            "text/plain": [
              "<IPython.core.display.Image object>"
            ]
          },
          "metadata": {},
          "execution_count": 156
        }
      ]
    },
    {
      "cell_type": "code",
      "metadata": {
        "id": "sHSAd3YjrsXL"
      },
      "source": [
        "model.compile(loss = 'binary_crossentropy',\n",
        "optimizer='adam', metrics=['accuracy'])"
      ],
      "execution_count": null,
      "outputs": []
    },
    {
      "cell_type": "markdown",
      "metadata": {
        "id": "pSCbdoNg8maZ"
      },
      "source": [
        "Creamos variables para los hiperparámetros de tamaño de porción y para el número de épocas"
      ]
    },
    {
      "cell_type": "code",
      "metadata": {
        "id": "cPPBF1yr8-Ih"
      },
      "source": [
        "batch_size=32\n",
        "epochs=35"
      ],
      "execution_count": null,
      "outputs": []
    },
    {
      "cell_type": "markdown",
      "metadata": {
        "id": "dxS7KF0a9FbR"
      },
      "source": [
        "###Caso 1: Tamaño de porción:32, Número de épocas=35"
      ]
    },
    {
      "cell_type": "markdown",
      "metadata": {
        "id": "3QxXQsEGHSCp"
      },
      "source": [
        "Se entrena el modelo"
      ]
    },
    {
      "cell_type": "code",
      "metadata": {
        "colab": {
          "base_uri": "https://localhost:8080/"
        },
        "id": "Mh1HMuHdsBY8",
        "outputId": "32007f2f-9556-4497-eb54-2fdef2c4f2b4"
      },
      "source": [
        "r = model.fit(x_train, y_train, batch_size = batch_size, epochs = epochs,\n",
        " validation_data=(x_test,y_test))"
      ],
      "execution_count": null,
      "outputs": [
        {
          "output_type": "stream",
          "name": "stdout",
          "text": [
            "Epoch 1/35\n",
            "23/23 [==============================] - 1s 13ms/step - loss: 0.6285 - accuracy: 0.7069 - val_loss: 0.5228 - val_accuracy: 0.8258\n",
            "Epoch 2/35\n",
            "23/23 [==============================] - 0s 6ms/step - loss: 0.4841 - accuracy: 0.8050 - val_loss: 0.4109 - val_accuracy: 0.8315\n",
            "Epoch 3/35\n",
            "23/23 [==============================] - 0s 5ms/step - loss: 0.4266 - accuracy: 0.8191 - val_loss: 0.3973 - val_accuracy: 0.8371\n",
            "Epoch 4/35\n",
            "23/23 [==============================] - 0s 6ms/step - loss: 0.4115 - accuracy: 0.8317 - val_loss: 0.3982 - val_accuracy: 0.8315\n",
            "Epoch 5/35\n",
            "23/23 [==============================] - 0s 5ms/step - loss: 0.4035 - accuracy: 0.8373 - val_loss: 0.4057 - val_accuracy: 0.8258\n",
            "Epoch 6/35\n",
            "23/23 [==============================] - 0s 5ms/step - loss: 0.3943 - accuracy: 0.8303 - val_loss: 0.4009 - val_accuracy: 0.8315\n",
            "Epoch 7/35\n",
            "23/23 [==============================] - 0s 5ms/step - loss: 0.3922 - accuracy: 0.8345 - val_loss: 0.4072 - val_accuracy: 0.8315\n",
            "Epoch 8/35\n",
            "23/23 [==============================] - 0s 6ms/step - loss: 0.3866 - accuracy: 0.8387 - val_loss: 0.4091 - val_accuracy: 0.8258\n",
            "Epoch 9/35\n",
            "23/23 [==============================] - 0s 6ms/step - loss: 0.3810 - accuracy: 0.8415 - val_loss: 0.4089 - val_accuracy: 0.8146\n",
            "Epoch 10/35\n",
            "23/23 [==============================] - 0s 6ms/step - loss: 0.3819 - accuracy: 0.8429 - val_loss: 0.4066 - val_accuracy: 0.8315\n",
            "Epoch 11/35\n",
            "23/23 [==============================] - 0s 5ms/step - loss: 0.3809 - accuracy: 0.8485 - val_loss: 0.4115 - val_accuracy: 0.8258\n",
            "Epoch 12/35\n",
            "23/23 [==============================] - 0s 5ms/step - loss: 0.3751 - accuracy: 0.8457 - val_loss: 0.4122 - val_accuracy: 0.8315\n",
            "Epoch 13/35\n",
            "23/23 [==============================] - 0s 6ms/step - loss: 0.3722 - accuracy: 0.8443 - val_loss: 0.4170 - val_accuracy: 0.8315\n",
            "Epoch 14/35\n",
            "23/23 [==============================] - 0s 5ms/step - loss: 0.3698 - accuracy: 0.8471 - val_loss: 0.4175 - val_accuracy: 0.8202\n",
            "Epoch 15/35\n",
            "23/23 [==============================] - 0s 6ms/step - loss: 0.3692 - accuracy: 0.8457 - val_loss: 0.4179 - val_accuracy: 0.8202\n",
            "Epoch 16/35\n",
            "23/23 [==============================] - 0s 5ms/step - loss: 0.3663 - accuracy: 0.8555 - val_loss: 0.4067 - val_accuracy: 0.8202\n",
            "Epoch 17/35\n",
            "23/23 [==============================] - 0s 6ms/step - loss: 0.3638 - accuracy: 0.8527 - val_loss: 0.4121 - val_accuracy: 0.8202\n",
            "Epoch 18/35\n",
            "23/23 [==============================] - 0s 6ms/step - loss: 0.3606 - accuracy: 0.8527 - val_loss: 0.4214 - val_accuracy: 0.8146\n",
            "Epoch 19/35\n",
            "23/23 [==============================] - 0s 5ms/step - loss: 0.3611 - accuracy: 0.8583 - val_loss: 0.4120 - val_accuracy: 0.8371\n",
            "Epoch 20/35\n",
            "23/23 [==============================] - 0s 7ms/step - loss: 0.3578 - accuracy: 0.8499 - val_loss: 0.4182 - val_accuracy: 0.8202\n",
            "Epoch 21/35\n",
            "23/23 [==============================] - 0s 6ms/step - loss: 0.3568 - accuracy: 0.8541 - val_loss: 0.4142 - val_accuracy: 0.8258\n",
            "Epoch 22/35\n",
            "23/23 [==============================] - 0s 6ms/step - loss: 0.3544 - accuracy: 0.8597 - val_loss: 0.4203 - val_accuracy: 0.8258\n",
            "Epoch 23/35\n",
            "23/23 [==============================] - 0s 6ms/step - loss: 0.3521 - accuracy: 0.8569 - val_loss: 0.4235 - val_accuracy: 0.8258\n",
            "Epoch 24/35\n",
            "23/23 [==============================] - 0s 5ms/step - loss: 0.3510 - accuracy: 0.8555 - val_loss: 0.4357 - val_accuracy: 0.8258\n",
            "Epoch 25/35\n",
            "23/23 [==============================] - 0s 5ms/step - loss: 0.3528 - accuracy: 0.8499 - val_loss: 0.4298 - val_accuracy: 0.8146\n",
            "Epoch 26/35\n",
            "23/23 [==============================] - 0s 5ms/step - loss: 0.3565 - accuracy: 0.8527 - val_loss: 0.4298 - val_accuracy: 0.8202\n",
            "Epoch 27/35\n",
            "23/23 [==============================] - 0s 5ms/step - loss: 0.3449 - accuracy: 0.8597 - val_loss: 0.4243 - val_accuracy: 0.8202\n",
            "Epoch 28/35\n",
            "23/23 [==============================] - 0s 5ms/step - loss: 0.3450 - accuracy: 0.8569 - val_loss: 0.4310 - val_accuracy: 0.8202\n",
            "Epoch 29/35\n",
            "23/23 [==============================] - 0s 5ms/step - loss: 0.3462 - accuracy: 0.8583 - val_loss: 0.4426 - val_accuracy: 0.8090\n",
            "Epoch 30/35\n",
            "23/23 [==============================] - 0s 7ms/step - loss: 0.3407 - accuracy: 0.8640 - val_loss: 0.4306 - val_accuracy: 0.8146\n",
            "Epoch 31/35\n",
            "23/23 [==============================] - 0s 6ms/step - loss: 0.3419 - accuracy: 0.8612 - val_loss: 0.4399 - val_accuracy: 0.8202\n",
            "Epoch 32/35\n",
            "23/23 [==============================] - 0s 6ms/step - loss: 0.3397 - accuracy: 0.8569 - val_loss: 0.4518 - val_accuracy: 0.8202\n",
            "Epoch 33/35\n",
            "23/23 [==============================] - 0s 6ms/step - loss: 0.3369 - accuracy: 0.8612 - val_loss: 0.4444 - val_accuracy: 0.8258\n",
            "Epoch 34/35\n",
            "23/23 [==============================] - 0s 5ms/step - loss: 0.3359 - accuracy: 0.8654 - val_loss: 0.4456 - val_accuracy: 0.8202\n",
            "Epoch 35/35\n",
            "23/23 [==============================] - 0s 5ms/step - loss: 0.3371 - accuracy: 0.8612 - val_loss: 0.4480 - val_accuracy: 0.8258\n"
          ]
        }
      ]
    },
    {
      "cell_type": "code",
      "metadata": {
        "colab": {
          "base_uri": "https://localhost:8080/",
          "height": 265
        },
        "id": "nE2vZAqFsn-i",
        "outputId": "4d9b52a9-2d8f-45c1-dd6f-13c94f4ebac0"
      },
      "source": [
        "%matplotlib inline\n",
        "plt.plot(r.history['val_accuracy'], label='val_acc')\n",
        "plt.plot(r.history['val_loss'], label='val_loss')\n",
        "plt.legend()\n",
        "plt.show()"
      ],
      "execution_count": null,
      "outputs": [
        {
          "output_type": "display_data",
          "data": {
            "image/png": "[encoded data removed]",
            "text/plain": [
              "<Figure size 432x288 with 1 Axes>"
            ]
          },
          "metadata": {
            "needs_background": "light"
          }
        }
      ]
    },
    {
      "cell_type": "code",
      "metadata": {
        "id": "lkhx7fNsv-M0"
      },
      "source": [
        "y_pred_raw = model.predict(x_test)\n",
        "y_pred_raw = [[1-x[0],x[0]] for x in y_pred_raw]"
      ],
      "execution_count": null,
      "outputs": []
    },
    {
      "cell_type": "code",
      "metadata": {
        "colab": {
          "base_uri": "https://localhost:8080/",
          "height": 435
        },
        "id": "Je1gvOxLzFSX",
        "outputId": "4118c860-fb43-4740-be8a-7aba5800ee9c"
      },
      "source": [
        "df_metrics_nn = cuts(y_pred_raw)\n",
        "df_metrics_nn.sort_values(by=['Accuracy', 'Precision'], ascending=False).head(10)"
      ],
      "execution_count": null,
      "outputs": [
        {
          "output_type": "stream",
          "name": "stderr",
          "text": [
            "/usr/local/lib/python3.7/dist-packages/sklearn/metrics/_classification.py:1272: UndefinedMetricWarning:\n",
            "\n",
            "Precision is ill-defined and being set to 0.0 due to no predicted samples. Use `zero_division` parameter to control this behavior.\n",
            "\n"
          ]
        },
        {
          "output_type": "execute_result",
          "data": {
            "text/html": [
              "<div>\n",
              "<style scoped>\n",
              "    .dataframe tbody tr th:only-of-type {\n",
              "        vertical-align: middle;\n",
              "    }\n",
              "\n",
              "    .dataframe tbody tr th {\n",
              "        vertical-align: top;\n",
              "    }\n",
              "\n",
              "    .dataframe thead th {\n",
              "        text-align: right;\n",
              "    }\n",
              "</style>\n",
              "<table border=\"1\" class=\"dataframe\">\n",
              "  <thead>\n",
              "    <tr style=\"text-align: right;\">\n",
              "      <th></th>\n",
              "      <th>Cut</th>\n",
              "      <th>Accuracy</th>\n",
              "      <th>Recall</th>\n",
              "      <th>Precision</th>\n",
              "      <th>F1</th>\n",
              "    </tr>\n",
              "  </thead>\n",
              "  <tbody>\n",
              "    <tr>\n",
              "      <th>523</th>\n",
              "      <td>0.523</td>\n",
              "      <td>0.825843</td>\n",
              "      <td>0.690141</td>\n",
              "      <td>0.844828</td>\n",
              "      <td>0.75969</td>\n",
              "    </tr>\n",
              "    <tr>\n",
              "      <th>524</th>\n",
              "      <td>0.524</td>\n",
              "      <td>0.825843</td>\n",
              "      <td>0.690141</td>\n",
              "      <td>0.844828</td>\n",
              "      <td>0.75969</td>\n",
              "    </tr>\n",
              "    <tr>\n",
              "      <th>525</th>\n",
              "      <td>0.525</td>\n",
              "      <td>0.825843</td>\n",
              "      <td>0.690141</td>\n",
              "      <td>0.844828</td>\n",
              "      <td>0.75969</td>\n",
              "    </tr>\n",
              "    <tr>\n",
              "      <th>526</th>\n",
              "      <td>0.526</td>\n",
              "      <td>0.825843</td>\n",
              "      <td>0.690141</td>\n",
              "      <td>0.844828</td>\n",
              "      <td>0.75969</td>\n",
              "    </tr>\n",
              "    <tr>\n",
              "      <th>527</th>\n",
              "      <td>0.527</td>\n",
              "      <td>0.825843</td>\n",
              "      <td>0.690141</td>\n",
              "      <td>0.844828</td>\n",
              "      <td>0.75969</td>\n",
              "    </tr>\n",
              "    <tr>\n",
              "      <th>528</th>\n",
              "      <td>0.528</td>\n",
              "      <td>0.825843</td>\n",
              "      <td>0.690141</td>\n",
              "      <td>0.844828</td>\n",
              "      <td>0.75969</td>\n",
              "    </tr>\n",
              "    <tr>\n",
              "      <th>529</th>\n",
              "      <td>0.529</td>\n",
              "      <td>0.825843</td>\n",
              "      <td>0.690141</td>\n",
              "      <td>0.844828</td>\n",
              "      <td>0.75969</td>\n",
              "    </tr>\n",
              "    <tr>\n",
              "      <th>530</th>\n",
              "      <td>0.530</td>\n",
              "      <td>0.825843</td>\n",
              "      <td>0.690141</td>\n",
              "      <td>0.844828</td>\n",
              "      <td>0.75969</td>\n",
              "    </tr>\n",
              "    <tr>\n",
              "      <th>531</th>\n",
              "      <td>0.531</td>\n",
              "      <td>0.825843</td>\n",
              "      <td>0.690141</td>\n",
              "      <td>0.844828</td>\n",
              "      <td>0.75969</td>\n",
              "    </tr>\n",
              "    <tr>\n",
              "      <th>532</th>\n",
              "      <td>0.532</td>\n",
              "      <td>0.825843</td>\n",
              "      <td>0.690141</td>\n",
              "      <td>0.844828</td>\n",
              "      <td>0.75969</td>\n",
              "    </tr>\n",
              "  </tbody>\n",
              "</table>\n",
              "</div>"
            ],
            "text/plain": [
              "       Cut  Accuracy    Recall  Precision       F1\n",
              "523  0.523  0.825843  0.690141   0.844828  0.75969\n",
              "524  0.524  0.825843  0.690141   0.844828  0.75969\n",
              "525  0.525  0.825843  0.690141   0.844828  0.75969\n",
              "526  0.526  0.825843  0.690141   0.844828  0.75969\n",
              "527  0.527  0.825843  0.690141   0.844828  0.75969\n",
              "528  0.528  0.825843  0.690141   0.844828  0.75969\n",
              "529  0.529  0.825843  0.690141   0.844828  0.75969\n",
              "530  0.530  0.825843  0.690141   0.844828  0.75969\n",
              "531  0.531  0.825843  0.690141   0.844828  0.75969\n",
              "532  0.532  0.825843  0.690141   0.844828  0.75969"
            ]
          },
          "metadata": {},
          "execution_count": 162
        }
      ]
    },
    {
      "cell_type": "markdown",
      "metadata": {
        "id": "1vTfIprc9oE2"
      },
      "source": [
        "###Caso 2: Tamaño de porción:64, Número de épocas=35"
      ]
    },
    {
      "cell_type": "code",
      "metadata": {
        "id": "7g6HsDpg9sOU"
      },
      "source": [
        "batch_size=64\n",
        "epochs=35"
      ],
      "execution_count": null,
      "outputs": []
    },
    {
      "cell_type": "markdown",
      "metadata": {
        "id": "Wh1f5urP9oE2"
      },
      "source": [
        "Se entrena el modelo"
      ]
    },
    {
      "cell_type": "code",
      "metadata": {
        "colab": {
          "base_uri": "https://localhost:8080/"
        },
        "id": "YXYghU7R9oE3",
        "outputId": "6eb1d70f-27c3-4e4d-f699-0078d8a46052"
      },
      "source": [
        "r = model.fit(x_train, y_train, batch_size = batch_size, epochs = epochs,\n",
        " validation_data=(x_test,y_test))"
      ],
      "execution_count": null,
      "outputs": [
        {
          "output_type": "stream",
          "name": "stdout",
          "text": [
            "Epoch 1/35\n",
            "12/12 [==============================] - 0s 10ms/step - loss: 0.3265 - accuracy: 0.8668 - val_loss: 0.4498 - val_accuracy: 0.8202\n",
            "Epoch 2/35\n",
            "12/12 [==============================] - 0s 7ms/step - loss: 0.3270 - accuracy: 0.8668 - val_loss: 0.4494 - val_accuracy: 0.8146\n",
            "Epoch 3/35\n",
            "12/12 [==============================] - 0s 6ms/step - loss: 0.3226 - accuracy: 0.8640 - val_loss: 0.4518 - val_accuracy: 0.8258\n",
            "Epoch 4/35\n",
            "12/12 [==============================] - 0s 8ms/step - loss: 0.3203 - accuracy: 0.8612 - val_loss: 0.4555 - val_accuracy: 0.8146\n",
            "Epoch 5/35\n",
            "12/12 [==============================] - 0s 6ms/step - loss: 0.3197 - accuracy: 0.8654 - val_loss: 0.4675 - val_accuracy: 0.8202\n",
            "Epoch 6/35\n",
            "12/12 [==============================] - 0s 6ms/step - loss: 0.3213 - accuracy: 0.8668 - val_loss: 0.4676 - val_accuracy: 0.8090\n",
            "Epoch 7/35\n",
            "12/12 [==============================] - 0s 7ms/step - loss: 0.3331 - accuracy: 0.8668 - val_loss: 0.4554 - val_accuracy: 0.8146\n",
            "Epoch 8/35\n",
            "12/12 [==============================] - 0s 7ms/step - loss: 0.3220 - accuracy: 0.8583 - val_loss: 0.4562 - val_accuracy: 0.8034\n",
            "Epoch 9/35\n",
            "12/12 [==============================] - 0s 7ms/step - loss: 0.3178 - accuracy: 0.8626 - val_loss: 0.4719 - val_accuracy: 0.8034\n",
            "Epoch 10/35\n",
            "12/12 [==============================] - 0s 6ms/step - loss: 0.3167 - accuracy: 0.8668 - val_loss: 0.4683 - val_accuracy: 0.8090\n",
            "Epoch 11/35\n",
            "12/12 [==============================] - 0s 5ms/step - loss: 0.3116 - accuracy: 0.8612 - val_loss: 0.4681 - val_accuracy: 0.8090\n",
            "Epoch 12/35\n",
            "12/12 [==============================] - 0s 6ms/step - loss: 0.3144 - accuracy: 0.8640 - val_loss: 0.4661 - val_accuracy: 0.8258\n",
            "Epoch 13/35\n",
            "12/12 [==============================] - 0s 7ms/step - loss: 0.3097 - accuracy: 0.8668 - val_loss: 0.4792 - val_accuracy: 0.8034\n",
            "Epoch 14/35\n",
            "12/12 [==============================] - 0s 6ms/step - loss: 0.3200 - accuracy: 0.8626 - val_loss: 0.4842 - val_accuracy: 0.7978\n",
            "Epoch 15/35\n",
            "12/12 [==============================] - 0s 7ms/step - loss: 0.3136 - accuracy: 0.8710 - val_loss: 0.4806 - val_accuracy: 0.8090\n",
            "Epoch 16/35\n",
            "12/12 [==============================] - 0s 6ms/step - loss: 0.3141 - accuracy: 0.8780 - val_loss: 0.4780 - val_accuracy: 0.8202\n",
            "Epoch 17/35\n",
            "12/12 [==============================] - 0s 7ms/step - loss: 0.3072 - accuracy: 0.8696 - val_loss: 0.4911 - val_accuracy: 0.8090\n",
            "Epoch 18/35\n",
            "12/12 [==============================] - 0s 6ms/step - loss: 0.3066 - accuracy: 0.8780 - val_loss: 0.4915 - val_accuracy: 0.8034\n",
            "Epoch 19/35\n",
            "12/12 [==============================] - 0s 6ms/step - loss: 0.3056 - accuracy: 0.8682 - val_loss: 0.4910 - val_accuracy: 0.8258\n",
            "Epoch 20/35\n",
            "12/12 [==============================] - 0s 6ms/step - loss: 0.3049 - accuracy: 0.8794 - val_loss: 0.4797 - val_accuracy: 0.7978\n",
            "Epoch 21/35\n",
            "12/12 [==============================] - 0s 7ms/step - loss: 0.3012 - accuracy: 0.8780 - val_loss: 0.4946 - val_accuracy: 0.8146\n",
            "Epoch 22/35\n",
            "12/12 [==============================] - 0s 7ms/step - loss: 0.3026 - accuracy: 0.8738 - val_loss: 0.5017 - val_accuracy: 0.8034\n",
            "Epoch 23/35\n",
            "12/12 [==============================] - 0s 7ms/step - loss: 0.3025 - accuracy: 0.8780 - val_loss: 0.5051 - val_accuracy: 0.7865\n",
            "Epoch 24/35\n",
            "12/12 [==============================] - 0s 6ms/step - loss: 0.3031 - accuracy: 0.8780 - val_loss: 0.5052 - val_accuracy: 0.8090\n",
            "Epoch 25/35\n",
            "12/12 [==============================] - 0s 8ms/step - loss: 0.3000 - accuracy: 0.8794 - val_loss: 0.4886 - val_accuracy: 0.8202\n",
            "Epoch 26/35\n",
            "12/12 [==============================] - 0s 6ms/step - loss: 0.3009 - accuracy: 0.8738 - val_loss: 0.5115 - val_accuracy: 0.8034\n",
            "Epoch 27/35\n",
            "12/12 [==============================] - 0s 6ms/step - loss: 0.3043 - accuracy: 0.8752 - val_loss: 0.5149 - val_accuracy: 0.8034\n",
            "Epoch 28/35\n",
            "12/12 [==============================] - 0s 7ms/step - loss: 0.2976 - accuracy: 0.8780 - val_loss: 0.5267 - val_accuracy: 0.8090\n",
            "Epoch 29/35\n",
            "12/12 [==============================] - 0s 7ms/step - loss: 0.2978 - accuracy: 0.8794 - val_loss: 0.5414 - val_accuracy: 0.7921\n",
            "Epoch 30/35\n",
            "12/12 [==============================] - 0s 8ms/step - loss: 0.2988 - accuracy: 0.8864 - val_loss: 0.5387 - val_accuracy: 0.7921\n",
            "Epoch 31/35\n",
            "12/12 [==============================] - 0s 8ms/step - loss: 0.2956 - accuracy: 0.8766 - val_loss: 0.5234 - val_accuracy: 0.8146\n",
            "Epoch 32/35\n",
            "12/12 [==============================] - 0s 6ms/step - loss: 0.2931 - accuracy: 0.8766 - val_loss: 0.5208 - val_accuracy: 0.7978\n",
            "Epoch 33/35\n",
            "12/12 [==============================] - 0s 6ms/step - loss: 0.3045 - accuracy: 0.8808 - val_loss: 0.5267 - val_accuracy: 0.7921\n",
            "Epoch 34/35\n",
            "12/12 [==============================] - 0s 6ms/step - loss: 0.2997 - accuracy: 0.8780 - val_loss: 0.5104 - val_accuracy: 0.7921\n",
            "Epoch 35/35\n",
            "12/12 [==============================] - 0s 6ms/step - loss: 0.2973 - accuracy: 0.8738 - val_loss: 0.5488 - val_accuracy: 0.7865\n"
          ]
        }
      ]
    },
    {
      "cell_type": "code",
      "metadata": {
        "colab": {
          "base_uri": "https://localhost:8080/"
        },
        "id": "rfkZRO3M9oE3",
        "outputId": "2ed51162-9a3b-45d7-ca54-27f1471ef1ec"
      },
      "source": [
        "%matplotlib inline\n",
        "plt.plot(r.history['val_accuracy'], label='val_acc')\n",
        "plt.plot(r.history['val_loss'], label='val_loss')\n",
        "plt.legend()\n",
        "plt.show()"
      ],
      "execution_count": null,
      "outputs": [
        {
          "output_type": "display_data",
          "data": {
            "image/png": "[encoded data removed]",
            "text/plain": [
              "<Figure size 432x288 with 1 Axes>"
            ]
          },
          "metadata": {
            "needs_background": "light"
          }
        }
      ]
    },
    {
      "cell_type": "code",
      "metadata": {
        "id": "uZoYWxw49oE3"
      },
      "source": [
        "y_pred_raw = model.predict(x_test)\n",
        "y_pred_raw = [[1-x[0],x[0]] for x in y_pred_raw]"
      ],
      "execution_count": null,
      "outputs": []
    },
    {
      "cell_type": "code",
      "metadata": {
        "colab": {
          "base_uri": "https://localhost:8080/"
        },
        "id": "jm3aszug9oE4",
        "outputId": "553f15ff-0bac-44c5-f459-a09338a17158"
      },
      "source": [
        "df_metrics_nn = cuts(y_pred_raw)\n",
        "df_metrics_nn.sort_values(by=['Accuracy', 'Precision'], ascending=False).head(10)"
      ],
      "execution_count": null,
      "outputs": [
        {
          "output_type": "stream",
          "name": "stderr",
          "text": [
            "/usr/local/lib/python3.7/dist-packages/sklearn/metrics/_classification.py:1272: UndefinedMetricWarning:\n",
            "\n",
            "Precision is ill-defined and being set to 0.0 due to no predicted samples. Use `zero_division` parameter to control this behavior.\n",
            "\n"
          ]
        },
        {
          "output_type": "execute_result",
          "data": {
            "text/html": [
              "<div>\n",
              "<style scoped>\n",
              "    .dataframe tbody tr th:only-of-type {\n",
              "        vertical-align: middle;\n",
              "    }\n",
              "\n",
              "    .dataframe tbody tr th {\n",
              "        vertical-align: top;\n",
              "    }\n",
              "\n",
              "    .dataframe thead th {\n",
              "        text-align: right;\n",
              "    }\n",
              "</style>\n",
              "<table border=\"1\" class=\"dataframe\">\n",
              "  <thead>\n",
              "    <tr style=\"text-align: right;\">\n",
              "      <th></th>\n",
              "      <th>Cut</th>\n",
              "      <th>Accuracy</th>\n",
              "      <th>Recall</th>\n",
              "      <th>Precision</th>\n",
              "      <th>F1</th>\n",
              "    </tr>\n",
              "  </thead>\n",
              "  <tbody>\n",
              "    <tr>\n",
              "      <th>715</th>\n",
              "      <td>0.715</td>\n",
              "      <td>0.808989</td>\n",
              "      <td>0.633803</td>\n",
              "      <td>0.849057</td>\n",
              "      <td>0.725806</td>\n",
              "    </tr>\n",
              "    <tr>\n",
              "      <th>716</th>\n",
              "      <td>0.716</td>\n",
              "      <td>0.808989</td>\n",
              "      <td>0.633803</td>\n",
              "      <td>0.849057</td>\n",
              "      <td>0.725806</td>\n",
              "    </tr>\n",
              "    <tr>\n",
              "      <th>717</th>\n",
              "      <td>0.717</td>\n",
              "      <td>0.808989</td>\n",
              "      <td>0.633803</td>\n",
              "      <td>0.849057</td>\n",
              "      <td>0.725806</td>\n",
              "    </tr>\n",
              "    <tr>\n",
              "      <th>718</th>\n",
              "      <td>0.718</td>\n",
              "      <td>0.808989</td>\n",
              "      <td>0.633803</td>\n",
              "      <td>0.849057</td>\n",
              "      <td>0.725806</td>\n",
              "    </tr>\n",
              "    <tr>\n",
              "      <th>719</th>\n",
              "      <td>0.719</td>\n",
              "      <td>0.808989</td>\n",
              "      <td>0.633803</td>\n",
              "      <td>0.849057</td>\n",
              "      <td>0.725806</td>\n",
              "    </tr>\n",
              "    <tr>\n",
              "      <th>720</th>\n",
              "      <td>0.720</td>\n",
              "      <td>0.808989</td>\n",
              "      <td>0.633803</td>\n",
              "      <td>0.849057</td>\n",
              "      <td>0.725806</td>\n",
              "    </tr>\n",
              "    <tr>\n",
              "      <th>721</th>\n",
              "      <td>0.721</td>\n",
              "      <td>0.808989</td>\n",
              "      <td>0.633803</td>\n",
              "      <td>0.849057</td>\n",
              "      <td>0.725806</td>\n",
              "    </tr>\n",
              "    <tr>\n",
              "      <th>722</th>\n",
              "      <td>0.722</td>\n",
              "      <td>0.808989</td>\n",
              "      <td>0.633803</td>\n",
              "      <td>0.849057</td>\n",
              "      <td>0.725806</td>\n",
              "    </tr>\n",
              "    <tr>\n",
              "      <th>723</th>\n",
              "      <td>0.723</td>\n",
              "      <td>0.808989</td>\n",
              "      <td>0.633803</td>\n",
              "      <td>0.849057</td>\n",
              "      <td>0.725806</td>\n",
              "    </tr>\n",
              "    <tr>\n",
              "      <th>724</th>\n",
              "      <td>0.724</td>\n",
              "      <td>0.808989</td>\n",
              "      <td>0.633803</td>\n",
              "      <td>0.849057</td>\n",
              "      <td>0.725806</td>\n",
              "    </tr>\n",
              "  </tbody>\n",
              "</table>\n",
              "</div>"
            ],
            "text/plain": [
              "       Cut  Accuracy    Recall  Precision        F1\n",
              "715  0.715  0.808989  0.633803   0.849057  0.725806\n",
              "716  0.716  0.808989  0.633803   0.849057  0.725806\n",
              "717  0.717  0.808989  0.633803   0.849057  0.725806\n",
              "718  0.718  0.808989  0.633803   0.849057  0.725806\n",
              "719  0.719  0.808989  0.633803   0.849057  0.725806\n",
              "720  0.720  0.808989  0.633803   0.849057  0.725806\n",
              "721  0.721  0.808989  0.633803   0.849057  0.725806\n",
              "722  0.722  0.808989  0.633803   0.849057  0.725806\n",
              "723  0.723  0.808989  0.633803   0.849057  0.725806\n",
              "724  0.724  0.808989  0.633803   0.849057  0.725806"
            ]
          },
          "metadata": {},
          "execution_count": 167
        }
      ]
    },
    {
      "cell_type": "markdown",
      "metadata": {
        "id": "GDTZdR5z93MK"
      },
      "source": [
        "###Caso 3: Tamaño de porción:32, Número de épocas=50"
      ]
    },
    {
      "cell_type": "code",
      "metadata": {
        "id": "LmnKx76z93ML"
      },
      "source": [
        "batch_size=32\n",
        "epochs=50"
      ],
      "execution_count": null,
      "outputs": []
    },
    {
      "cell_type": "markdown",
      "metadata": {
        "id": "XUfIBNkB93ML"
      },
      "source": [
        "Se entrena el modelo"
      ]
    },
    {
      "cell_type": "code",
      "metadata": {
        "colab": {
          "base_uri": "https://localhost:8080/"
        },
        "id": "lhiECqxw93ML",
        "outputId": "ed3347fb-900b-46f7-e3d1-57755e635706"
      },
      "source": [
        "r = model.fit(x_train, y_train, batch_size = batch_size, epochs = epochs,\n",
        " validation_data=(x_test,y_test))"
      ],
      "execution_count": null,
      "outputs": [
        {
          "output_type": "stream",
          "name": "stdout",
          "text": [
            "Epoch 1/50\n",
            "23/23 [==============================] - 0s 7ms/step - loss: 0.3095 - accuracy: 0.8724 - val_loss: 0.5483 - val_accuracy: 0.7978\n",
            "Epoch 2/50\n",
            "23/23 [==============================] - 0s 6ms/step - loss: 0.3037 - accuracy: 0.8822 - val_loss: 0.5221 - val_accuracy: 0.7921\n",
            "Epoch 3/50\n",
            "23/23 [==============================] - 0s 6ms/step - loss: 0.2970 - accuracy: 0.8766 - val_loss: 0.5737 - val_accuracy: 0.7978\n",
            "Epoch 4/50\n",
            "23/23 [==============================] - 0s 5ms/step - loss: 0.2978 - accuracy: 0.8724 - val_loss: 0.5489 - val_accuracy: 0.8090\n",
            "Epoch 5/50\n",
            "23/23 [==============================] - 0s 5ms/step - loss: 0.3172 - accuracy: 0.8640 - val_loss: 0.5650 - val_accuracy: 0.7865\n",
            "Epoch 6/50\n",
            "23/23 [==============================] - 0s 6ms/step - loss: 0.3057 - accuracy: 0.8738 - val_loss: 0.5265 - val_accuracy: 0.8090\n",
            "Epoch 7/50\n",
            "23/23 [==============================] - 0s 5ms/step - loss: 0.2958 - accuracy: 0.8738 - val_loss: 0.5514 - val_accuracy: 0.8090\n",
            "Epoch 8/50\n",
            "23/23 [==============================] - 0s 5ms/step - loss: 0.2997 - accuracy: 0.8822 - val_loss: 0.5501 - val_accuracy: 0.8090\n",
            "Epoch 9/50\n",
            "23/23 [==============================] - 0s 5ms/step - loss: 0.2883 - accuracy: 0.8850 - val_loss: 0.5894 - val_accuracy: 0.7921\n",
            "Epoch 10/50\n",
            "23/23 [==============================] - 0s 6ms/step - loss: 0.2913 - accuracy: 0.8822 - val_loss: 0.5772 - val_accuracy: 0.7921\n",
            "Epoch 11/50\n",
            "23/23 [==============================] - 0s 5ms/step - loss: 0.2872 - accuracy: 0.8920 - val_loss: 0.5730 - val_accuracy: 0.7978\n",
            "Epoch 12/50\n",
            "23/23 [==============================] - 0s 6ms/step - loss: 0.2893 - accuracy: 0.8808 - val_loss: 0.5797 - val_accuracy: 0.7978\n",
            "Epoch 13/50\n",
            "23/23 [==============================] - 0s 6ms/step - loss: 0.2914 - accuracy: 0.8906 - val_loss: 0.6126 - val_accuracy: 0.7921\n",
            "Epoch 14/50\n",
            "23/23 [==============================] - 0s 5ms/step - loss: 0.2923 - accuracy: 0.8780 - val_loss: 0.5644 - val_accuracy: 0.7921\n",
            "Epoch 15/50\n",
            "23/23 [==============================] - 0s 6ms/step - loss: 0.2892 - accuracy: 0.8808 - val_loss: 0.5900 - val_accuracy: 0.8146\n",
            "Epoch 16/50\n",
            "23/23 [==============================] - 0s 5ms/step - loss: 0.2957 - accuracy: 0.8724 - val_loss: 0.5924 - val_accuracy: 0.7753\n",
            "Epoch 17/50\n",
            "23/23 [==============================] - 0s 6ms/step - loss: 0.2780 - accuracy: 0.8850 - val_loss: 0.5939 - val_accuracy: 0.8034\n",
            "Epoch 18/50\n",
            "23/23 [==============================] - 0s 5ms/step - loss: 0.2748 - accuracy: 0.8920 - val_loss: 0.5738 - val_accuracy: 0.8034\n",
            "Epoch 19/50\n",
            "23/23 [==============================] - 0s 6ms/step - loss: 0.2829 - accuracy: 0.8850 - val_loss: 0.6238 - val_accuracy: 0.7921\n",
            "Epoch 20/50\n",
            "23/23 [==============================] - 0s 5ms/step - loss: 0.2830 - accuracy: 0.8780 - val_loss: 0.6278 - val_accuracy: 0.7809\n",
            "Epoch 21/50\n",
            "23/23 [==============================] - 0s 6ms/step - loss: 0.2793 - accuracy: 0.8920 - val_loss: 0.6031 - val_accuracy: 0.7753\n",
            "Epoch 22/50\n",
            "23/23 [==============================] - 0s 5ms/step - loss: 0.2769 - accuracy: 0.8878 - val_loss: 0.6121 - val_accuracy: 0.7921\n",
            "Epoch 23/50\n",
            "23/23 [==============================] - 0s 5ms/step - loss: 0.2957 - accuracy: 0.8766 - val_loss: 0.6301 - val_accuracy: 0.7809\n",
            "Epoch 24/50\n",
            "23/23 [==============================] - 0s 5ms/step - loss: 0.2817 - accuracy: 0.8906 - val_loss: 0.5916 - val_accuracy: 0.7809\n",
            "Epoch 25/50\n",
            "23/23 [==============================] - 0s 5ms/step - loss: 0.2847 - accuracy: 0.8892 - val_loss: 0.5795 - val_accuracy: 0.7978\n",
            "Epoch 26/50\n",
            "23/23 [==============================] - 0s 6ms/step - loss: 0.2927 - accuracy: 0.8780 - val_loss: 0.6223 - val_accuracy: 0.7584\n",
            "Epoch 27/50\n",
            "23/23 [==============================] - 0s 5ms/step - loss: 0.2793 - accuracy: 0.8836 - val_loss: 0.6161 - val_accuracy: 0.7978\n",
            "Epoch 28/50\n",
            "23/23 [==============================] - 0s 5ms/step - loss: 0.2725 - accuracy: 0.8906 - val_loss: 0.6315 - val_accuracy: 0.7865\n",
            "Epoch 29/50\n",
            "23/23 [==============================] - 0s 6ms/step - loss: 0.2668 - accuracy: 0.8878 - val_loss: 0.6341 - val_accuracy: 0.7753\n",
            "Epoch 30/50\n",
            "23/23 [==============================] - 0s 6ms/step - loss: 0.2753 - accuracy: 0.8864 - val_loss: 0.6289 - val_accuracy: 0.7865\n",
            "Epoch 31/50\n",
            "23/23 [==============================] - 0s 5ms/step - loss: 0.2726 - accuracy: 0.8836 - val_loss: 0.6535 - val_accuracy: 0.7809\n",
            "Epoch 32/50\n",
            "23/23 [==============================] - 0s 5ms/step - loss: 0.2752 - accuracy: 0.8878 - val_loss: 0.6396 - val_accuracy: 0.7865\n",
            "Epoch 33/50\n",
            "23/23 [==============================] - 0s 5ms/step - loss: 0.2697 - accuracy: 0.8892 - val_loss: 0.6571 - val_accuracy: 0.7809\n",
            "Epoch 34/50\n",
            "23/23 [==============================] - 0s 5ms/step - loss: 0.2681 - accuracy: 0.8878 - val_loss: 0.6551 - val_accuracy: 0.7978\n",
            "Epoch 35/50\n",
            "23/23 [==============================] - 0s 5ms/step - loss: 0.2697 - accuracy: 0.8878 - val_loss: 0.6492 - val_accuracy: 0.7921\n",
            "Epoch 36/50\n",
            "23/23 [==============================] - 0s 6ms/step - loss: 0.2717 - accuracy: 0.8920 - val_loss: 0.6692 - val_accuracy: 0.7753\n",
            "Epoch 37/50\n",
            "23/23 [==============================] - 0s 5ms/step - loss: 0.2684 - accuracy: 0.8878 - val_loss: 0.6714 - val_accuracy: 0.7809\n",
            "Epoch 38/50\n",
            "23/23 [==============================] - 0s 5ms/step - loss: 0.2633 - accuracy: 0.8906 - val_loss: 0.6669 - val_accuracy: 0.7584\n",
            "Epoch 39/50\n",
            "23/23 [==============================] - 0s 5ms/step - loss: 0.2643 - accuracy: 0.8878 - val_loss: 0.6677 - val_accuracy: 0.7865\n",
            "Epoch 40/50\n",
            "23/23 [==============================] - 0s 6ms/step - loss: 0.2578 - accuracy: 0.8962 - val_loss: 0.6601 - val_accuracy: 0.7640\n",
            "Epoch 41/50\n",
            "23/23 [==============================] - 0s 6ms/step - loss: 0.2624 - accuracy: 0.8892 - val_loss: 0.7033 - val_accuracy: 0.7921\n",
            "Epoch 42/50\n",
            "23/23 [==============================] - 0s 6ms/step - loss: 0.2616 - accuracy: 0.8962 - val_loss: 0.6827 - val_accuracy: 0.7809\n",
            "Epoch 43/50\n",
            "23/23 [==============================] - 0s 5ms/step - loss: 0.2671 - accuracy: 0.8878 - val_loss: 0.6607 - val_accuracy: 0.7978\n",
            "Epoch 44/50\n",
            "23/23 [==============================] - 0s 5ms/step - loss: 0.2609 - accuracy: 0.8906 - val_loss: 0.6692 - val_accuracy: 0.7697\n",
            "Epoch 45/50\n",
            "23/23 [==============================] - 0s 5ms/step - loss: 0.2620 - accuracy: 0.8906 - val_loss: 0.6865 - val_accuracy: 0.7865\n",
            "Epoch 46/50\n",
            "23/23 [==============================] - 0s 6ms/step - loss: 0.2609 - accuracy: 0.8948 - val_loss: 0.6993 - val_accuracy: 0.7753\n",
            "Epoch 47/50\n",
            "23/23 [==============================] - 0s 6ms/step - loss: 0.2634 - accuracy: 0.8864 - val_loss: 0.6935 - val_accuracy: 0.7753\n",
            "Epoch 48/50\n",
            "23/23 [==============================] - 0s 6ms/step - loss: 0.2650 - accuracy: 0.8864 - val_loss: 0.7301 - val_accuracy: 0.7753\n",
            "Epoch 49/50\n",
            "23/23 [==============================] - 0s 6ms/step - loss: 0.2595 - accuracy: 0.8892 - val_loss: 0.6832 - val_accuracy: 0.7809\n",
            "Epoch 50/50\n",
            "23/23 [==============================] - 0s 6ms/step - loss: 0.2558 - accuracy: 0.8934 - val_loss: 0.7367 - val_accuracy: 0.7809\n"
          ]
        }
      ]
    },
    {
      "cell_type": "code",
      "metadata": {
        "colab": {
          "base_uri": "https://localhost:8080/"
        },
        "id": "306MQ7Tk93MM",
        "outputId": "041abbeb-8a94-4199-d5c9-5c738361b171"
      },
      "source": [
        "%matplotlib inline\n",
        "plt.plot(r.history['val_accuracy'], label='val_acc')\n",
        "plt.plot(r.history['val_loss'], label='val_loss')\n",
        "plt.legend()\n",
        "plt.show()"
      ],
      "execution_count": null,
      "outputs": [
        {
          "output_type": "display_data",
          "data": {
            "image/png": "[encoded data removed]",
            "text/plain": [
              "<Figure size 432x288 with 1 Axes>"
            ]
          },
          "metadata": {
            "needs_background": "light"
          }
        }
      ]
    },
    {
      "cell_type": "code",
      "metadata": {
        "id": "NqMHK5TC93MM"
      },
      "source": [
        "y_pred_raw = model.predict(x_test)\n",
        "y_pred_raw = [[1-x[0],x[0]] for x in y_pred_raw]"
      ],
      "execution_count": null,
      "outputs": []
    },
    {
      "cell_type": "code",
      "metadata": {
        "colab": {
          "base_uri": "https://localhost:8080/"
        },
        "id": "Osd3EFzl93MM",
        "outputId": "ccd4d44f-3fc4-48f3-b721-4944eb3aad55"
      },
      "source": [
        "df_metrics_nn = cuts(y_pred_raw)\n",
        "df_metrics_nn.sort_values(by=['Accuracy', 'Precision'], ascending=False).head(10)"
      ],
      "execution_count": null,
      "outputs": [
        {
          "output_type": "execute_result",
          "data": {
            "text/html": [
              "<div>\n",
              "<style scoped>\n",
              "    .dataframe tbody tr th:only-of-type {\n",
              "        vertical-align: middle;\n",
              "    }\n",
              "\n",
              "    .dataframe tbody tr th {\n",
              "        vertical-align: top;\n",
              "    }\n",
              "\n",
              "    .dataframe thead th {\n",
              "        text-align: right;\n",
              "    }\n",
              "</style>\n",
              "<table border=\"1\" class=\"dataframe\">\n",
              "  <thead>\n",
              "    <tr style=\"text-align: right;\">\n",
              "      <th></th>\n",
              "      <th>Cut</th>\n",
              "      <th>Accuracy</th>\n",
              "      <th>Recall</th>\n",
              "      <th>Precision</th>\n",
              "      <th>F1</th>\n",
              "    </tr>\n",
              "  </thead>\n",
              "  <tbody>\n",
              "    <tr>\n",
              "      <th>605</th>\n",
              "      <td>0.605</td>\n",
              "      <td>0.786517</td>\n",
              "      <td>0.676056</td>\n",
              "      <td>0.761905</td>\n",
              "      <td>0.716418</td>\n",
              "    </tr>\n",
              "    <tr>\n",
              "      <th>606</th>\n",
              "      <td>0.606</td>\n",
              "      <td>0.786517</td>\n",
              "      <td>0.676056</td>\n",
              "      <td>0.761905</td>\n",
              "      <td>0.716418</td>\n",
              "    </tr>\n",
              "    <tr>\n",
              "      <th>607</th>\n",
              "      <td>0.607</td>\n",
              "      <td>0.786517</td>\n",
              "      <td>0.676056</td>\n",
              "      <td>0.761905</td>\n",
              "      <td>0.716418</td>\n",
              "    </tr>\n",
              "    <tr>\n",
              "      <th>608</th>\n",
              "      <td>0.608</td>\n",
              "      <td>0.786517</td>\n",
              "      <td>0.676056</td>\n",
              "      <td>0.761905</td>\n",
              "      <td>0.716418</td>\n",
              "    </tr>\n",
              "    <tr>\n",
              "      <th>609</th>\n",
              "      <td>0.609</td>\n",
              "      <td>0.786517</td>\n",
              "      <td>0.676056</td>\n",
              "      <td>0.761905</td>\n",
              "      <td>0.716418</td>\n",
              "    </tr>\n",
              "    <tr>\n",
              "      <th>610</th>\n",
              "      <td>0.610</td>\n",
              "      <td>0.786517</td>\n",
              "      <td>0.676056</td>\n",
              "      <td>0.761905</td>\n",
              "      <td>0.716418</td>\n",
              "    </tr>\n",
              "    <tr>\n",
              "      <th>611</th>\n",
              "      <td>0.611</td>\n",
              "      <td>0.786517</td>\n",
              "      <td>0.676056</td>\n",
              "      <td>0.761905</td>\n",
              "      <td>0.716418</td>\n",
              "    </tr>\n",
              "    <tr>\n",
              "      <th>612</th>\n",
              "      <td>0.612</td>\n",
              "      <td>0.786517</td>\n",
              "      <td>0.676056</td>\n",
              "      <td>0.761905</td>\n",
              "      <td>0.716418</td>\n",
              "    </tr>\n",
              "    <tr>\n",
              "      <th>613</th>\n",
              "      <td>0.613</td>\n",
              "      <td>0.786517</td>\n",
              "      <td>0.676056</td>\n",
              "      <td>0.761905</td>\n",
              "      <td>0.716418</td>\n",
              "    </tr>\n",
              "    <tr>\n",
              "      <th>614</th>\n",
              "      <td>0.614</td>\n",
              "      <td>0.786517</td>\n",
              "      <td>0.676056</td>\n",
              "      <td>0.761905</td>\n",
              "      <td>0.716418</td>\n",
              "    </tr>\n",
              "  </tbody>\n",
              "</table>\n",
              "</div>"
            ],
            "text/plain": [
              "       Cut  Accuracy    Recall  Precision        F1\n",
              "605  0.605  0.786517  0.676056   0.761905  0.716418\n",
              "606  0.606  0.786517  0.676056   0.761905  0.716418\n",
              "607  0.607  0.786517  0.676056   0.761905  0.716418\n",
              "608  0.608  0.786517  0.676056   0.761905  0.716418\n",
              "609  0.609  0.786517  0.676056   0.761905  0.716418\n",
              "610  0.610  0.786517  0.676056   0.761905  0.716418\n",
              "611  0.611  0.786517  0.676056   0.761905  0.716418\n",
              "612  0.612  0.786517  0.676056   0.761905  0.716418\n",
              "613  0.613  0.786517  0.676056   0.761905  0.716418\n",
              "614  0.614  0.786517  0.676056   0.761905  0.716418"
            ]
          },
          "metadata": {},
          "execution_count": 172
        }
      ]
    }
  ]
}